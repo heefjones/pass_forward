{
 "cells": [
  {
   "cell_type": "markdown",
   "metadata": {},
   "source": [
    "# Import Data"
   ]
  },
  {
   "cell_type": "code",
   "execution_count": 1,
   "metadata": {
    "ExecuteTime": {
     "end_time": "2023-12-08T23:36:40.157390Z",
     "start_time": "2023-12-08T23:36:38.001504Z"
    }
   },
   "outputs": [],
   "source": [
    "# helper.py\n",
    "from helper import *"
   ]
  },
  {
   "cell_type": "code",
   "execution_count": 3,
   "metadata": {
    "ExecuteTime": {
     "end_time": "2023-12-08T23:36:40.189390Z",
     "start_time": "2023-12-08T23:36:40.159390Z"
    }
   },
   "outputs": [
    {
     "data": {
      "text/plain": [
       "(1034, 227)"
      ]
     },
     "execution_count": 3,
     "metadata": {},
     "output_type": "execute_result"
    }
   ],
   "source": [
    "# load data\n",
    "df = pd.read_csv('./data/clean/features.csv').drop(['Unnamed: 0'], axis=1)\n",
    "\n",
    "# check\n",
    "df.shape[0], len(set(df.player))"
   ]
  },
  {
   "cell_type": "markdown",
   "metadata": {},
   "source": [
    "- Over 1000 QB seasons for training and validation.\n",
    "- 223 features (excluding player name, team, year, and target).\n",
    "- 227 unique QBs."
   ]
  },
  {
   "cell_type": "code",
   "execution_count": 4,
   "metadata": {},
   "outputs": [
    {
     "data": {
      "text/plain": [
       "(1034, 310)"
      ]
     },
     "execution_count": 4,
     "metadata": {},
     "output_type": "execute_result"
    }
   ],
   "source": [
    "df.shape"
   ]
  },
  {
   "cell_type": "code",
   "execution_count": 8,
   "metadata": {
    "ExecuteTime": {
     "end_time": "2023-11-28T17:36:30.057519Z",
     "start_time": "2023-11-28T17:36:30.036500Z"
    }
   },
   "outputs": [
    {
     "data": {
      "text/plain": [
       "(201, 6)"
      ]
     },
     "execution_count": 8,
     "metadata": {},
     "output_type": "execute_result"
    }
   ],
   "source": [
    "# df to store model results\n",
    "models_df = pd.read_csv('./models/models.csv').drop('Unnamed: 0', axis=1)\n",
    "models_df.shape"
   ]
  },
  {
   "cell_type": "code",
   "execution_count": null,
   "metadata": {
    "ExecuteTime": {
     "end_time": "2023-11-28T17:36:35.772997Z",
     "start_time": "2023-11-28T17:36:35.759987Z"
    }
   },
   "outputs": [],
   "source": [
    "def cross_val(estimator, df, poly=False, models_df=models_df, random_state=SEED):\n",
    "    \"\"\"    \n",
    "    Scale features from the dataframe, incorporating Polynomial Features if specified.\n",
    "    Perform 5-fold cross validation, append RMSE, R^2, and hyperparameters to models_df.\n",
    "    \n",
    "    Args:\n",
    "    - estimator (sklearn.estimator) - estimator to cross validate\n",
    "    - df (pandas.Dataframe) - dataframe to create X and y from\n",
    "    - poly (boolean) - if True, transform features into polynomial\n",
    "    \n",
    "    Returns:\n",
    "    - rmse (float) - average Root-Mean_Squared-Error from cross validation\n",
    "    - r2 (float) - average R^2 from cross validation\n",
    "    \"\"\"\n",
    "\n",
    "    # non-feature cols\n",
    "    non_feature_cols = ['player', 'team_name', 'year', 'target']\n",
    "    \n",
    "    # features and target\n",
    "    X = df.drop(non_feature_cols, axis=1)\n",
    "    y = df.target\n",
    "\n",
    "    # create pieline\n",
    "    pipeline = Pipeline([('scaler', StandardScaler()), ('estimator', estimator)])\n",
    "        \n",
    "    # polynomial features with degree = 2    \n",
    "    if poly:\n",
    "        pipeline = Pipeline([('scaler', StandardScaler()), ('poly', PolynomialFeatures(degree=2)), ('estimator', estimator)])\n",
    "    \n",
    "    # 5-fold cross validation\n",
    "    results = cross_validate(pipeline, X, y, cv=5, scoring=['neg_root_mean_squared_error', 'r2'])\n",
    "    \n",
    "    # get rmse and r-squared\n",
    "    rmse = results['test_neg_root_mean_squared_error'].mean() * -1\n",
    "    r2 = results['test_r2'].mean()\n",
    "    \n",
    "    # append results to models_df\n",
    "    models_df.loc[len(models_df.index)] = [str(estimator), rmse, r2, poly]\n",
    "    \n",
    "    return rmse, r2"
   ]
  },
  {
   "cell_type": "markdown",
   "metadata": {},
   "source": [
    "# Models\n",
    "- Below, we create unique feature subsets and test them on 5 different machine learning algorithms."
   ]
  },
  {
   "cell_type": "code",
   "execution_count": 7,
   "metadata": {
    "ExecuteTime": {
     "end_time": "2023-12-08T23:36:57.170409Z",
     "start_time": "2023-12-08T23:36:57.162408Z"
    }
   },
   "outputs": [],
   "source": [
    "# all features\n",
    "all_feats = df.drop(['player', 'team_name', 'year', 'target'], axis=1).columns.tolist()\n",
    "\n",
    "# normalized stats in the form of percentages or averages\n",
    "percent_features = ['pass_accuracy_percent', 'pass_avg_depth_of_target', 'pass_avg_time_to_throw', 'pass_btt_rate', \n",
    "                    'pass_drop_rate', 'pass_grades_offense', 'pass_grades_pass', 'pass_pressure_to_sack_rate', \n",
    "                    'pass_sack_percent', 'pass_twp_rate', 'pass_ypa', 'rush_grades_run', 'rush_ypa', 'rush_yco_attempt', \n",
    "                    'pass_tds_gm', 'pass_yds_gm', 'exp', 'rolling_mean', 'rolling_std']\n",
    "\n",
    "# features that have > 0.3 correlation with target, also including engineered features\n",
    "high_corrs = ['player_game_count', 'pass_aimed_passes', 'pass_attempts', 'pass_bats', 'pass_big_time_throws', \n",
    "              'pass_completions', 'pass_def_gen_pressures', 'pass_dropbacks', 'pass_drops', 'pass_first_downs', \n",
    "              'pass_grades_offense', 'pass_grades_pass', 'pass_hit_as_threw', 'pass_interceptions', 'pass_passing_snaps', \n",
    "              'pass_penalties', 'pass_qb_rating', 'pass_sacks', 'pass_thrown_aways', 'pass_touchdowns', \n",
    "              'pass_turnover_worthy_plays', 'pass_yards', 'rush_attempts', 'rush_fumbles', 'rush_run_plays', \n",
    "              'rush_total_touches', 'rolling_mean', 'pass_tds_gm', 'pass_yds_gm', 'exp', 'rolling_std']\n",
    "\n",
    "# 3 grades statistics + 4 engineered features\n",
    "grades_only = ['pass_grades_offense', 'pass_grades_pass', 'rush_grades_run', 'pass_tds_gm', 'pass_yds_gm', 'exp', \n",
    "               'rolling_mean', 'rolling_std']\n",
    "\n",
    "# offensive grade + 4 engineered features\n",
    "grades_offense = ['pass_grades_offense', 'pass_tds_gm', 'pass_yds_gm', 'exp', 'rolling_mean', 'rolling_std']\n",
    "\n",
    "# grades_only + total touchdown statistics\n",
    "tds = grades_only + ['pass_tds_gm', 'pass_yds_gm']\n",
    "\n",
    "# using domain knowledge to pick features i think will be most meaningful\n",
    "intuition = ['pass_btt_rate', 'pass_twp_rate', 'pass_accuracy_percent', 'pass_pressure_to_sack_rate', 'rush_grades_run', \n",
    "                    'pass_tds_gm', 'pass_yds_gm', 'exp', 'rolling_mean', 'rolling_std']"
   ]
  },
  {
   "cell_type": "code",
   "execution_count": 8,
   "metadata": {
    "ExecuteTime": {
     "end_time": "2023-12-08T23:36:57.467380Z",
     "start_time": "2023-12-08T23:36:57.453382Z"
    }
   },
   "outputs": [],
   "source": [
    "# dict of name: feature subset\n",
    "feature_subset_dict = {'all_feats': all_feats, 'percent_features': percent_features, 'high_corrs': high_corrs, \n",
    "                       'grades_only': grades_only, 'grades_offense': grades_offense, 'tds': tds, 'intuition': intuition}"
   ]
  },
  {
   "cell_type": "markdown",
   "metadata": {},
   "source": [
    "### Linear Regression\n",
    "- Good 'ol linear regression."
   ]
  },
  {
   "cell_type": "code",
   "execution_count": 302,
   "metadata": {
    "ExecuteTime": {
     "end_time": "2023-11-18T18:08:12.965300Z",
     "start_time": "2023-11-18T18:08:12.951287Z"
    }
   },
   "outputs": [],
   "source": [
    "lr = LinearRegression()"
   ]
  },
  {
   "cell_type": "code",
   "execution_count": 303,
   "metadata": {
    "ExecuteTime": {
     "end_time": "2023-11-18T18:08:16.216251Z",
     "start_time": "2023-11-18T18:08:12.967301Z"
    },
    "scrolled": false
   },
   "outputs": [],
   "source": [
    "# normal data\n",
    "for i, (name, feats) in enumerate(feature_subset_dict.items()):\n",
    "    cross_val(lr, df=df, feature_subset=feats, feature_subset_str=name)\n",
    "    \n",
    "# with pca\n",
    "for i, (name, feats) in enumerate(feature_subset_dict.items()):\n",
    "    cross_val(lr, df=df, feature_subset=feats, feature_subset_str=name, pca=True)\n",
    "    \n",
    "# with poly\n",
    "for i, (name, feats) in enumerate(feature_subset_dict.items()):\n",
    "    cross_val(lr, df=df, feature_subset=feats, feature_subset_str=name, poly=True)\n",
    "    \n",
    "# both pca and poly\n",
    "for i, (name, feats) in enumerate(feature_subset_dict.items()):\n",
    "    cross_val(lr, df=df, feature_subset=feats, feature_subset_str=name, pca=True, poly=True)"
   ]
  },
  {
   "cell_type": "code",
   "execution_count": 304,
   "metadata": {
    "ExecuteTime": {
     "end_time": "2023-11-18T18:08:16.232266Z",
     "start_time": "2023-11-18T18:08:16.217252Z"
    }
   },
   "outputs": [
    {
     "data": {
      "text/html": [
       "<div>\n",
       "<style scoped>\n",
       "    .dataframe tbody tr th:only-of-type {\n",
       "        vertical-align: middle;\n",
       "    }\n",
       "\n",
       "    .dataframe tbody tr th {\n",
       "        vertical-align: top;\n",
       "    }\n",
       "\n",
       "    .dataframe thead th {\n",
       "        text-align: right;\n",
       "    }\n",
       "</style>\n",
       "<table border=\"1\" class=\"dataframe\">\n",
       "  <thead>\n",
       "    <tr style=\"text-align: right;\">\n",
       "      <th></th>\n",
       "      <th>rmse</th>\n",
       "      <th>r2</th>\n",
       "      <th>model</th>\n",
       "      <th>feats</th>\n",
       "      <th>pca</th>\n",
       "      <th>poly</th>\n",
       "    </tr>\n",
       "  </thead>\n",
       "  <tbody>\n",
       "    <tr>\n",
       "      <th>9</th>\n",
       "      <td>12.37</td>\n",
       "      <td>0.30</td>\n",
       "      <td>LinearRegression()</td>\n",
       "      <td>high_corrs</td>\n",
       "      <td>True</td>\n",
       "      <td>False</td>\n",
       "    </tr>\n",
       "    <tr>\n",
       "      <th>2</th>\n",
       "      <td>12.37</td>\n",
       "      <td>0.30</td>\n",
       "      <td>LinearRegression()</td>\n",
       "      <td>high_corrs</td>\n",
       "      <td>False</td>\n",
       "      <td>False</td>\n",
       "    </tr>\n",
       "    <tr>\n",
       "      <th>19</th>\n",
       "      <td>12.40</td>\n",
       "      <td>0.30</td>\n",
       "      <td>LinearRegression()</td>\n",
       "      <td>tds</td>\n",
       "      <td>False</td>\n",
       "      <td>True</td>\n",
       "    </tr>\n",
       "  </tbody>\n",
       "</table>\n",
       "</div>"
      ],
      "text/plain": [
       "    rmse   r2               model       feats    pca   poly\n",
       "9  12.37 0.30  LinearRegression()  high_corrs   True  False\n",
       "2  12.37 0.30  LinearRegression()  high_corrs  False  False\n",
       "19 12.40 0.30  LinearRegression()         tds  False   True"
      ]
     },
     "execution_count": 304,
     "metadata": {},
     "output_type": "execute_result"
    }
   ],
   "source": [
    "# 3 best LinReg\n",
    "models_df[models_df['model'].str.contains('Linear')].sort_values('rmse', ascending=True).head(3)"
   ]
  },
  {
   "cell_type": "markdown",
   "metadata": {},
   "source": [
    "- Best LinReg with a val RMSE of __12.37__. This is now our baseline to beat."
   ]
  },
  {
   "cell_type": "markdown",
   "metadata": {},
   "source": [
    "### KNN\n",
    "- KNN is known to perform well with small data sets. \n",
    "- It is also known to thrive with smaller feature sets."
   ]
  },
  {
   "cell_type": "code",
   "execution_count": 305,
   "metadata": {
    "ExecuteTime": {
     "end_time": "2023-11-18T18:08:16.248280Z",
     "start_time": "2023-11-18T18:08:16.234267Z"
    }
   },
   "outputs": [],
   "source": [
    "knn = KNeighborsRegressor()"
   ]
  },
  {
   "cell_type": "code",
   "execution_count": 306,
   "metadata": {
    "ExecuteTime": {
     "end_time": "2023-11-18T18:08:19.761471Z",
     "start_time": "2023-11-18T18:08:16.250282Z"
    },
    "scrolled": false
   },
   "outputs": [],
   "source": [
    "# normal data\n",
    "for i, (name, feats) in enumerate(feature_subset_dict.items()):\n",
    "    cross_val(knn, df=df, feature_subset=feats, feature_subset_str=name)\n",
    "    \n",
    "# with pca\n",
    "for i, (name, feats) in enumerate(feature_subset_dict.items()):\n",
    "    cross_val(knn, df=df, feature_subset=feats, feature_subset_str=name, pca=True)\n",
    "    \n",
    "# with poly\n",
    "for i, (name, feats) in enumerate(feature_subset_dict.items()):\n",
    "    cross_val(knn, df=df, feature_subset=feats, feature_subset_str=name, poly=True)\n",
    "    \n",
    "# both pca and poly\n",
    "for i, (name, feats) in enumerate(feature_subset_dict.items()):\n",
    "    cross_val(knn, df=df, feature_subset=feats, feature_subset_str=name, pca=True, poly=True)"
   ]
  },
  {
   "cell_type": "code",
   "execution_count": 307,
   "metadata": {
    "ExecuteTime": {
     "end_time": "2023-11-18T18:08:19.777485Z",
     "start_time": "2023-11-18T18:08:19.762471Z"
    }
   },
   "outputs": [
    {
     "data": {
      "text/html": [
       "<div>\n",
       "<style scoped>\n",
       "    .dataframe tbody tr th:only-of-type {\n",
       "        vertical-align: middle;\n",
       "    }\n",
       "\n",
       "    .dataframe tbody tr th {\n",
       "        vertical-align: top;\n",
       "    }\n",
       "\n",
       "    .dataframe thead th {\n",
       "        text-align: right;\n",
       "    }\n",
       "</style>\n",
       "<table border=\"1\" class=\"dataframe\">\n",
       "  <thead>\n",
       "    <tr style=\"text-align: right;\">\n",
       "      <th></th>\n",
       "      <th>rmse</th>\n",
       "      <th>r2</th>\n",
       "      <th>model</th>\n",
       "      <th>feats</th>\n",
       "      <th>pca</th>\n",
       "      <th>poly</th>\n",
       "    </tr>\n",
       "  </thead>\n",
       "  <tbody>\n",
       "    <tr>\n",
       "      <th>37</th>\n",
       "      <td>13.02</td>\n",
       "      <td>0.23</td>\n",
       "      <td>KNeighborsRegressor()</td>\n",
       "      <td>high_corrs</td>\n",
       "      <td>True</td>\n",
       "      <td>False</td>\n",
       "    </tr>\n",
       "    <tr>\n",
       "      <th>30</th>\n",
       "      <td>13.10</td>\n",
       "      <td>0.22</td>\n",
       "      <td>KNeighborsRegressor()</td>\n",
       "      <td>high_corrs</td>\n",
       "      <td>False</td>\n",
       "      <td>False</td>\n",
       "    </tr>\n",
       "    <tr>\n",
       "      <th>51</th>\n",
       "      <td>13.18</td>\n",
       "      <td>0.21</td>\n",
       "      <td>KNeighborsRegressor()</td>\n",
       "      <td>high_corrs</td>\n",
       "      <td>True</td>\n",
       "      <td>True</td>\n",
       "    </tr>\n",
       "  </tbody>\n",
       "</table>\n",
       "</div>"
      ],
      "text/plain": [
       "    rmse   r2                  model       feats    pca   poly\n",
       "37 13.02 0.23  KNeighborsRegressor()  high_corrs   True  False\n",
       "30 13.10 0.22  KNeighborsRegressor()  high_corrs  False  False\n",
       "51 13.18 0.21  KNeighborsRegressor()  high_corrs   True   True"
      ]
     },
     "execution_count": 307,
     "metadata": {},
     "output_type": "execute_result"
    }
   ],
   "source": [
    "models_df[models_df['model'].str.contains('KN')].sort_values('rmse', ascending=True).head(3)"
   ]
  },
  {
   "cell_type": "code",
   "execution_count": 308,
   "metadata": {
    "ExecuteTime": {
     "end_time": "2023-11-18T18:08:26.383585Z",
     "start_time": "2023-11-18T18:08:19.779487Z"
    },
    "scrolled": false
   },
   "outputs": [
    {
     "data": {
      "image/png": "[encoded data removed]",
      "text/plain": [
       "<Figure size 864x432 with 1 Axes>"
      ]
     },
     "metadata": {},
     "output_type": "display_data"
    }
   ],
   "source": [
    "# 2-100 neighbors, increment by 2\n",
    "k_values = range(2, 101, 2)\n",
    "\n",
    "# to hold losses\n",
    "losses = []\n",
    "\n",
    "for k in k_values:\n",
    "    knn = KNeighborsRegressor(n_neighbors=k)\n",
    "    \n",
    "    # use best subset found from above\n",
    "    rmse, r2 = cross_val(knn, df=df, feature_subset=high_corrs, feature_subset_str='high_corrs')\n",
    "    \n",
    "    # append losses\n",
    "    losses.append(rmse) \n",
    "    \n",
    "# plot results\n",
    "plt.figure(figsize=(12, 6))\n",
    "sns.lineplot(x=k_values, y=losses, color='red')\n",
    "\n",
    "plt.title('KNN performance using high_corrs subset')\n",
    "plt.ylabel('RMSE')\n",
    "plt.xlabel('n_neighbors');"
   ]
  },
  {
   "cell_type": "code",
   "execution_count": 309,
   "metadata": {
    "ExecuteTime": {
     "end_time": "2023-11-18T18:08:26.399599Z",
     "start_time": "2023-11-18T18:08:26.386588Z"
    }
   },
   "outputs": [
    {
     "data": {
      "text/html": [
       "<div>\n",
       "<style scoped>\n",
       "    .dataframe tbody tr th:only-of-type {\n",
       "        vertical-align: middle;\n",
       "    }\n",
       "\n",
       "    .dataframe tbody tr th {\n",
       "        vertical-align: top;\n",
       "    }\n",
       "\n",
       "    .dataframe thead th {\n",
       "        text-align: right;\n",
       "    }\n",
       "</style>\n",
       "<table border=\"1\" class=\"dataframe\">\n",
       "  <thead>\n",
       "    <tr style=\"text-align: right;\">\n",
       "      <th></th>\n",
       "      <th>rmse</th>\n",
       "      <th>r2</th>\n",
       "      <th>model</th>\n",
       "      <th>feats</th>\n",
       "      <th>pca</th>\n",
       "      <th>poly</th>\n",
       "    </tr>\n",
       "  </thead>\n",
       "  <tbody>\n",
       "    <tr>\n",
       "      <th>78</th>\n",
       "      <td>12.28</td>\n",
       "      <td>0.31</td>\n",
       "      <td>KNeighborsRegressor(n_neighbors=46)</td>\n",
       "      <td>high_corrs</td>\n",
       "      <td>False</td>\n",
       "      <td>False</td>\n",
       "    </tr>\n",
       "    <tr>\n",
       "      <th>79</th>\n",
       "      <td>12.29</td>\n",
       "      <td>0.31</td>\n",
       "      <td>KNeighborsRegressor(n_neighbors=48)</td>\n",
       "      <td>high_corrs</td>\n",
       "      <td>False</td>\n",
       "      <td>False</td>\n",
       "    </tr>\n",
       "    <tr>\n",
       "      <th>80</th>\n",
       "      <td>12.29</td>\n",
       "      <td>0.31</td>\n",
       "      <td>KNeighborsRegressor(n_neighbors=50)</td>\n",
       "      <td>high_corrs</td>\n",
       "      <td>False</td>\n",
       "      <td>False</td>\n",
       "    </tr>\n",
       "  </tbody>\n",
       "</table>\n",
       "</div>"
      ],
      "text/plain": [
       "    rmse   r2                                model       feats    pca   poly\n",
       "78 12.28 0.31  KNeighborsRegressor(n_neighbors=46)  high_corrs  False  False\n",
       "79 12.29 0.31  KNeighborsRegressor(n_neighbors=48)  high_corrs  False  False\n",
       "80 12.29 0.31  KNeighborsRegressor(n_neighbors=50)  high_corrs  False  False"
      ]
     },
     "execution_count": 309,
     "metadata": {},
     "output_type": "execute_result"
    }
   ],
   "source": [
    "# 3 best KNN\n",
    "models_df[models_df['model'].str.contains('KN')].sort_values('rmse', ascending=True).head(3)"
   ]
  },
  {
   "cell_type": "markdown",
   "metadata": {},
   "source": [
    "- Best KNN with a val RMSE of __12.28__. This is now our baseline to beat."
   ]
  },
  {
   "cell_type": "markdown",
   "metadata": {},
   "source": [
    "### Decision Tree\n",
    "- Decision trees are good at handling many features. This means the \"all_feats\" set will likely perform well."
   ]
  },
  {
   "cell_type": "code",
   "execution_count": 310,
   "metadata": {
    "ExecuteTime": {
     "end_time": "2023-11-18T18:08:26.415614Z",
     "start_time": "2023-11-18T18:08:26.401602Z"
    }
   },
   "outputs": [],
   "source": [
    "dt = DecisionTreeRegressor(random_state=random_state)"
   ]
  },
  {
   "cell_type": "code",
   "execution_count": 311,
   "metadata": {
    "ExecuteTime": {
     "end_time": "2023-11-18T18:08:27.502601Z",
     "start_time": "2023-11-18T18:08:26.416615Z"
    },
    "scrolled": false
   },
   "outputs": [],
   "source": [
    "for i, (name, feats) in enumerate(feature_subset_dict.items()):\n",
    "    cross_val(dt, df=df, feature_subset=feats, feature_subset_str=name)"
   ]
  },
  {
   "cell_type": "code",
   "execution_count": 312,
   "metadata": {
    "ExecuteTime": {
     "end_time": "2023-11-18T18:08:27.518615Z",
     "start_time": "2023-11-18T18:08:27.504603Z"
    }
   },
   "outputs": [
    {
     "data": {
      "text/html": [
       "<div>\n",
       "<style scoped>\n",
       "    .dataframe tbody tr th:only-of-type {\n",
       "        vertical-align: middle;\n",
       "    }\n",
       "\n",
       "    .dataframe tbody tr th {\n",
       "        vertical-align: top;\n",
       "    }\n",
       "\n",
       "    .dataframe thead th {\n",
       "        text-align: right;\n",
       "    }\n",
       "</style>\n",
       "<table border=\"1\" class=\"dataframe\">\n",
       "  <thead>\n",
       "    <tr style=\"text-align: right;\">\n",
       "      <th></th>\n",
       "      <th>rmse</th>\n",
       "      <th>r2</th>\n",
       "      <th>model</th>\n",
       "      <th>feats</th>\n",
       "      <th>pca</th>\n",
       "      <th>poly</th>\n",
       "    </tr>\n",
       "  </thead>\n",
       "  <tbody>\n",
       "    <tr>\n",
       "      <th>108</th>\n",
       "      <td>17.22</td>\n",
       "      <td>-0.35</td>\n",
       "      <td>DecisionTreeRegressor(random_state=9)</td>\n",
       "      <td>high_corrs</td>\n",
       "      <td>False</td>\n",
       "      <td>False</td>\n",
       "    </tr>\n",
       "    <tr>\n",
       "      <th>112</th>\n",
       "      <td>17.29</td>\n",
       "      <td>-0.36</td>\n",
       "      <td>DecisionTreeRegressor(random_state=9)</td>\n",
       "      <td>intuition</td>\n",
       "      <td>False</td>\n",
       "      <td>False</td>\n",
       "    </tr>\n",
       "    <tr>\n",
       "      <th>106</th>\n",
       "      <td>17.32</td>\n",
       "      <td>-0.37</td>\n",
       "      <td>DecisionTreeRegressor(random_state=9)</td>\n",
       "      <td>all_feats</td>\n",
       "      <td>False</td>\n",
       "      <td>False</td>\n",
       "    </tr>\n",
       "  </tbody>\n",
       "</table>\n",
       "</div>"
      ],
      "text/plain": [
       "     rmse    r2                                  model       feats    pca  \\\n",
       "108 17.22 -0.35  DecisionTreeRegressor(random_state=9)  high_corrs  False   \n",
       "112 17.29 -0.36  DecisionTreeRegressor(random_state=9)   intuition  False   \n",
       "106 17.32 -0.37  DecisionTreeRegressor(random_state=9)   all_feats  False   \n",
       "\n",
       "      poly  \n",
       "108  False  \n",
       "112  False  \n",
       "106  False  "
      ]
     },
     "execution_count": 312,
     "metadata": {},
     "output_type": "execute_result"
    }
   ],
   "source": [
    "models_df[models_df['model'].str.contains('Decision')].sort_values('rmse', ascending=True).head(3)"
   ]
  },
  {
   "cell_type": "code",
   "execution_count": 313,
   "metadata": {
    "ExecuteTime": {
     "end_time": "2023-11-18T18:08:30.383217Z",
     "start_time": "2023-11-18T18:08:27.519617Z"
    },
    "scrolled": false
   },
   "outputs": [
    {
     "data": {
      "image/png": "[encoded data removed]",
      "text/plain": [
       "<Figure size 864x432 with 1 Axes>"
      ]
     },
     "metadata": {},
     "output_type": "display_data"
    }
   ],
   "source": [
    "# max_depths from 2-20\n",
    "d_values = range(2, 21)\n",
    "\n",
    "# to hold losses\n",
    "losses = []\n",
    "\n",
    "for d in d_values:\n",
    "    dt = DecisionTreeRegressor(random_state=random_state, max_depth=d)\n",
    "    \n",
    "    # use best subset found from above\n",
    "    rmse, r2 = cross_val(dt, df=df, feature_subset=high_corrs, feature_subset_str='high_corrs')\n",
    "    \n",
    "    # append losses\n",
    "    losses.append(rmse) \n",
    "    \n",
    "# plot results\n",
    "plt.figure(figsize=(12, 6))\n",
    "sns.lineplot(x=d_values, y=losses, color='red')\n",
    "\n",
    "plt.title('DT performance using high_corrs subset')\n",
    "plt.ylabel('RMSE')\n",
    "plt.xlabel('max_depth');"
   ]
  },
  {
   "cell_type": "code",
   "execution_count": 314,
   "metadata": {
    "ExecuteTime": {
     "end_time": "2023-11-18T18:08:32.619248Z",
     "start_time": "2023-11-18T18:08:30.384218Z"
    },
    "scrolled": false
   },
   "outputs": [
    {
     "data": {
      "image/png": "[encoded data removed]",
      "text/plain": [
       "<Figure size 864x432 with 1 Axes>"
      ]
     },
     "metadata": {},
     "output_type": "display_data"
    }
   ],
   "source": [
    "# min_samples_split from 2- 200, increment by 10\n",
    "s_values = range(2, 203, 10)\n",
    "\n",
    "# to hold losses\n",
    "losses = []\n",
    "\n",
    "for s in s_values:\n",
    "    dt = DecisionTreeRegressor(random_state=random_state, min_samples_split=s)\n",
    "    \n",
    "    # use best subset found from above\n",
    "    rmse, r2 = cross_val(dt, df=df, feature_subset=high_corrs, feature_subset_str='high_corrs')\n",
    "    \n",
    "    # append losses\n",
    "    losses.append(rmse) \n",
    "    \n",
    "# plot results\n",
    "plt.figure(figsize=(12, 6))\n",
    "sns.lineplot(x=s_values, y=losses, color='red')\n",
    "\n",
    "plt.title('DT performance using high_corrs subset')\n",
    "plt.ylabel('RMSE')\n",
    "plt.xlabel('min_samples_split');"
   ]
  },
  {
   "cell_type": "code",
   "execution_count": 315,
   "metadata": {
    "ExecuteTime": {
     "end_time": "2023-11-18T18:08:32.635263Z",
     "start_time": "2023-11-18T18:08:32.620249Z"
    }
   },
   "outputs": [
    {
     "data": {
      "text/html": [
       "<div>\n",
       "<style scoped>\n",
       "    .dataframe tbody tr th:only-of-type {\n",
       "        vertical-align: middle;\n",
       "    }\n",
       "\n",
       "    .dataframe tbody tr th {\n",
       "        vertical-align: top;\n",
       "    }\n",
       "\n",
       "    .dataframe thead th {\n",
       "        text-align: right;\n",
       "    }\n",
       "</style>\n",
       "<table border=\"1\" class=\"dataframe\">\n",
       "  <thead>\n",
       "    <tr style=\"text-align: right;\">\n",
       "      <th></th>\n",
       "      <th>rmse</th>\n",
       "      <th>r2</th>\n",
       "      <th>model</th>\n",
       "      <th>feats</th>\n",
       "      <th>pca</th>\n",
       "      <th>poly</th>\n",
       "    </tr>\n",
       "  </thead>\n",
       "  <tbody>\n",
       "    <tr>\n",
       "      <th>113</th>\n",
       "      <td>12.56</td>\n",
       "      <td>0.28</td>\n",
       "      <td>DecisionTreeRegressor(max_depth=2, random_stat...</td>\n",
       "      <td>high_corrs</td>\n",
       "      <td>False</td>\n",
       "      <td>False</td>\n",
       "    </tr>\n",
       "    <tr>\n",
       "      <th>114</th>\n",
       "      <td>12.71</td>\n",
       "      <td>0.27</td>\n",
       "      <td>DecisionTreeRegressor(max_depth=3, random_stat...</td>\n",
       "      <td>high_corrs</td>\n",
       "      <td>False</td>\n",
       "      <td>False</td>\n",
       "    </tr>\n",
       "    <tr>\n",
       "      <th>152</th>\n",
       "      <td>12.76</td>\n",
       "      <td>0.26</td>\n",
       "      <td>DecisionTreeRegressor(min_samples_split=202, r...</td>\n",
       "      <td>high_corrs</td>\n",
       "      <td>False</td>\n",
       "      <td>False</td>\n",
       "    </tr>\n",
       "  </tbody>\n",
       "</table>\n",
       "</div>"
      ],
      "text/plain": [
       "     rmse   r2                                              model       feats  \\\n",
       "113 12.56 0.28  DecisionTreeRegressor(max_depth=2, random_stat...  high_corrs   \n",
       "114 12.71 0.27  DecisionTreeRegressor(max_depth=3, random_stat...  high_corrs   \n",
       "152 12.76 0.26  DecisionTreeRegressor(min_samples_split=202, r...  high_corrs   \n",
       "\n",
       "       pca   poly  \n",
       "113  False  False  \n",
       "114  False  False  \n",
       "152  False  False  "
      ]
     },
     "execution_count": 315,
     "metadata": {},
     "output_type": "execute_result"
    }
   ],
   "source": [
    "# 3 best DTs\n",
    "models_df[models_df['model'].str.contains('Decision')].sort_values('rmse', ascending=True).head(3)"
   ]
  },
  {
   "cell_type": "markdown",
   "metadata": {},
   "source": [
    "### Random Forest"
   ]
  },
  {
   "cell_type": "code",
   "execution_count": 316,
   "metadata": {
    "ExecuteTime": {
     "end_time": "2023-11-18T18:08:32.651277Z",
     "start_time": "2023-11-18T18:08:32.636263Z"
    }
   },
   "outputs": [],
   "source": [
    "rf = RandomForestRegressor(random_state=random_state)"
   ]
  },
  {
   "cell_type": "code",
   "execution_count": 317,
   "metadata": {
    "ExecuteTime": {
     "end_time": "2023-11-18T18:09:36.449964Z",
     "start_time": "2023-11-18T18:08:32.653279Z"
    },
    "scrolled": false
   },
   "outputs": [],
   "source": [
    "# normal data\n",
    "for i, (name, feats) in enumerate(feature_subset_dict.items()):\n",
    "    cross_val(rf, df=df, feature_subset=feats, feature_subset_str=name)"
   ]
  },
  {
   "cell_type": "code",
   "execution_count": 318,
   "metadata": {
    "ExecuteTime": {
     "end_time": "2023-11-18T18:09:36.465979Z",
     "start_time": "2023-11-18T18:09:36.450966Z"
    }
   },
   "outputs": [
    {
     "data": {
      "text/html": [
       "<div>\n",
       "<style scoped>\n",
       "    .dataframe tbody tr th:only-of-type {\n",
       "        vertical-align: middle;\n",
       "    }\n",
       "\n",
       "    .dataframe tbody tr th {\n",
       "        vertical-align: top;\n",
       "    }\n",
       "\n",
       "    .dataframe thead th {\n",
       "        text-align: right;\n",
       "    }\n",
       "</style>\n",
       "<table border=\"1\" class=\"dataframe\">\n",
       "  <thead>\n",
       "    <tr style=\"text-align: right;\">\n",
       "      <th></th>\n",
       "      <th>rmse</th>\n",
       "      <th>r2</th>\n",
       "      <th>model</th>\n",
       "      <th>feats</th>\n",
       "      <th>pca</th>\n",
       "      <th>poly</th>\n",
       "    </tr>\n",
       "  </thead>\n",
       "  <tbody>\n",
       "    <tr>\n",
       "      <th>153</th>\n",
       "      <td>12.43</td>\n",
       "      <td>0.30</td>\n",
       "      <td>RandomForestRegressor(random_state=9)</td>\n",
       "      <td>all_feats</td>\n",
       "      <td>False</td>\n",
       "      <td>False</td>\n",
       "    </tr>\n",
       "    <tr>\n",
       "      <th>154</th>\n",
       "      <td>12.44</td>\n",
       "      <td>0.30</td>\n",
       "      <td>RandomForestRegressor(random_state=9)</td>\n",
       "      <td>percent_features</td>\n",
       "      <td>False</td>\n",
       "      <td>False</td>\n",
       "    </tr>\n",
       "    <tr>\n",
       "      <th>155</th>\n",
       "      <td>12.45</td>\n",
       "      <td>0.30</td>\n",
       "      <td>RandomForestRegressor(random_state=9)</td>\n",
       "      <td>high_corrs</td>\n",
       "      <td>False</td>\n",
       "      <td>False</td>\n",
       "    </tr>\n",
       "  </tbody>\n",
       "</table>\n",
       "</div>"
      ],
      "text/plain": [
       "     rmse   r2                                  model             feats  \\\n",
       "153 12.43 0.30  RandomForestRegressor(random_state=9)         all_feats   \n",
       "154 12.44 0.30  RandomForestRegressor(random_state=9)  percent_features   \n",
       "155 12.45 0.30  RandomForestRegressor(random_state=9)        high_corrs   \n",
       "\n",
       "       pca   poly  \n",
       "153  False  False  \n",
       "154  False  False  \n",
       "155  False  False  "
      ]
     },
     "execution_count": 318,
     "metadata": {},
     "output_type": "execute_result"
    }
   ],
   "source": [
    "models_df[models_df['model'].str.contains('Random')].sort_values('rmse', ascending=True).head(3)"
   ]
  },
  {
   "cell_type": "code",
   "execution_count": 319,
   "metadata": {
    "ExecuteTime": {
     "end_time": "2023-11-18T18:11:07.524995Z",
     "start_time": "2023-11-18T18:09:36.466979Z"
    },
    "scrolled": false
   },
   "outputs": [
    {
     "data": {
      "image/png": "[encoded data removed]",
      "text/plain": [
       "<Figure size 864x432 with 1 Axes>"
      ]
     },
     "metadata": {},
     "output_type": "display_data"
    }
   ],
   "source": [
    "# max_depths from 2-10\n",
    "d_values = range(2, 11)\n",
    "\n",
    "# to hold losses\n",
    "losses = []\n",
    "\n",
    "for d in d_values:\n",
    "    rf = RandomForestRegressor(random_state=random_state, max_depth=d)\n",
    "    \n",
    "    # use best subset found from above\n",
    "    rmse, r2 = cross_val(rf, df=df, feature_subset=all_feats, feature_subset_str='all_feats')\n",
    "    \n",
    "    # append losses\n",
    "    losses.append(rmse) \n",
    "    \n",
    "# plot results\n",
    "plt.figure(figsize=(12, 6))\n",
    "sns.lineplot(x=d_values, y=losses, color='red')\n",
    "\n",
    "plt.title('rf performance using all_feats subset')\n",
    "plt.ylabel('RMSE')\n",
    "plt.xlabel('max_depth');"
   ]
  },
  {
   "cell_type": "code",
   "execution_count": 320,
   "metadata": {
    "ExecuteTime": {
     "end_time": "2023-11-18T18:13:52.052843Z",
     "start_time": "2023-11-18T18:11:07.525997Z"
    },
    "scrolled": false
   },
   "outputs": [
    {
     "data": {
      "image/png": "[encoded data removed]",
      "text/plain": [
       "<Figure size 864x432 with 1 Axes>"
      ]
     },
     "metadata": {},
     "output_type": "display_data"
    }
   ],
   "source": [
    "# min_samples_split from 2- 200, increment by 10\n",
    "s_values = range(2, 203, 10)\n",
    "\n",
    "# to hold losses\n",
    "losses = []\n",
    "\n",
    "for s in s_values:\n",
    "    rf = RandomForestRegressor(random_state=random_state, min_samples_split=s)\n",
    "    \n",
    "    # use best subset found from above\n",
    "    rmse, r2 = cross_val(rf, df=df, feature_subset=all_feats, feature_subset_str='all_feats')\n",
    "    \n",
    "    # append losses\n",
    "    losses.append(rmse) \n",
    "    \n",
    "# plot results\n",
    "plt.figure(figsize=(12, 6))\n",
    "sns.lineplot(x=s_values, y=losses, color='red')\n",
    "\n",
    "plt.title('rf performance using all_feats subset')\n",
    "plt.ylabel('RMSE')\n",
    "plt.xlabel('min_samples_split');"
   ]
  },
  {
   "cell_type": "code",
   "execution_count": 321,
   "metadata": {
    "ExecuteTime": {
     "end_time": "2023-11-18T18:13:52.068857Z",
     "start_time": "2023-11-18T18:13:52.053843Z"
    }
   },
   "outputs": [
    {
     "data": {
      "text/html": [
       "<div>\n",
       "<style scoped>\n",
       "    .dataframe tbody tr th:only-of-type {\n",
       "        vertical-align: middle;\n",
       "    }\n",
       "\n",
       "    .dataframe tbody tr th {\n",
       "        vertical-align: top;\n",
       "    }\n",
       "\n",
       "    .dataframe thead th {\n",
       "        text-align: right;\n",
       "    }\n",
       "</style>\n",
       "<table border=\"1\" class=\"dataframe\">\n",
       "  <thead>\n",
       "    <tr style=\"text-align: right;\">\n",
       "      <th></th>\n",
       "      <th>rmse</th>\n",
       "      <th>r2</th>\n",
       "      <th>model</th>\n",
       "      <th>feats</th>\n",
       "      <th>pca</th>\n",
       "      <th>poly</th>\n",
       "    </tr>\n",
       "  </thead>\n",
       "  <tbody>\n",
       "    <tr>\n",
       "      <th>180</th>\n",
       "      <td>12.17</td>\n",
       "      <td>0.33</td>\n",
       "      <td>RandomForestRegressor(min_samples_split=112, r...</td>\n",
       "      <td>all_feats</td>\n",
       "      <td>False</td>\n",
       "      <td>False</td>\n",
       "    </tr>\n",
       "    <tr>\n",
       "      <th>181</th>\n",
       "      <td>12.17</td>\n",
       "      <td>0.33</td>\n",
       "      <td>RandomForestRegressor(min_samples_split=122, r...</td>\n",
       "      <td>all_feats</td>\n",
       "      <td>False</td>\n",
       "      <td>False</td>\n",
       "    </tr>\n",
       "    <tr>\n",
       "      <th>182</th>\n",
       "      <td>12.18</td>\n",
       "      <td>0.32</td>\n",
       "      <td>RandomForestRegressor(min_samples_split=132, r...</td>\n",
       "      <td>all_feats</td>\n",
       "      <td>False</td>\n",
       "      <td>False</td>\n",
       "    </tr>\n",
       "  </tbody>\n",
       "</table>\n",
       "</div>"
      ],
      "text/plain": [
       "     rmse   r2                                              model      feats  \\\n",
       "180 12.17 0.33  RandomForestRegressor(min_samples_split=112, r...  all_feats   \n",
       "181 12.17 0.33  RandomForestRegressor(min_samples_split=122, r...  all_feats   \n",
       "182 12.18 0.32  RandomForestRegressor(min_samples_split=132, r...  all_feats   \n",
       "\n",
       "       pca   poly  \n",
       "180  False  False  \n",
       "181  False  False  \n",
       "182  False  False  "
      ]
     },
     "execution_count": 321,
     "metadata": {},
     "output_type": "execute_result"
    }
   ],
   "source": [
    "# 3 best RF\n",
    "models_df[models_df['model'].str.contains('Random')].sort_values('rmse', ascending=True).head(3)"
   ]
  },
  {
   "cell_type": "markdown",
   "metadata": {},
   "source": [
    "- Best RF with a val RMSE of __12.17__. This is now our baseline to beat."
   ]
  },
  {
   "cell_type": "markdown",
   "metadata": {},
   "source": [
    "### XGBoost\n",
    "- XGBosst is notorious for performing well on a wide array of problems."
   ]
  },
  {
   "cell_type": "code",
   "execution_count": 322,
   "metadata": {
    "ExecuteTime": {
     "end_time": "2023-11-18T18:13:52.083871Z",
     "start_time": "2023-11-18T18:13:52.069857Z"
    },
    "scrolled": true
   },
   "outputs": [],
   "source": [
    "xgb = XGBRegressor(n_jobs=-1, random_state=random_state, n_estimators=1000, learning_rate=0.01)"
   ]
  },
  {
   "cell_type": "code",
   "execution_count": 323,
   "metadata": {
    "ExecuteTime": {
     "end_time": "2023-11-18T18:14:11.056098Z",
     "start_time": "2023-11-18T18:13:52.084872Z"
    },
    "scrolled": false
   },
   "outputs": [],
   "source": [
    "for i, (name, feats) in enumerate(feature_subset_dict.items()):\n",
    "    cross_val(xgb, df=df, feature_subset=feats, feature_subset_str=name)"
   ]
  },
  {
   "cell_type": "code",
   "execution_count": 324,
   "metadata": {
    "ExecuteTime": {
     "end_time": "2023-11-18T18:14:11.072112Z",
     "start_time": "2023-11-18T18:14:11.057099Z"
    }
   },
   "outputs": [
    {
     "data": {
      "text/html": [
       "<div>\n",
       "<style scoped>\n",
       "    .dataframe tbody tr th:only-of-type {\n",
       "        vertical-align: middle;\n",
       "    }\n",
       "\n",
       "    .dataframe tbody tr th {\n",
       "        vertical-align: top;\n",
       "    }\n",
       "\n",
       "    .dataframe thead th {\n",
       "        text-align: right;\n",
       "    }\n",
       "</style>\n",
       "<table border=\"1\" class=\"dataframe\">\n",
       "  <thead>\n",
       "    <tr style=\"text-align: right;\">\n",
       "      <th></th>\n",
       "      <th>rmse</th>\n",
       "      <th>r2</th>\n",
       "      <th>model</th>\n",
       "      <th>feats</th>\n",
       "      <th>pca</th>\n",
       "      <th>poly</th>\n",
       "    </tr>\n",
       "  </thead>\n",
       "  <tbody>\n",
       "    <tr>\n",
       "      <th>190</th>\n",
       "      <td>12.79</td>\n",
       "      <td>0.26</td>\n",
       "      <td>XGBRegressor(base_score=None, booster=None, co...</td>\n",
       "      <td>all_feats</td>\n",
       "      <td>False</td>\n",
       "      <td>False</td>\n",
       "    </tr>\n",
       "    <tr>\n",
       "      <th>191</th>\n",
       "      <td>13.02</td>\n",
       "      <td>0.23</td>\n",
       "      <td>XGBRegressor(base_score=None, booster=None, co...</td>\n",
       "      <td>percent_features</td>\n",
       "      <td>False</td>\n",
       "      <td>False</td>\n",
       "    </tr>\n",
       "    <tr>\n",
       "      <th>192</th>\n",
       "      <td>13.11</td>\n",
       "      <td>0.22</td>\n",
       "      <td>XGBRegressor(base_score=None, booster=None, co...</td>\n",
       "      <td>high_corrs</td>\n",
       "      <td>False</td>\n",
       "      <td>False</td>\n",
       "    </tr>\n",
       "  </tbody>\n",
       "</table>\n",
       "</div>"
      ],
      "text/plain": [
       "     rmse   r2                                              model  \\\n",
       "190 12.79 0.26  XGBRegressor(base_score=None, booster=None, co...   \n",
       "191 13.02 0.23  XGBRegressor(base_score=None, booster=None, co...   \n",
       "192 13.11 0.22  XGBRegressor(base_score=None, booster=None, co...   \n",
       "\n",
       "                feats    pca   poly  \n",
       "190         all_feats  False  False  \n",
       "191  percent_features  False  False  \n",
       "192        high_corrs  False  False  "
      ]
     },
     "execution_count": 324,
     "metadata": {},
     "output_type": "execute_result"
    }
   ],
   "source": [
    "# 3 best XGB\n",
    "models_df[models_df['model'].str.contains('XGB')].sort_values('rmse', ascending=True).head(3)"
   ]
  },
  {
   "cell_type": "markdown",
   "metadata": {},
   "source": [
    "## Combining models\n",
    "- After trying 5 different models and searching through many hyperparameters, our best validation results came from the RandomForestRegressor with a val RMSE of __12.17__ and a val R^2 of __0.33__. \n",
    "- This is quite poor performance, as the target variable has a mean of 64 and a std of 15. This means that on average, our best preds our almost a full standard deviation off of the true value.\n",
    "- Next, we will try to combine these models in different ways in an attempt to increase performance."
   ]
  },
  {
   "cell_type": "markdown",
   "metadata": {},
   "source": [
    "### VotingRegressor\n",
    "- Using best model found from each algorithm."
   ]
  },
  {
   "cell_type": "code",
   "execution_count": 325,
   "metadata": {
    "ExecuteTime": {
     "end_time": "2023-11-18T18:14:11.088127Z",
     "start_time": "2023-11-18T18:14:11.073113Z"
    }
   },
   "outputs": [],
   "source": [
    "# models that did best with high_corrs subset\n",
    "lr_best = LinearRegression()\n",
    "knn_best = KNeighborsRegressor(n_neighbors=46)\n",
    "dt_best = DecisionTreeRegressor(random_state=random_state, max_depth=2)\n",
    "\n",
    "# models that did best with all_feats subset\n",
    "rf_best = RandomForestRegressor(random_state=random_state, min_samples_split=112)\n",
    "xgb_best = XGBRegressor(random_state=random_state, n_estimators=1000, learning_rate=0.01)"
   ]
  },
  {
   "cell_type": "code",
   "execution_count": 326,
   "metadata": {
    "ExecuteTime": {
     "end_time": "2023-11-18T18:14:20.788494Z",
     "start_time": "2023-11-18T18:14:11.089128Z"
    }
   },
   "outputs": [
    {
     "data": {
      "text/html": [
       "<div>\n",
       "<style scoped>\n",
       "    .dataframe tbody tr th:only-of-type {\n",
       "        vertical-align: middle;\n",
       "    }\n",
       "\n",
       "    .dataframe tbody tr th {\n",
       "        vertical-align: top;\n",
       "    }\n",
       "\n",
       "    .dataframe thead th {\n",
       "        text-align: right;\n",
       "    }\n",
       "</style>\n",
       "<table border=\"1\" class=\"dataframe\">\n",
       "  <thead>\n",
       "    <tr style=\"text-align: right;\">\n",
       "      <th></th>\n",
       "      <th>rmse</th>\n",
       "      <th>r2</th>\n",
       "      <th>model</th>\n",
       "      <th>feats</th>\n",
       "      <th>pca</th>\n",
       "      <th>poly</th>\n",
       "    </tr>\n",
       "  </thead>\n",
       "  <tbody>\n",
       "    <tr>\n",
       "      <th>197</th>\n",
       "      <td>12.18</td>\n",
       "      <td>0.32</td>\n",
       "      <td>VotingRegressor(estimators=[('lr', LinearRegre...</td>\n",
       "      <td>high_corrs</td>\n",
       "      <td>False</td>\n",
       "      <td>False</td>\n",
       "    </tr>\n",
       "    <tr>\n",
       "      <th>198</th>\n",
       "      <td>12.30</td>\n",
       "      <td>0.31</td>\n",
       "      <td>VotingRegressor(estimators=[('rf',\\n          ...</td>\n",
       "      <td>all_feats</td>\n",
       "      <td>False</td>\n",
       "      <td>False</td>\n",
       "    </tr>\n",
       "  </tbody>\n",
       "</table>\n",
       "</div>"
      ],
      "text/plain": [
       "     rmse   r2                                              model       feats  \\\n",
       "197 12.18 0.32  VotingRegressor(estimators=[('lr', LinearRegre...  high_corrs   \n",
       "198 12.30 0.31  VotingRegressor(estimators=[('rf',\\n          ...   all_feats   \n",
       "\n",
       "       pca   poly  \n",
       "197  False  False  \n",
       "198  False  False  "
      ]
     },
     "execution_count": 326,
     "metadata": {},
     "output_type": "execute_result"
    }
   ],
   "source": [
    "# voting regressor on high_corrs data\n",
    "vote_1 = VotingRegressor(estimators=[\n",
    "    ('lr', lr_best), \n",
    "    ('knn', knn_best), \n",
    "    ('dt', dt_best)])\n",
    "cross_val(vote_1, df=df, feature_subset=high_corrs, feature_subset_str='high_corrs')\n",
    "\n",
    "# voting regressor on all_feats data\n",
    "vote_2 = VotingRegressor(estimators=[\n",
    "    ('rf', rf_best), \n",
    "    ('xgb', xgb_best)])\n",
    "cross_val(vote_2, df=df, feature_subset=all_feats, feature_subset_str='all_feats')\n",
    "\n",
    "models_df[models_df['model'].str.contains('Vot')].sort_values('rmse', ascending=True).head()"
   ]
  },
  {
   "cell_type": "markdown",
   "metadata": {},
   "source": [
    "- Results are close, but still not as good as the Random Forest."
   ]
  },
  {
   "cell_type": "markdown",
   "metadata": {},
   "source": [
    "### StackingRegressor\n",
    "- Using best model found from each algorithm."
   ]
  },
  {
   "cell_type": "code",
   "execution_count": 327,
   "metadata": {
    "ExecuteTime": {
     "end_time": "2023-11-18T18:15:08.748043Z",
     "start_time": "2023-11-18T18:14:20.789495Z"
    }
   },
   "outputs": [
    {
     "data": {
      "text/html": [
       "<div>\n",
       "<style scoped>\n",
       "    .dataframe tbody tr th:only-of-type {\n",
       "        vertical-align: middle;\n",
       "    }\n",
       "\n",
       "    .dataframe tbody tr th {\n",
       "        vertical-align: top;\n",
       "    }\n",
       "\n",
       "    .dataframe thead th {\n",
       "        text-align: right;\n",
       "    }\n",
       "</style>\n",
       "<table border=\"1\" class=\"dataframe\">\n",
       "  <thead>\n",
       "    <tr style=\"text-align: right;\">\n",
       "      <th></th>\n",
       "      <th>rmse</th>\n",
       "      <th>r2</th>\n",
       "      <th>model</th>\n",
       "      <th>feats</th>\n",
       "      <th>pca</th>\n",
       "      <th>poly</th>\n",
       "    </tr>\n",
       "  </thead>\n",
       "  <tbody>\n",
       "    <tr>\n",
       "      <th>200</th>\n",
       "      <td>12.17</td>\n",
       "      <td>0.32</td>\n",
       "      <td>StackingRegressor(estimators=[('rf',\\n        ...</td>\n",
       "      <td>all_feats</td>\n",
       "      <td>False</td>\n",
       "      <td>False</td>\n",
       "    </tr>\n",
       "    <tr>\n",
       "      <th>199</th>\n",
       "      <td>12.21</td>\n",
       "      <td>0.32</td>\n",
       "      <td>StackingRegressor(estimators=[('lr', LinearReg...</td>\n",
       "      <td>high_corrs</td>\n",
       "      <td>False</td>\n",
       "      <td>False</td>\n",
       "    </tr>\n",
       "  </tbody>\n",
       "</table>\n",
       "</div>"
      ],
      "text/plain": [
       "     rmse   r2                                              model       feats  \\\n",
       "200 12.17 0.32  StackingRegressor(estimators=[('rf',\\n        ...   all_feats   \n",
       "199 12.21 0.32  StackingRegressor(estimators=[('lr', LinearReg...  high_corrs   \n",
       "\n",
       "       pca   poly  \n",
       "200  False  False  \n",
       "199  False  False  "
      ]
     },
     "execution_count": 327,
     "metadata": {},
     "output_type": "execute_result"
    }
   ],
   "source": [
    "# stacking regressor on high_corrs data\n",
    "stack_1 = StackingRegressor(estimators=[\n",
    "    ('lr', lr_best), \n",
    "    ('knn', knn_best), \n",
    "    ('dt', dt_best)])\n",
    "cross_val(stack_1, df=df, feature_subset=high_corrs, feature_subset_str='high_corrs')\n",
    "\n",
    "# stacking regressor on all_feats data\n",
    "stack_2 = StackingRegressor(estimators=[\n",
    "    ('rf', rf_best), \n",
    "    ('xgb', xgb_best)])\n",
    "cross_val(stack_2, df=df, feature_subset=all_feats, feature_subset_str='all_feats')\n",
    "\n",
    "models_df[models_df['model'].str.contains('Stack')].sort_values('rmse', ascending=True).head()"
   ]
  },
  {
   "cell_type": "markdown",
   "metadata": {},
   "source": [
    "- Results are comparable to the random forest, but a StackingRegressor is more complex and computationally intensive than the standalone RF."
   ]
  },
  {
   "cell_type": "code",
   "execution_count": 328,
   "metadata": {
    "ExecuteTime": {
     "end_time": "2023-11-18T18:15:08.764058Z",
     "start_time": "2023-11-18T18:15:08.749044Z"
    }
   },
   "outputs": [],
   "source": [
    "# save model results\n",
    "models_df.to_csv('./models/models.csv')"
   ]
  },
  {
   "cell_type": "markdown",
   "metadata": {},
   "source": [
    "- After iterating through many different model/feature/hyperparameter combinations, our best model was a __Random Forest with  min_samples_split of 112__. Next, let's make predictions with this optimized model."
   ]
  },
  {
   "cell_type": "markdown",
   "metadata": {},
   "source": [
    "# 2023 predictions\n",
    "- The model will be trained on the entire train/val data, and then will predict 2023 offensive grade from the 2022 holdout set."
   ]
  },
  {
   "cell_type": "code",
   "execution_count": 9,
   "metadata": {
    "ExecuteTime": {
     "end_time": "2023-12-08T23:37:02.498404Z",
     "start_time": "2023-12-08T23:37:00.962405Z"
    }
   },
   "outputs": [
    {
     "name": "stdout",
     "output_type": "stream",
     "text": [
      "RMSE: 12.157436114762524\n",
      "R^2 : 0.397691290884134\n"
     ]
    }
   ],
   "source": [
    "# best random forest\n",
    "rf_best = RandomForestRegressor(random_state=random_state, min_samples_split=112)\n",
    "\n",
    "# training features and target\n",
    "X_train = df[all_feats]\n",
    "y_train = df.target\n",
    "\n",
    "# 2022 rows are test set\n",
    "X_test = players_2022[all_feats]\n",
    "y_test = players_2022.target\n",
    "\n",
    "# create pieline\n",
    "pipeline = Pipeline([\n",
    "        ('scaler', StandardScaler()),\n",
    "        ('rf', rf_best)])\n",
    "\n",
    "# train on entire dataset\n",
    "pipeline.fit(X_train, y_train)\n",
    "\n",
    "# predict\n",
    "preds = pipeline.predict(X_test)\n",
    "\n",
    "print(f'RMSE: {mean_squared_error(y_test, preds, squared=False)}')\n",
    "print(f'R^2 : {r2_score(y_test, preds)}')"
   ]
  },
  {
   "cell_type": "markdown",
   "metadata": {},
   "source": [
    "- Using the best random forest, we achieved an __RMSE of 12.16__. This means that on average, our 2023 predictions are 12.16 points off the true grade of a player. Our __R^2 is 0.4__, meaning that this model explains 40% of the variation in the target variable."
   ]
  },
  {
   "cell_type": "code",
   "execution_count": 10,
   "metadata": {
    "ExecuteTime": {
     "end_time": "2023-12-08T23:37:03.433409Z",
     "start_time": "2023-12-08T23:37:03.429406Z"
    }
   },
   "outputs": [],
   "source": [
    "# create a df for our predictions\n",
    "preds_df = pd.DataFrame(data={'player': players_2022['player'].values, 'team': players_2022['team_name'].values, \n",
    "                              'y_true': y_test, 'y_pred': preds, 'error': (preds - y_test)})"
   ]
  },
  {
   "cell_type": "code",
   "execution_count": null,
   "metadata": {
    "ExecuteTime": {
     "end_time": "2023-12-08T23:37:03.950059Z",
     "start_time": "2023-12-08T23:37:03.929379Z"
    }
   },
   "outputs": [],
   "source": [
    "# map colors to our preds_df\n",
    "preds_df['color'] = preds_df['team'].map(TEAM_COLORS)"
   ]
  },
  {
   "cell_type": "code",
   "execution_count": 12,
   "metadata": {
    "ExecuteTime": {
     "end_time": "2023-12-08T23:37:05.447493Z",
     "start_time": "2023-12-08T23:37:05.394492Z"
    }
   },
   "outputs": [
    {
     "data": {
      "text/html": [
       "<div>\n",
       "<style scoped>\n",
       "    .dataframe tbody tr th:only-of-type {\n",
       "        vertical-align: middle;\n",
       "    }\n",
       "\n",
       "    .dataframe tbody tr th {\n",
       "        vertical-align: top;\n",
       "    }\n",
       "\n",
       "    .dataframe thead th {\n",
       "        text-align: right;\n",
       "    }\n",
       "</style>\n",
       "<table border=\"1\" class=\"dataframe\">\n",
       "  <thead>\n",
       "    <tr style=\"text-align: right;\">\n",
       "      <th></th>\n",
       "      <th>732</th>\n",
       "      <th>440</th>\n",
       "      <th>282</th>\n",
       "      <th>62</th>\n",
       "      <th>142</th>\n",
       "      <th>987</th>\n",
       "      <th>606</th>\n",
       "      <th>509</th>\n",
       "      <th>1008</th>\n",
       "      <th>976</th>\n",
       "      <th>516</th>\n",
       "      <th>878</th>\n",
       "      <th>433</th>\n",
       "      <th>165</th>\n",
       "      <th>54</th>\n",
       "      <th>542</th>\n",
       "      <th>579</th>\n",
       "      <th>540</th>\n",
       "      <th>863</th>\n",
       "      <th>831</th>\n",
       "      <th>781</th>\n",
       "      <th>334</th>\n",
       "      <th>425</th>\n",
       "      <th>920</th>\n",
       "      <th>1017</th>\n",
       "      <th>133</th>\n",
       "      <th>558</th>\n",
       "      <th>877</th>\n",
       "      <th>397</th>\n",
       "      <th>385</th>\n",
       "      <th>545</th>\n",
       "      <th>329</th>\n",
       "      <th>601</th>\n",
       "      <th>481</th>\n",
       "      <th>478</th>\n",
       "      <th>273</th>\n",
       "      <th>335</th>\n",
       "      <th>116</th>\n",
       "      <th>616</th>\n",
       "      <th>291</th>\n",
       "      <th>617</th>\n",
       "      <th>748</th>\n",
       "      <th>991</th>\n",
       "      <th>91</th>\n",
       "      <th>57</th>\n",
       "      <th>775</th>\n",
       "      <th>754</th>\n",
       "      <th>22</th>\n",
       "    </tr>\n",
       "  </thead>\n",
       "  <tbody>\n",
       "    <tr>\n",
       "      <th>player</th>\n",
       "      <td>Matthew Stafford</td>\n",
       "      <td>Jared Goff</td>\n",
       "      <td>Dak Prescott</td>\n",
       "      <td>Baker Mayfield</td>\n",
       "      <td>Brock Purdy</td>\n",
       "      <td>Tua Tagovailoa</td>\n",
       "      <td>Lamar Jackson</td>\n",
       "      <td>Jordan Love</td>\n",
       "      <td>Tyrod Taylor</td>\n",
       "      <td>Trevor Lawrence</td>\n",
       "      <td>Josh Allen</td>\n",
       "      <td>Sam Howell</td>\n",
       "      <td>Jameis Winston</td>\n",
       "      <td>C.J. Beathard</td>\n",
       "      <td>Andy Dalton</td>\n",
       "      <td>Justin Fields</td>\n",
       "      <td>Kirk Cousins</td>\n",
       "      <td>Joshua Dobbs</td>\n",
       "      <td>Ryan Tannehill</td>\n",
       "      <td>Russell Wilson</td>\n",
       "      <td>Patrick Mahomes</td>\n",
       "      <td>Deshaun Watson</td>\n",
       "      <td>Jalen Hurts</td>\n",
       "      <td>Taylor Heinicke</td>\n",
       "      <td>Zach Wilson</td>\n",
       "      <td>Brian Hoyer</td>\n",
       "      <td>Kenny Pickett</td>\n",
       "      <td>Sam Darnold</td>\n",
       "      <td>Geno Smith</td>\n",
       "      <td>Gardner Minshew</td>\n",
       "      <td>Justin Herbert</td>\n",
       "      <td>Derek Carr</td>\n",
       "      <td>Kyler Murray</td>\n",
       "      <td>Joe Burrow</td>\n",
       "      <td>Jimmy Garoppolo</td>\n",
       "      <td>Cooper Rush</td>\n",
       "      <td>Desmond Ridder</td>\n",
       "      <td>Brett Rypien</td>\n",
       "      <td>Mac Jones</td>\n",
       "      <td>Daniel Jones</td>\n",
       "      <td>Malik Willis</td>\n",
       "      <td>Mike White</td>\n",
       "      <td>Tyler Huntley</td>\n",
       "      <td>Blaine Gabbert</td>\n",
       "      <td>Bailey Zappe</td>\n",
       "      <td>P.J. Walker</td>\n",
       "      <td>Mitch Trubisky</td>\n",
       "      <td>Aaron Rodgers</td>\n",
       "    </tr>\n",
       "    <tr>\n",
       "      <th>y_true</th>\n",
       "      <td>83.70</td>\n",
       "      <td>90.60</td>\n",
       "      <td>87.60</td>\n",
       "      <td>73.30</td>\n",
       "      <td>78.10</td>\n",
       "      <td>87.50</td>\n",
       "      <td>87.50</td>\n",
       "      <td>71.30</td>\n",
       "      <td>66.80</td>\n",
       "      <td>82.70</td>\n",
       "      <td>89.80</td>\n",
       "      <td>67.50</td>\n",
       "      <td>67.70</td>\n",
       "      <td>66.20</td>\n",
       "      <td>81.10</td>\n",
       "      <td>73.60</td>\n",
       "      <td>86.10</td>\n",
       "      <td>66.30</td>\n",
       "      <td>72.00</td>\n",
       "      <td>77.10</td>\n",
       "      <td>87.10</td>\n",
       "      <td>66.90</td>\n",
       "      <td>81.30</td>\n",
       "      <td>65.30</td>\n",
       "      <td>59.90</td>\n",
       "      <td>57.90</td>\n",
       "      <td>66.80</td>\n",
       "      <td>59.80</td>\n",
       "      <td>75.30</td>\n",
       "      <td>56.60</td>\n",
       "      <td>77.80</td>\n",
       "      <td>68.10</td>\n",
       "      <td>65.60</td>\n",
       "      <td>78.00</td>\n",
       "      <td>65.60</td>\n",
       "      <td>53.10</td>\n",
       "      <td>48.90</td>\n",
       "      <td>48.10</td>\n",
       "      <td>59.00</td>\n",
       "      <td>63.00</td>\n",
       "      <td>45.90</td>\n",
       "      <td>46.20</td>\n",
       "      <td>45.20</td>\n",
       "      <td>40.20</td>\n",
       "      <td>41.30</td>\n",
       "      <td>30.80</td>\n",
       "      <td>34.80</td>\n",
       "      <td>39.40</td>\n",
       "    </tr>\n",
       "    <tr>\n",
       "      <th>y_pred</th>\n",
       "      <td>61.97</td>\n",
       "      <td>72.23</td>\n",
       "      <td>72.68</td>\n",
       "      <td>59.95</td>\n",
       "      <td>65.90</td>\n",
       "      <td>75.70</td>\n",
       "      <td>75.84</td>\n",
       "      <td>60.18</td>\n",
       "      <td>57.16</td>\n",
       "      <td>73.49</td>\n",
       "      <td>80.73</td>\n",
       "      <td>59.27</td>\n",
       "      <td>59.76</td>\n",
       "      <td>58.36</td>\n",
       "      <td>74.31</td>\n",
       "      <td>66.85</td>\n",
       "      <td>79.54</td>\n",
       "      <td>59.97</td>\n",
       "      <td>65.76</td>\n",
       "      <td>71.09</td>\n",
       "      <td>81.66</td>\n",
       "      <td>61.52</td>\n",
       "      <td>77.64</td>\n",
       "      <td>62.26</td>\n",
       "      <td>56.90</td>\n",
       "      <td>54.99</td>\n",
       "      <td>63.92</td>\n",
       "      <td>58.49</td>\n",
       "      <td>74.60</td>\n",
       "      <td>57.99</td>\n",
       "      <td>79.60</td>\n",
       "      <td>71.37</td>\n",
       "      <td>69.12</td>\n",
       "      <td>81.61</td>\n",
       "      <td>70.24</td>\n",
       "      <td>58.31</td>\n",
       "      <td>55.38</td>\n",
       "      <td>56.39</td>\n",
       "      <td>68.35</td>\n",
       "      <td>73.04</td>\n",
       "      <td>58.70</td>\n",
       "      <td>59.49</td>\n",
       "      <td>60.60</td>\n",
       "      <td>56.92</td>\n",
       "      <td>60.91</td>\n",
       "      <td>55.95</td>\n",
       "      <td>62.58</td>\n",
       "      <td>78.00</td>\n",
       "    </tr>\n",
       "    <tr>\n",
       "      <th>error</th>\n",
       "      <td>-21.73</td>\n",
       "      <td>-18.37</td>\n",
       "      <td>-14.92</td>\n",
       "      <td>-13.35</td>\n",
       "      <td>-12.20</td>\n",
       "      <td>-11.80</td>\n",
       "      <td>-11.66</td>\n",
       "      <td>-11.12</td>\n",
       "      <td>-9.64</td>\n",
       "      <td>-9.21</td>\n",
       "      <td>-9.07</td>\n",
       "      <td>-8.23</td>\n",
       "      <td>-7.94</td>\n",
       "      <td>-7.84</td>\n",
       "      <td>-6.79</td>\n",
       "      <td>-6.75</td>\n",
       "      <td>-6.56</td>\n",
       "      <td>-6.33</td>\n",
       "      <td>-6.24</td>\n",
       "      <td>-6.01</td>\n",
       "      <td>-5.44</td>\n",
       "      <td>-5.38</td>\n",
       "      <td>-3.66</td>\n",
       "      <td>-3.04</td>\n",
       "      <td>-3.00</td>\n",
       "      <td>-2.91</td>\n",
       "      <td>-2.88</td>\n",
       "      <td>-1.31</td>\n",
       "      <td>-0.70</td>\n",
       "      <td>1.39</td>\n",
       "      <td>1.80</td>\n",
       "      <td>3.27</td>\n",
       "      <td>3.52</td>\n",
       "      <td>3.61</td>\n",
       "      <td>4.64</td>\n",
       "      <td>5.21</td>\n",
       "      <td>6.48</td>\n",
       "      <td>8.29</td>\n",
       "      <td>9.35</td>\n",
       "      <td>10.04</td>\n",
       "      <td>12.80</td>\n",
       "      <td>13.29</td>\n",
       "      <td>15.40</td>\n",
       "      <td>16.72</td>\n",
       "      <td>19.61</td>\n",
       "      <td>25.15</td>\n",
       "      <td>27.78</td>\n",
       "      <td>38.60</td>\n",
       "    </tr>\n",
       "  </tbody>\n",
       "</table>\n",
       "</div>"
      ],
      "text/plain": [
       "                    732         440           282             62    \\\n",
       "player  Matthew Stafford  Jared Goff  Dak Prescott  Baker Mayfield   \n",
       "y_true             83.70       90.60         87.60           73.30   \n",
       "y_pred             61.97       72.23         72.68           59.95   \n",
       "error             -21.73      -18.37        -14.92          -13.35   \n",
       "\n",
       "               142             987            606          509           1008  \\\n",
       "player  Brock Purdy  Tua Tagovailoa  Lamar Jackson  Jordan Love  Tyrod Taylor   \n",
       "y_true        78.10           87.50          87.50        71.30         66.80   \n",
       "y_pred        65.90           75.70          75.84        60.18         57.16   \n",
       "error        -12.20          -11.80         -11.66       -11.12         -9.64   \n",
       "\n",
       "                   976         516         878             433   \\\n",
       "player  Trevor Lawrence  Josh Allen  Sam Howell  Jameis Winston   \n",
       "y_true            82.70       89.80       67.50           67.70   \n",
       "y_pred            73.49       80.73       59.27           59.76   \n",
       "error             -9.21       -9.07       -8.23           -7.94   \n",
       "\n",
       "                 165          54             542           579           540   \\\n",
       "player  C.J. Beathard  Andy Dalton  Justin Fields  Kirk Cousins  Joshua Dobbs   \n",
       "y_true          66.20        81.10          73.60         86.10         66.30   \n",
       "y_pred          58.36        74.31          66.85         79.54         59.97   \n",
       "error           -7.84        -6.79          -6.75         -6.56         -6.33   \n",
       "\n",
       "                  863             831              781             334   \\\n",
       "player  Ryan Tannehill  Russell Wilson  Patrick Mahomes  Deshaun Watson   \n",
       "y_true           72.00           77.10            87.10           66.90   \n",
       "y_pred           65.76           71.09            81.66           61.52   \n",
       "error            -6.24           -6.01            -5.44           -5.38   \n",
       "\n",
       "               425              920          1017         133            558   \\\n",
       "player  Jalen Hurts  Taylor Heinicke  Zach Wilson  Brian Hoyer  Kenny Pickett   \n",
       "y_true        81.30            65.30        59.90        57.90          66.80   \n",
       "y_pred        77.64            62.26        56.90        54.99          63.92   \n",
       "error         -3.66            -3.04        -3.00        -2.91          -2.88   \n",
       "\n",
       "               877         397              385             545         329   \\\n",
       "player  Sam Darnold  Geno Smith  Gardner Minshew  Justin Herbert  Derek Carr   \n",
       "y_true        59.80       75.30            56.60           77.80       68.10   \n",
       "y_pred        58.49       74.60            57.99           79.60       71.37   \n",
       "error         -1.31       -0.70             1.39            1.80        3.27   \n",
       "\n",
       "                601         481              478          273   \\\n",
       "player  Kyler Murray  Joe Burrow  Jimmy Garoppolo  Cooper Rush   \n",
       "y_true         65.60       78.00            65.60        53.10   \n",
       "y_pred         69.12       81.61            70.24        58.31   \n",
       "error           3.52        3.61             4.64         5.21   \n",
       "\n",
       "                  335           116        616           291           617   \\\n",
       "player  Desmond Ridder  Brett Rypien  Mac Jones  Daniel Jones  Malik Willis   \n",
       "y_true           48.90         48.10      59.00         63.00         45.90   \n",
       "y_pred           55.38         56.39      68.35         73.04         58.70   \n",
       "error             6.48          8.29       9.35         10.04         12.80   \n",
       "\n",
       "              748            991             91            57           775   \\\n",
       "player  Mike White  Tyler Huntley  Blaine Gabbert  Bailey Zappe  P.J. Walker   \n",
       "y_true       46.20          45.20           40.20         41.30        30.80   \n",
       "y_pred       59.49          60.60           56.92         60.91        55.95   \n",
       "error        13.29          15.40           16.72         19.61        25.15   \n",
       "\n",
       "                  754            22    \n",
       "player  Mitch Trubisky  Aaron Rodgers  \n",
       "y_true           34.80          39.40  \n",
       "y_pred           62.58          78.00  \n",
       "error            27.78          38.60  "
      ]
     },
     "execution_count": 12,
     "metadata": {},
     "output_type": "execute_result"
    }
   ],
   "source": [
    "# show 2023 predictions for all 48 QBs\n",
    "preds_df.sort_values('error')[['player', 'y_true', 'y_pred', 'error']].T"
   ]
  },
  {
   "cell_type": "code",
   "execution_count": 13,
   "metadata": {
    "ExecuteTime": {
     "end_time": "2023-12-08T23:37:06.093366Z",
     "start_time": "2023-12-08T23:37:06.088367Z"
    }
   },
   "outputs": [
    {
     "name": "stdout",
     "output_type": "stream",
     "text": [
      "64.6% of our model's predictions are within 10 pts of the true value.\n"
     ]
    }
   ],
   "source": [
    "# percent of preds within 10 pts\n",
    "percent = (preds_df.error.abs() < 10).sum() / len(preds_df)\n",
    "\n",
    "print(f'{percent*100:.1f}% of our model\\'s predictions are within 10 pts of the true value.')"
   ]
  },
  {
   "cell_type": "code",
   "execution_count": 19,
   "metadata": {
    "ExecuteTime": {
     "end_time": "2023-12-08T23:39:08.300142Z",
     "start_time": "2023-12-08T23:39:07.628322Z"
    },
    "scrolled": false
   },
   "outputs": [
    {
     "data": {
      "image/png": "[encoded data removed]",
      "text/plain": [
       "<Figure size 1008x576 with 1 Axes>"
      ]
     },
     "metadata": {},
     "output_type": "display_data"
    }
   ],
   "source": [
    "# visualize 2023 predictions\n",
    "plt.figure(figsize=(14, 8))\n",
    "\n",
    "# lists for annotating player names\n",
    "over_drops = ['Mike White', 'Cooper Rush', 'Tyler Huntley']\n",
    "under_drops = ['Jameis Winston', 'Taylor Heinicke', 'Ryan Tannehill', 'Andy Dalton', 'Dak Prescott', 'Joshua Dobbs', \n",
    "               'Lamar Jackson', 'Jordan Love']\n",
    "\n",
    "# title, labels\n",
    "plt.title('2023 Predictions with Random Forest', fontsize=22)\n",
    "plt.xlabel('True Offensive Grade', fontsize=22)\n",
    "plt.ylabel('Predicted Offensive Grade', fontsize=22)\n",
    "\n",
    "# team colors\n",
    "color_palette = {color: color for color in preds_df['color'].unique()}\n",
    "\n",
    "# plot players as points\n",
    "sns.scatterplot(data=preds_df, x='y_true', y='y_pred', hue='color', palette=color_palette, legend=False)\n",
    "\n",
    "# plot line to show perfect predictions\n",
    "sns.lineplot(x=range(30,96), y=range(30,96), color='black')\n",
    "\n",
    "# annotating each point with the player's name\n",
    "for index, row in preds_df.iterrows():\n",
    "    # over preds (above line)\n",
    "    if (row['y_pred'] > row['y_true']) and (row['player'] not in over_drops):\n",
    "        plt.text(row['y_true']-0.5, row['y_pred']-0.3, row['player'], horizontalalignment='right', color='black', \n",
    "             weight='semibold', fontsize=7)\n",
    "    # under preds (below line)\n",
    "    elif (row['y_pred'] < row['y_true']) and (row['player'] not in under_drops):\n",
    "        plt.text(row['y_true']+0.5, row['y_pred']-0.3, row['player'], horizontalalignment='left', color='black', \n",
    "             weight='semibold', fontsize=7)\n",
    "             \n",
    "plt.savefig('./images/preds_1');"
   ]
  },
  {
   "cell_type": "markdown",
   "metadata": {},
   "source": [
    "- Each point represents a single player in 2023. The distance from the black line is how far off our prediction was. Ideally, a perfect model would only have dots on the line. \n",
    "- Dots above the line are cases in which our model __overpredicted__ the player's performance, and dots below the line are __underpredictions__.\n",
    "- You can see that the worst prediction, by far, is __Aaron Rodgers__, with an error of 38.6. It should be noted that he was injured on the 4th play of the 2023 season with a torn achilles, so this point is definitely an outlier."
   ]
  },
  {
   "cell_type": "code",
   "execution_count": 17,
   "metadata": {
    "ExecuteTime": {
     "end_time": "2023-11-22T18:40:26.031136Z",
     "start_time": "2023-11-22T18:40:26.026130Z"
    }
   },
   "outputs": [
    {
     "name": "stdout",
     "output_type": "stream",
     "text": [
      "Normal - RMSE: 12.157436114762524\n",
      "Normal - R^2 : 0.397691290884134\n",
      "\n",
      "Dropping Aaron Rodgers - RMSE: 10.920073785075424\n",
      "Dropping Aaron Rodgers - R^2 : 0.492223269173908\n"
     ]
    }
   ],
   "source": [
    "# all 48 QBs\n",
    "print(f'Normal - RMSE: {mean_squared_error(y_test, preds, squared=False)}')\n",
    "print(f'Normal - R^2 : {r2_score(y_test, preds)}\\n')\n",
    "\n",
    "# dropping aaron rodgers\n",
    "print(f'Dropping Aaron Rodgers - RMSE: {mean_squared_error(y_test[1:], preds[1:], squared=False)}')\n",
    "print(f'Dropping Aaron Rodgers - R^2 : {r2_score(y_test[1:], preds[1:])}')"
   ]
  },
  {
   "cell_type": "markdown",
   "metadata": {},
   "source": [
    "- If we drop this point, our RMSE goes from a __12.16 to a 10.92__, and R^2 leaps from a __0.4 to a 0.49__."
   ]
  },
  {
   "cell_type": "code",
   "execution_count": 18,
   "metadata": {
    "ExecuteTime": {
     "end_time": "2023-11-22T18:40:34.105302Z",
     "start_time": "2023-11-22T18:40:34.087286Z"
    }
   },
   "outputs": [
    {
     "name": "stdout",
     "output_type": "stream",
     "text": [
      "Excluding Aaron Rodgers, 66.0% of our model's predictions are within 10 pts of the true value.\n"
     ]
    }
   ],
   "source": [
    "# percent of preds within 10 pts\n",
    "percent = (preds_df[1:].error.abs() < 10).sum() / (len(preds_df) - 1)\n",
    "\n",
    "print(f'Excluding Aaron Rodgers, {percent*100:.1f}% of our model\\'s predictions are within 10 pts of the true value.')"
   ]
  },
  {
   "cell_type": "markdown",
   "metadata": {},
   "source": [
    "# Conclusion\n",
    "- Using an optimized __RandomForestRegressor__, we were able to predict 2023 QB offensive grade with an __RMSE of 10.92__ and an __R^2 of 0.49__.\n",
    "- It should also be noted that these accuracy metrics are only taken from the __first 10 weeks of the 2023 season__. This repository will be updated once the 2023 season is complete; I will show the error and R^2 of the best model on the full 2023 season. \n",
    "- Stay tuned for predictions on the 2024 NFL season!"
   ]
  },
  {
   "cell_type": "code",
   "execution_count": null,
   "metadata": {},
   "outputs": [],
   "source": []
  }
 ],
 "metadata": {
  "kernelspec": {
   "display_name": "torch_env",
   "language": "python",
   "name": "python3"
  },
  "language_info": {
   "codemirror_mode": {
    "name": "ipython",
    "version": 3
   },
   "file_extension": ".py",
   "mimetype": "text/x-python",
   "name": "python",
   "nbconvert_exporter": "python",
   "pygments_lexer": "ipython3",
   "version": "3.8.18"
  },
  "latex_envs": {
   "LaTeX_envs_menu_present": true,
   "autoclose": false,
   "autocomplete": true,
   "bibliofile": "biblio.bib",
   "cite_by": "apalike",
   "current_citInitial": 1,
   "eqLabelWithNumbers": true,
   "eqNumInitial": 1,
   "hotkeys": {
    "equation": "Ctrl-E",
    "itemize": "Ctrl-I"
   },
   "labels_anchors": false,
   "latex_user_defs": false,
   "report_style_numbering": false,
   "user_envs_cfg": false
  },
  "toc": {
   "base_numbering": 1,
   "nav_menu": {},
   "number_sections": true,
   "sideBar": true,
   "skip_h1_title": false,
   "title_cell": "Table of Contents",
   "title_sidebar": "Contents",
   "toc_cell": false,
   "toc_position": {},
   "toc_section_display": true,
   "toc_window_display": false
  }
 },
 "nbformat": 4,
 "nbformat_minor": 4
}
