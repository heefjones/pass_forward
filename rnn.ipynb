{
 "cells": [
  {
   "cell_type": "markdown",
   "metadata": {},
   "source": [
    "## Import Data"
   ]
  },
  {
   "cell_type": "code",
   "execution_count": 1,
   "metadata": {
    "ExecuteTime": {
     "end_time": "2023-12-08T22:10:57.234715Z",
     "start_time": "2023-12-08T22:10:51.764669Z"
    }
   },
   "outputs": [
    {
     "data": {
      "text/plain": [
       "device(type='cuda')"
      ]
     },
     "execution_count": 1,
     "metadata": {},
     "output_type": "execute_result"
    }
   ],
   "source": [
    "# helper.py\n",
    "from helper import *\n",
    "\n",
    "# set up GPU\n",
    "device = torch.device('cuda') if torch.cuda.is_available() else torch.device('cpu')\n",
    "device"
   ]
  },
  {
   "cell_type": "code",
   "execution_count": 2,
   "metadata": {
    "ExecuteTime": {
     "end_time": "2023-12-08T22:10:57.296713Z",
     "start_time": "2023-12-08T22:10:57.236713Z"
    }
   },
   "outputs": [
    {
     "data": {
      "text/plain": [
       "((1099, 66), 237)"
      ]
     },
     "execution_count": 2,
     "metadata": {},
     "output_type": "execute_result"
    }
   ],
   "source": [
    "# load data\n",
    "df = pd.read_csv('./data/clean/features.csv')\n",
    "\n",
    "# drop all aggregated cols\n",
    "df = df.drop(columns=[col for col in df.columns if 'mean' in col or 'std' in col])\n",
    "\n",
    "# check\n",
    "df.shape, len(set(df.player))"
   ]
  },
  {
   "cell_type": "markdown",
   "metadata": {},
   "source": [
    "# Format Data"
   ]
  },
  {
   "cell_type": "code",
   "execution_count": 5,
   "metadata": {},
   "outputs": [
    {
     "name": "stdout",
     "output_type": "stream",
     "text": [
      "X_train: torch.Size([921, 18, 62]), y_train: torch.Size([921]), len_train: torch.Size([921])\n",
      "X_val: torch.Size([178, 18, 62]), y_val: torch.Size([178]), len_val: torch.Size([178])\n"
     ]
    }
   ],
   "source": [
    "# non-feature columns\n",
    "non_feat_cols = ['player', 'team_name', 'year', 'target']\n",
    "feat_cols = [c for c in df.columns if c not in non_feat_cols]\n",
    "\n",
    "# split df into train/val by player to avoid leakage\n",
    "players = df['player'].unique()\n",
    "train_players, val_players = train_test_split(players, test_size=0.2, random_state=SEED)\n",
    "df_train = df[df['player'].isin(train_players)].copy()\n",
    "df_val = df[df['player'].isin(val_players)].copy()\n",
    "\n",
    "# scale features\n",
    "scaler = StandardScaler()\n",
    "df_train[feat_cols] = scaler.fit_transform(df_train[feat_cols])\n",
    "df_val[feat_cols] = scaler.transform(df_val[feat_cols])\n",
    "\n",
    "# recombine so our create_player_histories sees scaled data\n",
    "df_scaled = pd.concat([df_train, df_val], ignore_index=True)\n",
    "\n",
    "# build sequences\n",
    "X_pad, y, lengths, mask, players = create_sequences(df_scaled)\n",
    "\n",
    "# split train/val\n",
    "idx = torch.arange(len(y))\n",
    "train_idx = idx[[p in train_players for p in players]]\n",
    "val_idx = idx[[p in val_players for p in players]]\n",
    "X_train, X_val = X_pad[train_idx], X_pad[val_idx]\n",
    "len_train, len_val = lengths[train_idx], lengths[val_idx]\n",
    "y_train, y_val = y[train_idx], y[val_idx]\n",
    "\n",
    "# show shapes\n",
    "print(f'X_train: {X_train.shape}, y_train: {y_train.shape}, len_train: {len_train.shape}')\n",
    "print(f'X_val: {X_val.shape}, y_val: {y_val.shape}, len_val: {len_val.shape}')"
   ]
  },
  {
   "cell_type": "markdown",
   "metadata": {},
   "source": [
    "# Train RNN"
   ]
  },
  {
   "cell_type": "code",
   "execution_count": 10,
   "metadata": {},
   "outputs": [
    {
     "name": "stdout",
     "output_type": "stream",
     "text": [
      "Epoch 0 | Train MSE: 4267.791 | Val RMSE: 58.822, R²: -14.303\n",
      "Epoch 10 | Train MSE: 994.716 | Val RMSE: 28.055, R²: -2.481\n",
      "Epoch 20 | Train MSE: 303.410 | Val RMSE: 17.063, R²: -0.288\n",
      "Epoch 30 | Train MSE: 225.602 | Val RMSE: 16.173, R²: -0.157\n",
      "Epoch 40 | Train MSE: 216.789 | Val RMSE: 16.137, R²: -0.152\n",
      "Epoch 50 | Train MSE: 213.149 | Val RMSE: 15.999, R²: -0.132\n",
      "Epoch 60 | Train MSE: 210.608 | Val RMSE: 15.947, R²: -0.125\n",
      "Epoch 70 | Train MSE: 208.560 | Val RMSE: 15.913, R²: -0.120\n",
      "Epoch 80 | Train MSE: 207.085 | Val RMSE: 15.929, R²: -0.122\n",
      "Epoch 90 | Train MSE: 203.041 | Val RMSE: 15.811, R²: -0.106\n",
      "Epoch 100 | Train MSE: 166.837 | Val RMSE: 14.985, R²: 0.007\n",
      "Epoch 110 | Train MSE: 141.330 | Val RMSE: 15.151, R²: -0.015\n",
      "Epoch 120 | Train MSE: 125.794 | Val RMSE: 15.532, R²: -0.067\n",
      "Epoch 130 | Train MSE: 113.405 | Val RMSE: 15.801, R²: -0.104\n",
      "Epoch 140 | Train MSE: 100.038 | Val RMSE: 16.141, R²: -0.152\n",
      "Epoch 150 | Train MSE: 85.349 | Val RMSE: 16.720, R²: -0.236\n",
      "Epoch 160 | Train MSE: 72.120 | Val RMSE: 17.396, R²: -0.338\n",
      "Epoch 170 | Train MSE: 57.417 | Val RMSE: 17.584, R²: -0.367\n",
      "Epoch 180 | Train MSE: 44.990 | Val RMSE: 18.267, R²: -0.476\n",
      "Epoch 190 | Train MSE: 34.604 | Val RMSE: 18.649, R²: -0.538\n",
      "Epoch 200 | Train MSE: 26.824 | Val RMSE: 19.239, R²: -0.637\n",
      "\n",
      "Early stopping at epoch 201. Best Val RMSE: 14.739\n"
     ]
    }
   ],
   "source": [
    "# create dataset and dataloader\n",
    "train_ds = SeqDataset(X_train, len_train, y_train)\n",
    "val_ds = SeqDataset(X_val, len_val, y_val)\n",
    "train_dl = DataLoader(train_ds, batch_size=32, shuffle=True)\n",
    "val_dl = DataLoader(val_ds, batch_size=32)\n",
    "\n",
    "# instantiate\n",
    "model = RNNRegressor(in_dim=X_pad.size(2), hidden_dim=int(X_pad.size(2) * 2)).to(device)\n",
    "opt = torch.optim.AdamW(model.parameters(), lr=1e-3)\n",
    "criterion = nn.MSELoss()\n",
    "\n",
    "# train model\n",
    "train_rnn(model, opt, criterion, train_dl, val_dl, train_ds, device)"
   ]
  },
  {
   "cell_type": "markdown",
   "metadata": {},
   "source": [
    "- This val RMSE is noticeably worse than the [XGBoost](./preds.ipynb) that achieved a val RMSE of 12.22."
   ]
  },
  {
   "cell_type": "code",
   "execution_count": null,
   "metadata": {},
   "outputs": [],
   "source": []
  }
 ],
 "metadata": {
  "kernelspec": {
   "display_name": "torch_env",
   "language": "python",
   "name": "python3"
  },
  "language_info": {
   "codemirror_mode": {
    "name": "ipython",
    "version": 3
   },
   "file_extension": ".py",
   "mimetype": "text/x-python",
   "name": "python",
   "nbconvert_exporter": "python",
   "pygments_lexer": "ipython3",
   "version": "3.8.18"
  },
  "latex_envs": {
   "LaTeX_envs_menu_present": true,
   "autoclose": false,
   "autocomplete": true,
   "bibliofile": "biblio.bib",
   "cite_by": "apalike",
   "current_citInitial": 1,
   "eqLabelWithNumbers": true,
   "eqNumInitial": 1,
   "hotkeys": {
    "equation": "Ctrl-E",
    "itemize": "Ctrl-I"
   },
   "labels_anchors": false,
   "latex_user_defs": false,
   "report_style_numbering": false,
   "user_envs_cfg": false
  },
  "toc": {
   "base_numbering": 1,
   "nav_menu": {},
   "number_sections": true,
   "sideBar": true,
   "skip_h1_title": false,
   "title_cell": "Table of Contents",
   "title_sidebar": "Contents",
   "toc_cell": false,
   "toc_position": {},
   "toc_section_display": true,
   "toc_window_display": false
  }
 },
 "nbformat": 4,
 "nbformat_minor": 4
}
