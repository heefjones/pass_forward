{
 "cells": [
  {
   "cell_type": "markdown",
   "metadata": {},
   "source": [
    "# Models 3\n",
    "- This notebook attempts to improve performance from the second [modeling notebook](./models_2.ipynb).\n",
    "- We will use PyTorch sequence NNs to complete this task.\n",
    "- Each input sequence must be of at least length __n__, with season __n+1__ offensive grade as the target.\n",
    "- For players who only have a single season with a target, we'll have to use the Random Forest found in [this notebook](./models_1.ipynb)."
   ]
  },
  {
   "cell_type": "markdown",
   "metadata": {},
   "source": [
    "## Imports, Load Data"
   ]
  },
  {
   "cell_type": "code",
   "execution_count": 1,
   "metadata": {
    "ExecuteTime": {
     "end_time": "2023-12-08T22:10:57.234715Z",
     "start_time": "2023-12-08T22:10:51.764669Z"
    }
   },
   "outputs": [],
   "source": [
    "import pandas as pd\n",
    "import numpy as np\n",
    "\n",
    "import matplotlib.pyplot as plt\n",
    "import seaborn as sns\n",
    "%matplotlib inline\n",
    "\n",
    "# pytorch packages\n",
    "import torch\n",
    "import torch.nn as nn\n",
    "from torch.utils.data import DataLoader, TensorDataset\n",
    "\n",
    "# sklearn packages\n",
    "from sklearn.preprocessing import StandardScaler\n",
    "from sklearn.model_selection import train_test_split\n",
    "from sklearn.metrics import r2_score, mean_squared_error\n",
    "from sklearn.ensemble import RandomForestRegressor\n",
    "from sklearn.pipeline import Pipeline\n",
    "\n",
    "# Bayesian optimization\n",
    "from bayes_opt import BayesianOptimization\n",
    "\n",
    "# dataframe display\n",
    "pd.options.display.max_columns = 100\n",
    "pd.options.display.max_rows = 100\n",
    "\n",
    "# seaborn theme\n",
    "sns.set_theme(context='talk', style='whitegrid')\n",
    "\n",
    "# global random_state\n",
    "random_state = 9"
   ]
  },
  {
   "cell_type": "code",
   "execution_count": 2,
   "metadata": {
    "ExecuteTime": {
     "end_time": "2023-12-08T22:10:57.296713Z",
     "start_time": "2023-12-08T22:10:57.236713Z"
    }
   },
   "outputs": [
    {
     "data": {
      "text/plain": [
       "device(type='cuda')"
      ]
     },
     "execution_count": 2,
     "metadata": {},
     "output_type": "execute_result"
    }
   ],
   "source": [
    "# set up GPU\n",
    "device = torch.device('cuda') if torch.cuda.is_available() else torch.device('cpu')\n",
    "device"
   ]
  },
  {
   "cell_type": "code",
   "execution_count": 5,
   "metadata": {
    "ExecuteTime": {
     "end_time": "2023-12-08T22:11:42.378270Z",
     "start_time": "2023-12-08T22:11:42.348274Z"
    },
    "scrolled": true
   },
   "outputs": [],
   "source": [
    "# master_df contains entire dataset\n",
    "master_df = pd.read_csv('../train_data/data.csv').drop(['Unnamed: 0'], axis=1)"
   ]
  },
  {
   "cell_type": "code",
   "execution_count": 6,
   "metadata": {
    "ExecuteTime": {
     "end_time": "2023-12-08T22:11:42.893307Z",
     "start_time": "2023-12-08T22:11:42.881308Z"
    }
   },
   "outputs": [],
   "source": [
    "# 2022 players with 2023 target (test set)\n",
    "players_2022 = master_df[master_df['year'] == 2022]\n",
    "\n",
    "# 'df' holds all non-2022 rows\n",
    "df = master_df.drop(players_2022.index)"
   ]
  },
  {
   "cell_type": "markdown",
   "metadata": {},
   "source": [
    "# Functions "
   ]
  },
  {
   "cell_type": "markdown",
   "metadata": {},
   "source": [
    "## Create Sequences\n",
    "- Pack data into 2-year sequences with 3rd year offensive grade as target."
   ]
  },
  {
   "cell_type": "code",
   "execution_count": 18,
   "metadata": {
    "ExecuteTime": {
     "end_time": "2023-11-27T19:24:43.364865Z",
     "start_time": "2023-11-27T19:24:43.349851Z"
    }
   },
   "outputs": [],
   "source": [
    "def create_seq(feature_subset, seq_len, df):\n",
    "    '''\n",
    "    \n",
    "    \n",
    "    Pack data into sequences of seq_len NFL seasons. Return features and target variables.\n",
    "    \n",
    "    Parameters:\n",
    "    feature_subset (list) - list of column names to use from dataframe\n",
    "    seq_len (int) - number of seasons to use to predict the target\n",
    "    df (pandas.DataFrame) - dataframe to create the sequences from\n",
    "    \n",
    "    Returns:\n",
    "    X (numpy.ndarray) - features\n",
    "    y (numpy.ndarray) - targets\n",
    "    \n",
    "    \n",
    "    \n",
    "    '''\n",
    "    \n",
    "    # get players with at least seq_len seasons\n",
    "    df_grouped = df.groupby('player').filter(lambda x: len(x) >= seq_len)\n",
    "\n",
    "    # create a new df subset\n",
    "    df_subset = df_grouped[['player', 'target'] + feature_subset]\n",
    "\n",
    "    sequences = []\n",
    "    labels = []\n",
    "\n",
    "    # iterate over each player\n",
    "    for player, group in df_subset.groupby('player'):\n",
    "        # iterate over the group to create sequences\n",
    "        for i in range((len(group) - seq_len) + 1):\n",
    "            # each sequence is a list of rows/features from two consecutive seasons\n",
    "            sequence = group.iloc[i:(i + seq_len)].drop(['player', 'target'], axis=1).to_dict('records')\n",
    "            \n",
    "            # the label is the 'target' col from the final season in sequence\n",
    "            label = group.iloc[i + seq_len - 1]['target']\n",
    "            \n",
    "            sequences.append(sequence)\n",
    "            labels.append(label)\n",
    "\n",
    "    # unpack the dicts in each sequence, fill null values with 0\n",
    "    unpacked_sequences = [[[val for val in list(d.values())] for d in sequence] for sequence in sequences]   \n",
    "\n",
    "    # convert sequences and labels into np array\n",
    "    X = np.array(unpacked_sequences)\n",
    "    y = np.array(labels)\n",
    "\n",
    "    \n",
    "    \n",
    "    return X, y"
   ]
  },
  {
   "cell_type": "markdown",
   "metadata": {},
   "source": [
    "### Look at different sequence lengths"
   ]
  },
  {
   "cell_type": "code",
   "execution_count": 19,
   "metadata": {
    "ExecuteTime": {
     "end_time": "2023-11-27T19:24:51.483022Z",
     "start_time": "2023-11-27T19:24:43.600852Z"
    }
   },
   "outputs": [
    {
     "name": "stdout",
     "output_type": "stream",
     "text": [
      "Using sequences of 2 seasons:\n",
      "Shape of X = (752, 2, 66)\n",
      "Shape of y = (752,)\n",
      "\n",
      "Using sequences of 3 seasons:\n",
      "Shape of X = (579, 3, 66)\n",
      "Shape of y = (579,)\n",
      "\n",
      "Using sequences of 4 seasons:\n",
      "Shape of X = (452, 4, 66)\n",
      "Shape of y = (452,)\n",
      "\n",
      "Using sequences of 5 seasons:\n",
      "Shape of X = (350, 5, 66)\n",
      "Shape of y = (350,)\n",
      "\n"
     ]
    }
   ],
   "source": [
    "cols = df.drop(['player', 'team_name', 'year', 'target'], axis=1).columns.tolist()\n",
    "\n",
    "for seq_len in [2, 3, 4, 5]:\n",
    "    X, y = create_seq(feature_subset=cols, seq_len=seq_len, df=df)\n",
    "    print(f'Using sequences of {seq_len} seasons:')\n",
    "    print(f'Shape of X = {X.shape}')\n",
    "    print(f'Shape of y = {y.shape}')\n",
    "    print()"
   ]
  },
  {
   "cell_type": "markdown",
   "metadata": {},
   "source": [
    "- When using sequences of 2 seasons to predict 3rd, we have 752 training examples. As we increase sequence length, the size of the training set gets smaller and smaller.\n",
    "- This may be problematic in the training process, as our models won't have very much training data."
   ]
  },
  {
   "cell_type": "markdown",
   "metadata": {},
   "source": [
    "## Standardize the Data\n",
    "- sklearn.StandardScaler only accepts 2-dimensional data as input. The following function addresses this and returns the proper 3D matrices."
   ]
  },
  {
   "cell_type": "code",
   "execution_count": 20,
   "metadata": {
    "ExecuteTime": {
     "end_time": "2023-11-27T19:24:51.499036Z",
     "start_time": "2023-11-27T19:24:51.486025Z"
    }
   },
   "outputs": [],
   "source": [
    "# StandardScaler won't accept 3-dimensional data as input, so we create a function\n",
    "def standardize_3d(X_train, X_val=None):\n",
    "    '''\n",
    "    \n",
    "    Reshapes X array from 3D to 2D and standardizes.\n",
    "    \n",
    "    Parameters\n",
    "    X_train (np.array) - X_train array\n",
    "    X_val: (np.array) - X_val array\n",
    "    \n",
    "    Returns\n",
    "    X_train_standardized_3d (np.array) - standardized X_train array in 3-dimensional form\n",
    "    X_val_standardized_3d (np.array) - standardized X_val array in 3-dimensional form\n",
    "    \n",
    "    '''\n",
    "    \n",
    "    if isinstance(X_val, np.ndarray):\n",
    "        # reshape the data to be 2D -> (n_samples * n_time_steps, n_features)\n",
    "        X_train_reshaped = X_train.reshape(-1, X_train.shape[-1])\n",
    "        X_val_reshaped = X_val.reshape(-1, X_val.shape[-1])\n",
    "\n",
    "        # create scaler, fit on the training data\n",
    "        scaler = StandardScaler()\n",
    "        scaler.fit(X_train_reshaped)\n",
    "\n",
    "        # transform the data\n",
    "        X_train_standardized_2d = scaler.transform(X_train_reshaped)\n",
    "        X_val_standardized_2d = scaler.transform(X_val_reshaped)\n",
    "\n",
    "        # reshape back to 3D\n",
    "        X_train_standardized_3d = X_train_standardized_2d.reshape(X_train.shape)\n",
    "        X_val_standardized_3d = X_val_standardized_2d.reshape(X_val.shape)\n",
    "\n",
    "        return X_train_standardized_3d, X_val_standardized_3d\n",
    "    \n",
    "    else:\n",
    "        # reshape the data to be 2D -> (n_samples * n_time_steps, n_features)\n",
    "        X_train_reshaped = X_train.reshape(-1, X_train.shape[-1])\n",
    "\n",
    "        # create scaler, fit on the training data\n",
    "        scaler = StandardScaler()\n",
    "        scaler.fit(X_train_reshaped)\n",
    "\n",
    "        # transform the data\n",
    "        X_train_standardized_2d = scaler.transform(X_train_reshaped)\n",
    "\n",
    "        # reshape back to 3D\n",
    "        X_train_standardized_3d = X_train_standardized_2d.reshape(X_train.shape)\n",
    "\n",
    "        return X_train_standardized_3d"
   ]
  },
  {
   "cell_type": "markdown",
   "metadata": {},
   "source": [
    "## Create Dataloaders\n",
    "- Use standardize_3d to standardize the sequences. Convert sequences and labels into pytorch-friendly dataloaders for training."
   ]
  },
  {
   "cell_type": "code",
   "execution_count": 280,
   "metadata": {
    "ExecuteTime": {
     "end_time": "2023-11-28T02:32:47.578141Z",
     "start_time": "2023-11-28T02:32:47.569133Z"
    }
   },
   "outputs": [],
   "source": [
    "def create_loaders(X, y, batch_size, test_size, random_state=random_state):\n",
    "    '''\n",
    "    \n",
    "    \n",
    "    Split data into train and val sets, standardize data, return training and valing dataloaders.\n",
    "    \n",
    "    Parameters:\n",
    "    X (numpy.ndarray) - features\n",
    "    y (numpy.ndarray) - targets\n",
    "    batch_size (int) - batch size to be used in the training dataloader\n",
    "    test_size (float) - percentage of data to be set aside as validation set\n",
    "    \n",
    "    \n",
    "    Returns:\n",
    "    train_loader (torch.utils.data.DataLoader) - train dataloader\n",
    "    val_loader (torch.utils.data.DataLoader) - val dataloader \n",
    "    \n",
    "    \n",
    "    \n",
    "    '''\n",
    "    \n",
    "    \n",
    "    \n",
    "    # typecast for compatibility\n",
    "    y = y.astype('float32')\n",
    "    \n",
    "    if test_size > 0:\n",
    "        # train/val split\n",
    "        X_train, X_val, y_train, y_val = train_test_split(X, y, test_size=test_size, random_state=random_state)\n",
    "        \n",
    "        # standardize the data\n",
    "        X_train_standardized, X_val_standardized = standardize_3d(X_train, X_val)\n",
    "\n",
    "        # convert sequences and labels into tensors\n",
    "        X_train_tensor = torch.tensor(X_train_standardized, dtype=torch.float32)\n",
    "        X_val_tensor = torch.tensor(X_val_standardized, dtype=torch.float32)\n",
    "        y_train_tensor = torch.tensor(y_train, dtype=torch.float32).unsqueeze(-1)\n",
    "        y_val_tensor = torch.tensor(y_val, dtype=torch.float32).unsqueeze(-1)\n",
    "\n",
    "        # datasets\n",
    "        train_dataset = TensorDataset(X_train_tensor, y_train_tensor)\n",
    "        val_dataset = TensorDataset(X_val_tensor, y_val_tensor)\n",
    "\n",
    "        # dataloaders\n",
    "        train_loader = DataLoader(train_dataset, batch_size=batch_size, shuffle=True)\n",
    "        val_loader = DataLoader(val_dataset, batch_size=X_val_tensor.shape[0], shuffle=False)\n",
    "\n",
    "        return train_loader, val_loader\n",
    "    \n",
    "    # single dataloaders for final generalization stage\n",
    "    else:\n",
    "        # standardize the data\n",
    "        X_train_standardized = standardize_3d(X)\n",
    "\n",
    "        # convert sequences and labels into tensors\n",
    "        X_train_tensor = torch.tensor(X_train_standardized, dtype=torch.float32)\n",
    "        y_train_tensor = torch.tensor(y, dtype=torch.float32).unsqueeze(-1)\n",
    "\n",
    "        # datasets\n",
    "        train_dataset = TensorDataset(X_train_tensor, y_train_tensor)\n",
    "\n",
    "        # dataloaders\n",
    "        train_loader = DataLoader(train_dataset, batch_size=batch_size, shuffle=False)\n",
    "\n",
    "        return train_loader"
   ]
  },
  {
   "cell_type": "markdown",
   "metadata": {},
   "source": [
    "## Train loop\n",
    "- Train model on training data, evaluate on test data"
   ]
  },
  {
   "cell_type": "code",
   "execution_count": 58,
   "metadata": {
    "ExecuteTime": {
     "end_time": "2023-11-27T21:06:37.834348Z",
     "start_time": "2023-11-27T21:06:37.816330Z"
    }
   },
   "outputs": [],
   "source": [
    "def train_val(model, optimizer, train_loader, val_loader, patience=15, device=device):\n",
    "    \n",
    "    # loss function\n",
    "    criterion = nn.MSELoss()\n",
    "    \n",
    "    # 500 epochs\n",
    "    num_epochs = 500\n",
    "\n",
    "    # early stopping\n",
    "    stopped = False\n",
    "    best_val_loss = float('inf')\n",
    "    epochs_without_improvement = 0\n",
    "\n",
    "    # training loop\n",
    "    for epoch in range(num_epochs):\n",
    "        # training mode\n",
    "        model.train()\n",
    "\n",
    "        # sum of squared error, preds, and y. reset at the start of every epoch\n",
    "        sse = 0\n",
    "        epoch_preds = []\n",
    "        epoch_y = []\n",
    "\n",
    "        # train batches\n",
    "        for x, y in train_loader:\n",
    "            # put x and y on gpu\n",
    "            x = x.to(device)\n",
    "            y = y.to(device)\n",
    "            # zero the parameter gradients\n",
    "            optimizer.zero_grad()\n",
    "            # forward pass\n",
    "            train_preds = model(x)\n",
    "            # calc loss\n",
    "            train_loss = criterion(train_preds, y)\n",
    "            # backward pass\n",
    "            train_loss.backward()\n",
    "            # optimize\n",
    "            optimizer.step()\n",
    "\n",
    "            # accumulate squared errors\n",
    "            sse += ((train_preds - y) ** 2).sum().item()\n",
    "\n",
    "            # get preds and y from batch to calc r2\n",
    "            epoch_preds.extend(train_preds.numpy(force=True))\n",
    "            epoch_y.extend(y.numpy(force=True))\n",
    "\n",
    "        # train metrics\n",
    "        train_rmse = np.sqrt(sse / len(train_loader.dataset))\n",
    "        train_r2 = r2_score(epoch_y, epoch_preds)\n",
    "\n",
    "\n",
    "\n",
    "        # validation\n",
    "        model.eval()\n",
    "\n",
    "        with torch.inference_mode():\n",
    "            # val loop (single batch)\n",
    "            for x, y in val_loader:\n",
    "                # put x and y on gpu\n",
    "                x = x.to(device)\n",
    "                y = y.to(device)\n",
    "                \n",
    "                # forward pass\n",
    "                val_preds = model(x)\n",
    "                # calc loss\n",
    "                val_loss = criterion(val_preds, y)\n",
    "\n",
    "        # val metrics\n",
    "        val_rmse = np.sqrt(((val_preds - y) ** 2).sum().item() / y.shape[0])\n",
    "        val_r2 = r2_score(y.numpy(force=True), val_preds.numpy(force=True))\n",
    "\n",
    "    \n",
    "    \n",
    "        # early stopping\n",
    "        if val_rmse < best_val_loss:\n",
    "            best_val_loss = val_rmse\n",
    "            epochs_without_improvement = 0\n",
    "        else:\n",
    "            epochs_without_improvement += 1\n",
    "\n",
    "            # break out of train loop if we reach patience value\n",
    "            if epochs_without_improvement == patience:\n",
    "                stopped = True\n",
    "                stopped_epoch = epoch + 1\n",
    "                print(f'Early stopping on Epoch {stopped_epoch}.')\n",
    "                break\n",
    "\n",
    "\n",
    "\n",
    "    # get number of epochs that the model was trained for            \n",
    "    if stopped:\n",
    "        num_epochs = stopped_epoch\n",
    "\n",
    "\n",
    "\n",
    "    return train_rmse, train_r2, val_rmse, val_r2, num_epochs, patience"
   ]
  },
  {
   "cell_type": "markdown",
   "metadata": {},
   "source": [
    "# Sequence models\n",
    "- 3 unique recurrent neural network architectures"
   ]
  },
  {
   "cell_type": "code",
   "execution_count": 59,
   "metadata": {
    "ExecuteTime": {
     "end_time": "2023-11-27T21:06:38.652329Z",
     "start_time": "2023-11-27T21:06:38.633311Z"
    }
   },
   "outputs": [],
   "source": [
    "# recurrent neural network\n",
    "class RNN(nn.Module):\n",
    "    def __init__(self, input_dim, hidden_dim, output_dim=1, num_layers=1, dropout=0):\n",
    "        super(RNN, self).__init__()\n",
    "        self.rnn = nn.RNN(input_dim, hidden_dim, batch_first=True, num_layers=num_layers, dropout=dropout)\n",
    "        self.fc = nn.Linear(hidden_dim, output_dim)\n",
    "\n",
    "    def forward(self, x):\n",
    "        out, _ = self.rnn(x)\n",
    "        out = self.fc(out[:, -1, :])\n",
    "        return out\n",
    "    \n",
    "    \n",
    "    \n",
    "# long-short-term-memory rnn\n",
    "class LSTM(nn.Module):\n",
    "    def __init__(self, input_dim, hidden_dim, output_dim=1, num_layers=1, dropout=0):\n",
    "        super(LSTM, self).__init__()\n",
    "        self.lstm = nn.LSTM(input_dim, hidden_dim, batch_first=True, num_layers=num_layers, dropout=dropout)\n",
    "        self.fc = nn.Linear(hidden_dim, output_dim)\n",
    "\n",
    "    def forward(self, x):\n",
    "        out, _ = self.lstm(x)\n",
    "        out = self.fc(out[:, -1, :])\n",
    "        return out\n",
    "    \n",
    "    \n",
    "    \n",
    "# gated-recurrent-unit rnn\n",
    "class GRU(nn.Module):\n",
    "    def __init__(self, input_dim, hidden_dim, output_dim=1, num_layers=1, dropout=0):\n",
    "        super(GRU, self).__init__()\n",
    "        self.gru = nn.GRU(input_dim, hidden_dim, batch_first=True, num_layers=num_layers, dropout=dropout)\n",
    "        self.fc = nn.Linear(hidden_dim, output_dim)\n",
    "\n",
    "    def forward(self, x):\n",
    "        out, _ = self.gru(x)\n",
    "        out = self.fc(out[:, -1, :])\n",
    "        return out"
   ]
  },
  {
   "cell_type": "markdown",
   "metadata": {},
   "source": [
    "# Bayesian Optimization\n",
    "- Iterating through parameter space to find best sequence model\n",
    "- I want to find the best model for each specific sequence length. I will perform a round of Bayesian optimization for sequences of 2, 3, and 4 seasons."
   ]
  },
  {
   "cell_type": "code",
   "execution_count": 66,
   "metadata": {
    "ExecuteTime": {
     "end_time": "2023-11-27T21:18:56.784554Z",
     "start_time": "2023-11-27T21:18:56.779550Z"
    }
   },
   "outputs": [],
   "source": [
    "# all features\n",
    "all_feats = df.drop(['player', 'team_name', 'year', 'target'], axis=1).columns.tolist()"
   ]
  },
  {
   "cell_type": "markdown",
   "metadata": {},
   "source": [
    "## seq_len = 2\n",
    "- Use 2 seasons to predict a QB's grade in the 3rd."
   ]
  },
  {
   "cell_type": "code",
   "execution_count": 67,
   "metadata": {
    "ExecuteTime": {
     "end_time": "2023-11-27T21:19:00.483805Z",
     "start_time": "2023-11-27T21:19:00.470793Z"
    }
   },
   "outputs": [],
   "source": [
    "def objective_function(hidden_dim, num_layers, dropout, batch_size):\n",
    "    # cast continuous values to int\n",
    "    hidden_dim = int(hidden_dim)\n",
    "    num_layers = int(num_layers)\n",
    "    batch_size = int(batch_size)\n",
    "    \n",
    "    # create sequences\n",
    "    X, y = create_seq(feature_subset=all_feats, seq_len=2, df=df)\n",
    "    \n",
    "    # create dataloaders\n",
    "    train_loader, val_loader = create_loaders(X, y, test_size=0.1, batch_size=batch_size)\n",
    "\n",
    "    # create model\n",
    "    model = RNN(input_dim=66, hidden_dim=hidden_dim, num_layers=num_layers, dropout=dropout).to(device)\n",
    "        \n",
    "    # create optimizer\n",
    "    optimizer = torch.optim.AdamW(model.parameters(), lr=0.001)\n",
    "    \n",
    "    # train model\n",
    "    train_rmse, train_r2, val_rmse, val_r2, num_epochs, patience = train_val(model, optimizer, train_loader, val_loader)\n",
    "    \n",
    "    # return the negative of the validation metric (since Bayesian optimization minimizes)\n",
    "    return -val_rmse"
   ]
  },
  {
   "cell_type": "code",
   "execution_count": 68,
   "metadata": {
    "ExecuteTime": {
     "end_time": "2023-11-27T21:19:27.727611Z",
     "start_time": "2023-11-27T21:19:27.722607Z"
    }
   },
   "outputs": [],
   "source": [
    "# define bounds of each hyperparameter\n",
    "pbounds = {\n",
    "    'hidden_dim': (4, 1025),\n",
    "    'num_layers': (2, 17),\n",
    "    'dropout': (0, 0.9),\n",
    "    'batch_size': (1, 129)\n",
    "}\n",
    "\n",
    "# create the Bayesian optimizer\n",
    "optimizer = BayesianOptimization(\n",
    "    f=objective_function,\n",
    "    pbounds=pbounds,\n",
    "    random_state=random_state,\n",
    "    allow_duplicate_points=True\n",
    ")"
   ]
  },
  {
   "cell_type": "code",
   "execution_count": 69,
   "metadata": {
    "ExecuteTime": {
     "end_time": "2023-11-27T22:04:57.225801Z",
     "start_time": "2023-11-27T21:19:28.927301Z"
    },
    "scrolled": true
   },
   "outputs": [
    {
     "name": "stdout",
     "output_type": "stream",
     "text": [
      "|   iter    |  target   | batch_... |  dropout  | hidden... | num_la... |\n",
      "-------------------------------------------------------------------------\n",
      "Early stopping on Epoch 20.\n",
      "| \u001b[0m1        \u001b[0m | \u001b[0m-13.31   \u001b[0m | \u001b[0m2.328    \u001b[0m | \u001b[0m0.4517   \u001b[0m | \u001b[0m510.2    \u001b[0m | \u001b[0m4.007    \u001b[0m |\n",
      "Early stopping on Epoch 93.\n",
      "| \u001b[95m2        \u001b[0m | \u001b[95m-12.43   \u001b[0m | \u001b[95m19.19    \u001b[0m | \u001b[95m0.1967   \u001b[0m | \u001b[95m431.3    \u001b[0m | \u001b[95m5.722    \u001b[0m |\n",
      "Early stopping on Epoch 54.\n",
      "| \u001b[0m3        \u001b[0m | \u001b[0m-13.34   \u001b[0m | \u001b[0m11.76    \u001b[0m | \u001b[0m0.3109   \u001b[0m | \u001b[0m174.3    \u001b[0m | \u001b[0m15.18    \u001b[0m |\n",
      "Early stopping on Epoch 21.\n",
      "| \u001b[0m4        \u001b[0m | \u001b[0m-72.67   \u001b[0m | \u001b[0m122.7    \u001b[0m | \u001b[0m0.03487  \u001b[0m | \u001b[0m717.8    \u001b[0m | \u001b[0m10.59    \u001b[0m |\n",
      "Early stopping on Epoch 73.\n",
      "| \u001b[0m5        \u001b[0m | \u001b[0m-13.32   \u001b[0m | \u001b[0m115.9    \u001b[0m | \u001b[0m0.6002   \u001b[0m | \u001b[0m563.3    \u001b[0m | \u001b[0m12.54    \u001b[0m |\n",
      "Early stopping on Epoch 39.\n",
      "| \u001b[0m6        \u001b[0m | \u001b[0m-14.19   \u001b[0m | \u001b[0m50.47    \u001b[0m | \u001b[0m0.625    \u001b[0m | \u001b[0m846.2    \u001b[0m | \u001b[0m8.985    \u001b[0m |\n",
      "Early stopping on Epoch 151.\n",
      "| \u001b[95m7        \u001b[0m | \u001b[95m-12.06   \u001b[0m | \u001b[95m121.4    \u001b[0m | \u001b[95m0.7234   \u001b[0m | \u001b[95m1.008e+03\u001b[0m | \u001b[95m4.545    \u001b[0m |\n",
      "Early stopping on Epoch 28.\n",
      "| \u001b[0m8        \u001b[0m | \u001b[0m-13.3    \u001b[0m | \u001b[0m67.7     \u001b[0m | \u001b[0m0.851    \u001b[0m | \u001b[0m667.2    \u001b[0m | \u001b[0m14.91    \u001b[0m |\n",
      "Early stopping on Epoch 88.\n",
      "| \u001b[0m9        \u001b[0m | \u001b[0m-67.23   \u001b[0m | \u001b[0m125.3    \u001b[0m | \u001b[0m0.167    \u001b[0m | \u001b[0m252.2    \u001b[0m | \u001b[0m15.1     \u001b[0m |\n",
      "Early stopping on Epoch 111.\n",
      "| \u001b[0m10       \u001b[0m | \u001b[0m-12.7    \u001b[0m | \u001b[0m117.0    \u001b[0m | \u001b[0m0.6825   \u001b[0m | \u001b[0m358.2    \u001b[0m | \u001b[0m8.953    \u001b[0m |\n",
      "Early stopping on Epoch 92.\n",
      "| \u001b[0m11       \u001b[0m | \u001b[0m-12.25   \u001b[0m | \u001b[0m123.1    \u001b[0m | \u001b[0m0.549    \u001b[0m | \u001b[0m1.008e+03\u001b[0m | \u001b[0m4.959    \u001b[0m |\n",
      "Early stopping on Epoch 34.\n",
      "| \u001b[0m12       \u001b[0m | \u001b[0m-13.27   \u001b[0m | \u001b[0m47.01    \u001b[0m | \u001b[0m0.9      \u001b[0m | \u001b[0m603.3    \u001b[0m | \u001b[0m13.86    \u001b[0m |\n",
      "Early stopping on Epoch 60.\n",
      "| \u001b[0m13       \u001b[0m | \u001b[0m-13.32   \u001b[0m | \u001b[0m100.3    \u001b[0m | \u001b[0m0.8896   \u001b[0m | \u001b[0m440.0    \u001b[0m | \u001b[0m7.349    \u001b[0m |\n",
      "Early stopping on Epoch 23.\n",
      "| \u001b[0m14       \u001b[0m | \u001b[0m-13.64   \u001b[0m | \u001b[0m1.0      \u001b[0m | \u001b[0m0.9      \u001b[0m | \u001b[0m666.5    \u001b[0m | \u001b[0m17.0     \u001b[0m |\n",
      "Early stopping on Epoch 26.\n",
      "| \u001b[0m15       \u001b[0m | \u001b[0m-68.3    \u001b[0m | \u001b[0m97.43    \u001b[0m | \u001b[0m0.0      \u001b[0m | \u001b[0m925.0    \u001b[0m | \u001b[0m17.0     \u001b[0m |\n",
      "Early stopping on Epoch 16.\n",
      "| \u001b[0m16       \u001b[0m | \u001b[0m-66.81   \u001b[0m | \u001b[0m69.34    \u001b[0m | \u001b[0m0.0      \u001b[0m | \u001b[0m505.3    \u001b[0m | \u001b[0m17.0     \u001b[0m |\n",
      "Early stopping on Epoch 103.\n",
      "| \u001b[0m17       \u001b[0m | \u001b[0m-12.45   \u001b[0m | \u001b[0m77.91    \u001b[0m | \u001b[0m0.617    \u001b[0m | \u001b[0m396.5    \u001b[0m | \u001b[0m6.374    \u001b[0m |\n",
      "Early stopping on Epoch 48.\n",
      "| \u001b[0m18       \u001b[0m | \u001b[0m-13.66   \u001b[0m | \u001b[0m98.42    \u001b[0m | \u001b[0m0.6992   \u001b[0m | \u001b[0m612.6    \u001b[0m | \u001b[0m13.04    \u001b[0m |\n",
      "Early stopping on Epoch 24.\n",
      "| \u001b[0m19       \u001b[0m | \u001b[0m-13.34   \u001b[0m | \u001b[0m19.27    \u001b[0m | \u001b[0m0.9      \u001b[0m | \u001b[0m374.0    \u001b[0m | \u001b[0m17.0     \u001b[0m |\n",
      "Early stopping on Epoch 17.\n",
      "| \u001b[0m20       \u001b[0m | \u001b[0m-54.74   \u001b[0m | \u001b[0m129.0    \u001b[0m | \u001b[0m0.0      \u001b[0m | \u001b[0m405.3    \u001b[0m | \u001b[0m17.0     \u001b[0m |\n",
      "Early stopping on Epoch 56.\n",
      "| \u001b[0m21       \u001b[0m | \u001b[0m-13.32   \u001b[0m | \u001b[0m58.49    \u001b[0m | \u001b[0m0.2331   \u001b[0m | \u001b[0m429.3    \u001b[0m | \u001b[0m5.409    \u001b[0m |\n",
      "Early stopping on Epoch 72.\n",
      "| \u001b[0m22       \u001b[0m | \u001b[0m-13.32   \u001b[0m | \u001b[0m68.37    \u001b[0m | \u001b[0m0.6358   \u001b[0m | \u001b[0m349.2    \u001b[0m | \u001b[0m8.095    \u001b[0m |\n",
      "Early stopping on Epoch 31.\n",
      "| \u001b[0m23       \u001b[0m | \u001b[0m-13.32   \u001b[0m | \u001b[0m33.82    \u001b[0m | \u001b[0m0.2587   \u001b[0m | \u001b[0m644.8    \u001b[0m | \u001b[0m4.796    \u001b[0m |\n",
      "Early stopping on Epoch 20.\n",
      "| \u001b[0m24       \u001b[0m | \u001b[0m-12.45   \u001b[0m | \u001b[0m1.0      \u001b[0m | \u001b[0m0.9      \u001b[0m | \u001b[0m571.8    \u001b[0m | \u001b[0m2.0      \u001b[0m |\n",
      "Early stopping on Epoch 30.\n",
      "| \u001b[0m25       \u001b[0m | \u001b[0m-12.58   \u001b[0m | \u001b[0m1.0      \u001b[0m | \u001b[0m0.9      \u001b[0m | \u001b[0m817.1    \u001b[0m | \u001b[0m4.584    \u001b[0m |\n",
      "Early stopping on Epoch 39.\n",
      "| \u001b[0m26       \u001b[0m | \u001b[0m-13.28   \u001b[0m | \u001b[0m1.0      \u001b[0m | \u001b[0m0.9      \u001b[0m | \u001b[0m753.7    \u001b[0m | \u001b[0m11.76    \u001b[0m |\n",
      "Early stopping on Epoch 92.\n",
      "| \u001b[0m27       \u001b[0m | \u001b[0m-12.29   \u001b[0m | \u001b[0m45.18    \u001b[0m | \u001b[0m0.0      \u001b[0m | \u001b[0m790.9    \u001b[0m | \u001b[0m2.0      \u001b[0m |\n",
      "Early stopping on Epoch 41.\n",
      "| \u001b[0m28       \u001b[0m | \u001b[0m-13.27   \u001b[0m | \u001b[0m3.283    \u001b[0m | \u001b[0m0.2424   \u001b[0m | \u001b[0m114.6    \u001b[0m | \u001b[0m15.37    \u001b[0m |\n",
      "Early stopping on Epoch 136.\n",
      "| \u001b[0m29       \u001b[0m | \u001b[0m-12.3    \u001b[0m | \u001b[0m57.9     \u001b[0m | \u001b[0m0.7927   \u001b[0m | \u001b[0m132.9    \u001b[0m | \u001b[0m2.0      \u001b[0m |\n",
      "Early stopping on Epoch 184.\n",
      "| \u001b[0m30       \u001b[0m | \u001b[0m-13.35   \u001b[0m | \u001b[0m51.16    \u001b[0m | \u001b[0m0.1415   \u001b[0m | \u001b[0m72.15    \u001b[0m | \u001b[0m13.14    \u001b[0m |\n",
      "Early stopping on Epoch 306.\n",
      "| \u001b[0m31       \u001b[0m | \u001b[0m-13.33   \u001b[0m | \u001b[0m109.0    \u001b[0m | \u001b[0m0.2251   \u001b[0m | \u001b[0m94.96    \u001b[0m | \u001b[0m8.207    \u001b[0m |\n",
      "| \u001b[0m32       \u001b[0m | \u001b[0m-13.53   \u001b[0m | \u001b[0m102.7    \u001b[0m | \u001b[0m0.9      \u001b[0m | \u001b[0m30.44    \u001b[0m | \u001b[0m2.0      \u001b[0m |\n",
      "| \u001b[0m33       \u001b[0m | \u001b[0m-24.73   \u001b[0m | \u001b[0m40.97    \u001b[0m | \u001b[0m0.0      \u001b[0m | \u001b[0m5.484    \u001b[0m | \u001b[0m2.0      \u001b[0m |\n",
      "Early stopping on Epoch 22.\n",
      "| \u001b[0m34       \u001b[0m | \u001b[0m-13.32   \u001b[0m | \u001b[0m58.5     \u001b[0m | \u001b[0m0.0      \u001b[0m | \u001b[0m1.025e+03\u001b[0m | \u001b[0m2.0      \u001b[0m |\n",
      "Early stopping on Epoch 28.\n",
      "| \u001b[0m35       \u001b[0m | \u001b[0m-12.75   \u001b[0m | \u001b[0m3.373    \u001b[0m | \u001b[0m0.7101   \u001b[0m | \u001b[0m310.8    \u001b[0m | \u001b[0m4.648    \u001b[0m |\n",
      "Early stopping on Epoch 24.\n",
      "| \u001b[0m36       \u001b[0m | \u001b[0m-12.15   \u001b[0m | \u001b[0m1.0      \u001b[0m | \u001b[0m0.9      \u001b[0m | \u001b[0m244.2    \u001b[0m | \u001b[0m2.0      \u001b[0m |\n",
      "Early stopping on Epoch 19.\n",
      "| \u001b[0m37       \u001b[0m | \u001b[0m-12.64   \u001b[0m | \u001b[0m1.0      \u001b[0m | \u001b[0m0.9      \u001b[0m | \u001b[0m1.025e+03\u001b[0m | \u001b[0m2.0      \u001b[0m |\n",
      "Early stopping on Epoch 24.\n",
      "| \u001b[0m38       \u001b[0m | \u001b[0m-12.52   \u001b[0m | \u001b[0m1.0      \u001b[0m | \u001b[0m0.0      \u001b[0m | \u001b[0m969.0    \u001b[0m | \u001b[0m2.0      \u001b[0m |\n",
      "Early stopping on Epoch 37.\n",
      "| \u001b[0m39       \u001b[0m | \u001b[0m-12.57   \u001b[0m | \u001b[0m2.142    \u001b[0m | \u001b[0m0.6756   \u001b[0m | \u001b[0m880.5    \u001b[0m | \u001b[0m3.722    \u001b[0m |\n",
      "Early stopping on Epoch 59.\n",
      "| \u001b[0m40       \u001b[0m | \u001b[0m-12.27   \u001b[0m | \u001b[0m26.68    \u001b[0m | \u001b[0m0.0      \u001b[0m | \u001b[0m707.9    \u001b[0m | \u001b[0m2.0      \u001b[0m |\n",
      "Early stopping on Epoch 213.\n",
      "| \u001b[0m41       \u001b[0m | \u001b[0m-13.32   \u001b[0m | \u001b[0m129.0    \u001b[0m | \u001b[0m0.9      \u001b[0m | \u001b[0m145.3    \u001b[0m | \u001b[0m17.0     \u001b[0m |\n",
      "Early stopping on Epoch 34.\n",
      "| \u001b[0m42       \u001b[0m | \u001b[0m-13.28   \u001b[0m | \u001b[0m1.0      \u001b[0m | \u001b[0m0.9      \u001b[0m | \u001b[0m58.43    \u001b[0m | \u001b[0m17.0     \u001b[0m |\n",
      "Early stopping on Epoch 93.\n",
      "| \u001b[0m43       \u001b[0m | \u001b[0m-13.31   \u001b[0m | \u001b[0m65.49    \u001b[0m | \u001b[0m0.9      \u001b[0m | \u001b[0m180.3    \u001b[0m | \u001b[0m17.0     \u001b[0m |\n",
      "Early stopping on Epoch 72.\n",
      "| \u001b[0m44       \u001b[0m | \u001b[0m-38.41   \u001b[0m | \u001b[0m36.97    \u001b[0m | \u001b[0m0.0      \u001b[0m | \u001b[0m277.9    \u001b[0m | \u001b[0m17.0     \u001b[0m |\n",
      "Early stopping on Epoch 37.\n",
      "| \u001b[0m45       \u001b[0m | \u001b[0m-13.33   \u001b[0m | \u001b[0m114.8    \u001b[0m | \u001b[0m0.6165   \u001b[0m | \u001b[0m824.2    \u001b[0m | \u001b[0m3.182    \u001b[0m |\n",
      "Early stopping on Epoch 77.\n",
      "| \u001b[0m46       \u001b[0m | \u001b[0m-45.74   \u001b[0m | \u001b[0m2.21     \u001b[0m | \u001b[0m0.3225   \u001b[0m | \u001b[0m616.5    \u001b[0m | \u001b[0m10.55    \u001b[0m |\n",
      "Early stopping on Epoch 19.\n",
      "| \u001b[0m47       \u001b[0m | \u001b[0m-13.33   \u001b[0m | \u001b[0m30.4     \u001b[0m | \u001b[0m0.5388   \u001b[0m | \u001b[0m996.4    \u001b[0m | \u001b[0m16.01    \u001b[0m |\n",
      "Early stopping on Epoch 18.\n",
      "| \u001b[0m48       \u001b[0m | \u001b[0m-64.31   \u001b[0m | \u001b[0m4.678    \u001b[0m | \u001b[0m0.3943   \u001b[0m | \u001b[0m925.7    \u001b[0m | \u001b[0m11.36    \u001b[0m |\n",
      "| \u001b[0m49       \u001b[0m | \u001b[0m-45.7    \u001b[0m | \u001b[0m14.09    \u001b[0m | \u001b[0m0.08807  \u001b[0m | \u001b[0m851.7    \u001b[0m | \u001b[0m14.96    \u001b[0m |\n",
      "Early stopping on Epoch 40.\n",
      "| \u001b[0m50       \u001b[0m | \u001b[0m-12.96   \u001b[0m | \u001b[0m2.896    \u001b[0m | \u001b[0m0.3982   \u001b[0m | \u001b[0m994.6    \u001b[0m | \u001b[0m3.549    \u001b[0m |\n",
      "Early stopping on Epoch 53.\n",
      "| \u001b[0m51       \u001b[0m | \u001b[0m-13.38   \u001b[0m | \u001b[0m33.73    \u001b[0m | \u001b[0m0.5526   \u001b[0m | \u001b[0m676.7    \u001b[0m | \u001b[0m10.22    \u001b[0m |\n",
      "Early stopping on Epoch 30.\n",
      "| \u001b[0m52       \u001b[0m | \u001b[0m-12.35   \u001b[0m | \u001b[0m11.18    \u001b[0m | \u001b[0m0.9      \u001b[0m | \u001b[0m787.0    \u001b[0m | \u001b[0m2.31     \u001b[0m |\n",
      "Early stopping on Epoch 69.\n",
      "| \u001b[0m53       \u001b[0m | \u001b[0m-12.56   \u001b[0m | \u001b[0m42.27    \u001b[0m | \u001b[0m0.3467   \u001b[0m | \u001b[0m397.2    \u001b[0m | \u001b[0m2.0      \u001b[0m |\n",
      "Early stopping on Epoch 61.\n",
      "| \u001b[0m54       \u001b[0m | \u001b[0m-12.65   \u001b[0m | \u001b[0m68.02    \u001b[0m | \u001b[0m0.0      \u001b[0m | \u001b[0m631.7    \u001b[0m | \u001b[0m2.0      \u001b[0m |\n",
      "Early stopping on Epoch 56.\n",
      "| \u001b[0m55       \u001b[0m | \u001b[0m-12.55   \u001b[0m | \u001b[0m74.81    \u001b[0m | \u001b[0m0.9      \u001b[0m | \u001b[0m819.8    \u001b[0m | \u001b[0m2.0      \u001b[0m |\n"
     ]
    },
    {
     "name": "stdout",
     "output_type": "stream",
     "text": [
      "Early stopping on Epoch 208.\n",
      "| \u001b[0m56       \u001b[0m | \u001b[0m-13.33   \u001b[0m | \u001b[0m90.87    \u001b[0m | \u001b[0m0.2738   \u001b[0m | \u001b[0m134.4    \u001b[0m | \u001b[0m16.37    \u001b[0m |\n",
      "Early stopping on Epoch 63.\n",
      "| \u001b[0m57       \u001b[0m | \u001b[0m-12.27   \u001b[0m | \u001b[0m26.34    \u001b[0m | \u001b[0m0.9      \u001b[0m | \u001b[0m209.5    \u001b[0m | \u001b[0m2.0      \u001b[0m |\n",
      "Early stopping on Epoch 32.\n",
      "| \u001b[0m58       \u001b[0m | \u001b[0m-13.28   \u001b[0m | \u001b[0m41.07    \u001b[0m | \u001b[0m0.9      \u001b[0m | \u001b[0m749.1    \u001b[0m | \u001b[0m17.0     \u001b[0m |\n",
      "Early stopping on Epoch 75.\n",
      "| \u001b[0m59       \u001b[0m | \u001b[0m-12.38   \u001b[0m | \u001b[0m76.71    \u001b[0m | \u001b[0m0.9      \u001b[0m | \u001b[0m581.6    \u001b[0m | \u001b[0m2.0      \u001b[0m |\n",
      "Early stopping on Epoch 469.\n",
      "| \u001b[0m60       \u001b[0m | \u001b[0m-13.34   \u001b[0m | \u001b[0m128.5    \u001b[0m | \u001b[0m0.8691   \u001b[0m | \u001b[0m60.56    \u001b[0m | \u001b[0m13.48    \u001b[0m |\n",
      "Early stopping on Epoch 42.\n",
      "| \u001b[0m61       \u001b[0m | \u001b[0m-12.95   \u001b[0m | \u001b[0m1.0      \u001b[0m | \u001b[0m0.0      \u001b[0m | \u001b[0m346.2    \u001b[0m | \u001b[0m2.0      \u001b[0m |\n",
      "Early stopping on Epoch 16.\n",
      "| \u001b[0m62       \u001b[0m | \u001b[0m-67.17   \u001b[0m | \u001b[0m88.12    \u001b[0m | \u001b[0m0.0      \u001b[0m | \u001b[0m851.2    \u001b[0m | \u001b[0m17.0     \u001b[0m |\n",
      "Early stopping on Epoch 62.\n",
      "| \u001b[0m63       \u001b[0m | \u001b[0m-12.23   \u001b[0m | \u001b[0m92.22    \u001b[0m | \u001b[0m0.9      \u001b[0m | \u001b[0m791.9    \u001b[0m | \u001b[0m2.0      \u001b[0m |\n",
      "Early stopping on Epoch 354.\n",
      "| \u001b[0m64       \u001b[0m | \u001b[0m-13.33   \u001b[0m | \u001b[0m88.78    \u001b[0m | \u001b[0m0.9      \u001b[0m | \u001b[0m63.16    \u001b[0m | \u001b[0m17.0     \u001b[0m |\n",
      "Early stopping on Epoch 216.\n",
      "| \u001b[0m65       \u001b[0m | \u001b[0m-13.33   \u001b[0m | \u001b[0m70.41    \u001b[0m | \u001b[0m0.4259   \u001b[0m | \u001b[0m101.4    \u001b[0m | \u001b[0m14.26    \u001b[0m |\n",
      "Early stopping on Epoch 117.\n",
      "| \u001b[95m66       \u001b[0m | \u001b[95m-11.87   \u001b[0m | \u001b[95m32.04    \u001b[0m | \u001b[95m0.9      \u001b[0m | \u001b[95m100.7    \u001b[0m | \u001b[95m2.0      \u001b[0m |\n",
      "Early stopping on Epoch 39.\n",
      "| \u001b[0m67       \u001b[0m | \u001b[0m-13.28   \u001b[0m | \u001b[0m129.0    \u001b[0m | \u001b[0m0.9      \u001b[0m | \u001b[0m796.9    \u001b[0m | \u001b[0m17.0     \u001b[0m |\n",
      "Early stopping on Epoch 66.\n",
      "| \u001b[0m68       \u001b[0m | \u001b[0m-13.38   \u001b[0m | \u001b[0m29.15    \u001b[0m | \u001b[0m0.0      \u001b[0m | \u001b[0m142.1    \u001b[0m | \u001b[0m17.0     \u001b[0m |\n",
      "Early stopping on Epoch 46.\n",
      "| \u001b[0m69       \u001b[0m | \u001b[0m-12.69   \u001b[0m | \u001b[0m1.455    \u001b[0m | \u001b[0m0.4229   \u001b[0m | \u001b[0m468.5    \u001b[0m | \u001b[0m7.621    \u001b[0m |\n",
      "Early stopping on Epoch 109.\n",
      "| \u001b[0m70       \u001b[0m | \u001b[0m-11.95   \u001b[0m | \u001b[0m103.7    \u001b[0m | \u001b[0m0.0      \u001b[0m | \u001b[0m326.4    \u001b[0m | \u001b[0m2.0      \u001b[0m |\n",
      "| \u001b[0m71       \u001b[0m | \u001b[0m-52.23   \u001b[0m | \u001b[0m129.0    \u001b[0m | \u001b[0m0.9      \u001b[0m | \u001b[0m4.0      \u001b[0m | \u001b[0m17.0     \u001b[0m |\n",
      "Early stopping on Epoch 142.\n",
      "| \u001b[0m72       \u001b[0m | \u001b[0m-13.74   \u001b[0m | \u001b[0m103.4    \u001b[0m | \u001b[0m0.0      \u001b[0m | \u001b[0m172.5    \u001b[0m | \u001b[0m2.0      \u001b[0m |\n",
      "Early stopping on Epoch 58.\n",
      "| \u001b[0m73       \u001b[0m | \u001b[0m-13.31   \u001b[0m | \u001b[0m129.0    \u001b[0m | \u001b[0m0.0      \u001b[0m | \u001b[0m596.5    \u001b[0m | \u001b[0m2.0      \u001b[0m |\n",
      "Early stopping on Epoch 45.\n",
      "| \u001b[0m74       \u001b[0m | \u001b[0m-13.52   \u001b[0m | \u001b[0m1.0      \u001b[0m | \u001b[0m0.9      \u001b[0m | \u001b[0m709.9    \u001b[0m | \u001b[0m17.0     \u001b[0m |\n",
      "Early stopping on Epoch 27.\n",
      "| \u001b[0m75       \u001b[0m | \u001b[0m-13.32   \u001b[0m | \u001b[0m89.37    \u001b[0m | \u001b[0m0.4598   \u001b[0m | \u001b[0m1.024e+03\u001b[0m | \u001b[0m16.53    \u001b[0m |\n",
      "Early stopping on Epoch 34.\n",
      "| \u001b[0m76       \u001b[0m | \u001b[0m-13.31   \u001b[0m | \u001b[0m1.0      \u001b[0m | \u001b[0m0.9      \u001b[0m | \u001b[0m543.5    \u001b[0m | \u001b[0m17.0     \u001b[0m |\n",
      "Early stopping on Epoch 69.\n",
      "| \u001b[0m77       \u001b[0m | \u001b[0m-12.32   \u001b[0m | \u001b[0m36.52    \u001b[0m | \u001b[0m0.9      \u001b[0m | \u001b[0m564.4    \u001b[0m | \u001b[0m2.0      \u001b[0m |\n",
      "Early stopping on Epoch 19.\n",
      "| \u001b[0m78       \u001b[0m | \u001b[0m-54.83   \u001b[0m | \u001b[0m127.5    \u001b[0m | \u001b[0m0.1224   \u001b[0m | \u001b[0m637.5    \u001b[0m | \u001b[0m11.96    \u001b[0m |\n",
      "Early stopping on Epoch 35.\n",
      "| \u001b[0m79       \u001b[0m | \u001b[0m-13.43   \u001b[0m | \u001b[0m1.461    \u001b[0m | \u001b[0m0.6686   \u001b[0m | \u001b[0m207.6    \u001b[0m | \u001b[0m16.02    \u001b[0m |\n",
      "Early stopping on Epoch 23.\n",
      "| \u001b[0m80       \u001b[0m | \u001b[0m-12.06   \u001b[0m | \u001b[0m2.213    \u001b[0m | \u001b[0m0.801    \u001b[0m | \u001b[0m403.5    \u001b[0m | \u001b[0m2.498    \u001b[0m |\n",
      "Early stopping on Epoch 24.\n",
      "| \u001b[0m81       \u001b[0m | \u001b[0m-13.33   \u001b[0m | \u001b[0m71.91    \u001b[0m | \u001b[0m0.0      \u001b[0m | \u001b[0m989.9    \u001b[0m | \u001b[0m2.0      \u001b[0m |\n",
      "Early stopping on Epoch 56.\n",
      "| \u001b[0m82       \u001b[0m | \u001b[0m-12.21   \u001b[0m | \u001b[0m34.63    \u001b[0m | \u001b[0m0.9      \u001b[0m | \u001b[0m335.2    \u001b[0m | \u001b[0m2.0      \u001b[0m |\n",
      "Early stopping on Epoch 61.\n",
      "| \u001b[0m83       \u001b[0m | \u001b[0m-13.4    \u001b[0m | \u001b[0m1.515    \u001b[0m | \u001b[0m0.5957   \u001b[0m | \u001b[0m13.61    \u001b[0m | \u001b[0m10.15    \u001b[0m |\n",
      "Early stopping on Epoch 23.\n",
      "| \u001b[0m84       \u001b[0m | \u001b[0m-13.97   \u001b[0m | \u001b[0m44.14    \u001b[0m | \u001b[0m0.0538   \u001b[0m | \u001b[0m820.7    \u001b[0m | \u001b[0m2.642    \u001b[0m |\n",
      "Early stopping on Epoch 70.\n",
      "| \u001b[0m85       \u001b[0m | \u001b[0m-13.33   \u001b[0m | \u001b[0m128.4    \u001b[0m | \u001b[0m0.2497   \u001b[0m | \u001b[0m474.0    \u001b[0m | \u001b[0m5.619    \u001b[0m |\n",
      "Early stopping on Epoch 474.\n",
      "| \u001b[0m86       \u001b[0m | \u001b[0m-12.26   \u001b[0m | \u001b[0m68.58    \u001b[0m | \u001b[0m0.9      \u001b[0m | \u001b[0m39.56    \u001b[0m | \u001b[0m2.0      \u001b[0m |\n",
      "Early stopping on Epoch 79.\n",
      "| \u001b[0m87       \u001b[0m | \u001b[0m-13.34   \u001b[0m | \u001b[0m126.6    \u001b[0m | \u001b[0m0.2487   \u001b[0m | \u001b[0m524.0    \u001b[0m | \u001b[0m3.615    \u001b[0m |\n",
      "Early stopping on Epoch 103.\n",
      "| \u001b[0m88       \u001b[0m | \u001b[0m-13.33   \u001b[0m | \u001b[0m128.8    \u001b[0m | \u001b[0m0.8372   \u001b[0m | \u001b[0m326.2    \u001b[0m | \u001b[0m16.55    \u001b[0m |\n",
      "Early stopping on Epoch 95.\n",
      "| \u001b[0m89       \u001b[0m | \u001b[0m-12.25   \u001b[0m | \u001b[0m65.35    \u001b[0m | \u001b[0m0.9      \u001b[0m | \u001b[0m214.2    \u001b[0m | \u001b[0m2.0      \u001b[0m |\n",
      "Early stopping on Epoch 152.\n",
      "| \u001b[0m90       \u001b[0m | \u001b[0m-12.28   \u001b[0m | \u001b[0m25.4     \u001b[0m | \u001b[0m0.6597   \u001b[0m | \u001b[0m43.94    \u001b[0m | \u001b[0m2.874    \u001b[0m |\n",
      "Early stopping on Epoch 35.\n",
      "| \u001b[0m91       \u001b[0m | \u001b[0m-13.28   \u001b[0m | \u001b[0m55.55    \u001b[0m | \u001b[0m0.9      \u001b[0m | \u001b[0m710.6    \u001b[0m | \u001b[0m17.0     \u001b[0m |\n",
      "Early stopping on Epoch 89.\n",
      "| \u001b[0m92       \u001b[0m | \u001b[0m-12.54   \u001b[0m | \u001b[0m43.78    \u001b[0m | \u001b[0m0.6941   \u001b[0m | \u001b[0m173.0    \u001b[0m | \u001b[0m2.045    \u001b[0m |\n",
      "Early stopping on Epoch 70.\n",
      "| \u001b[0m93       \u001b[0m | \u001b[0m-13.19   \u001b[0m | \u001b[0m1.29     \u001b[0m | \u001b[0m0.7099   \u001b[0m | \u001b[0m148.2    \u001b[0m | \u001b[0m5.69     \u001b[0m |\n",
      "Early stopping on Epoch 16.\n",
      "| \u001b[0m94       \u001b[0m | \u001b[0m-68.61   \u001b[0m | \u001b[0m129.0    \u001b[0m | \u001b[0m0.0      \u001b[0m | \u001b[0m979.8    \u001b[0m | \u001b[0m17.0     \u001b[0m |\n",
      "Early stopping on Epoch 165.\n",
      "| \u001b[0m95       \u001b[0m | \u001b[0m-13.46   \u001b[0m | \u001b[0m128.2    \u001b[0m | \u001b[0m0.1427   \u001b[0m | \u001b[0m121.0    \u001b[0m | \u001b[0m2.141    \u001b[0m |\n",
      "Early stopping on Epoch 30.\n",
      "| \u001b[0m96       \u001b[0m | \u001b[0m-13.32   \u001b[0m | \u001b[0m113.4    \u001b[0m | \u001b[0m0.03172  \u001b[0m | \u001b[0m1.023e+03\u001b[0m | \u001b[0m3.623    \u001b[0m |\n",
      "Early stopping on Epoch 31.\n",
      "| \u001b[0m97       \u001b[0m | \u001b[0m-13.33   \u001b[0m | \u001b[0m71.95    \u001b[0m | \u001b[0m0.5127   \u001b[0m | \u001b[0m766.7    \u001b[0m | \u001b[0m15.89    \u001b[0m |\n",
      "Early stopping on Epoch 57.\n",
      "| \u001b[0m98       \u001b[0m | \u001b[0m-13.3    \u001b[0m | \u001b[0m56.04    \u001b[0m | \u001b[0m0.8615   \u001b[0m | \u001b[0m376.4    \u001b[0m | \u001b[0m16.12    \u001b[0m |\n",
      "Early stopping on Epoch 50.\n",
      "| \u001b[0m99       \u001b[0m | \u001b[0m-12.97   \u001b[0m | \u001b[0m7.878    \u001b[0m | \u001b[0m0.03297  \u001b[0m | \u001b[0m80.96    \u001b[0m | \u001b[0m2.556    \u001b[0m |\n",
      "Early stopping on Epoch 63.\n",
      "| \u001b[0m100      \u001b[0m | \u001b[0m-13.3    \u001b[0m | \u001b[0m74.73    \u001b[0m | \u001b[0m0.9      \u001b[0m | \u001b[0m317.0    \u001b[0m | \u001b[0m17.0     \u001b[0m |\n",
      "Early stopping on Epoch 40.\n",
      "| \u001b[0m101      \u001b[0m | \u001b[0m-13.31   \u001b[0m | \u001b[0m66.94    \u001b[0m | \u001b[0m0.9      \u001b[0m | \u001b[0m798.5    \u001b[0m | \u001b[0m17.0     \u001b[0m |\n",
      "Early stopping on Epoch 54.\n",
      "| \u001b[0m102      \u001b[0m | \u001b[0m-13.29   \u001b[0m | \u001b[0m95.7     \u001b[0m | \u001b[0m0.9      \u001b[0m | \u001b[0m345.9    \u001b[0m | \u001b[0m17.0     \u001b[0m |\n",
      "Early stopping on Epoch 16.\n",
      "| \u001b[0m103      \u001b[0m | \u001b[0m-68.01   \u001b[0m | \u001b[0m95.91    \u001b[0m | \u001b[0m0.204    \u001b[0m | \u001b[0m586.5    \u001b[0m | \u001b[0m16.5     \u001b[0m |\n",
      "Early stopping on Epoch 56.\n",
      "| \u001b[0m104      \u001b[0m | \u001b[0m-12.0    \u001b[0m | \u001b[0m54.82    \u001b[0m | \u001b[0m0.5932   \u001b[0m | \u001b[0m582.8    \u001b[0m | \u001b[0m5.176    \u001b[0m |\n",
      "Early stopping on Epoch 55.\n",
      "| \u001b[0m105      \u001b[0m | \u001b[0m-13.32   \u001b[0m | \u001b[0m128.4    \u001b[0m | \u001b[0m0.6564   \u001b[0m | \u001b[0m550.8    \u001b[0m | \u001b[0m2.18     \u001b[0m |\n",
      "Early stopping on Epoch 143.\n",
      "| \u001b[0m106      \u001b[0m | \u001b[0m-13.33   \u001b[0m | \u001b[0m71.72    \u001b[0m | \u001b[0m0.5931   \u001b[0m | \u001b[0m158.6    \u001b[0m | \u001b[0m3.285    \u001b[0m |\n",
      "Early stopping on Epoch 66.\n",
      "| \u001b[0m107      \u001b[0m | \u001b[0m-16.89   \u001b[0m | \u001b[0m30.94    \u001b[0m | \u001b[0m0.1704   \u001b[0m | \u001b[0m1.024e+03\u001b[0m | \u001b[0m7.453    \u001b[0m |\n",
      "Early stopping on Epoch 124.\n",
      "| \u001b[0m108      \u001b[0m | \u001b[0m-13.32   \u001b[0m | \u001b[0m44.41    \u001b[0m | \u001b[0m0.4511   \u001b[0m | \u001b[0m202.6    \u001b[0m | \u001b[0m16.06    \u001b[0m |\n",
      "Early stopping on Epoch 88.\n",
      "| \u001b[0m109      \u001b[0m | \u001b[0m-12.57   \u001b[0m | \u001b[0m66.12    \u001b[0m | \u001b[0m0.9      \u001b[0m | \u001b[0m558.5    \u001b[0m | \u001b[0m2.0      \u001b[0m |\n",
      "Early stopping on Epoch 30.\n",
      "| \u001b[0m110      \u001b[0m | \u001b[0m-13.28   \u001b[0m | \u001b[0m31.94    \u001b[0m | \u001b[0m0.9      \u001b[0m | \u001b[0m456.3    \u001b[0m | \u001b[0m17.0     \u001b[0m |\n",
      "=========================================================================\n"
     ]
    }
   ],
   "source": [
    "# iterate through feature space\n",
    "optimizer.maximize(init_points=10, n_iter=100)"
   ]
  },
  {
   "cell_type": "code",
   "execution_count": 70,
   "metadata": {
    "ExecuteTime": {
     "end_time": "2023-11-27T22:05:13.703234Z",
     "start_time": "2023-11-27T22:05:13.683217Z"
    }
   },
   "outputs": [
    {
     "data": {
      "text/plain": [
       "{'batch_size': 32.03638856422199,\n",
       " 'dropout': 0.9,\n",
       " 'hidden_dim': 100.74795411866992,\n",
       " 'num_layers': 2.0}"
      ]
     },
     "execution_count": 70,
     "metadata": {},
     "output_type": "execute_result"
    }
   ],
   "source": [
    "# look at params that gave lowest validation RMSE\n",
    "best_hyperparams = optimizer.max['params']\n",
    "best_hyperparams"
   ]
  },
  {
   "cell_type": "markdown",
   "metadata": {},
   "source": [
    "- Best val_rmse = __11.87__ with a sequence length of 2."
   ]
  },
  {
   "cell_type": "markdown",
   "metadata": {},
   "source": [
    "## seq_len = 3\n",
    "- Use 3 seasons to predict a QB's grade in the 4th."
   ]
  },
  {
   "cell_type": "code",
   "execution_count": 74,
   "metadata": {
    "ExecuteTime": {
     "end_time": "2023-11-27T22:09:36.338817Z",
     "start_time": "2023-11-27T22:09:36.331810Z"
    }
   },
   "outputs": [],
   "source": [
    "def objective_function(hidden_dim, num_layers, dropout, batch_size):\n",
    "    # cast continuous values to int\n",
    "    hidden_dim = int(hidden_dim)\n",
    "    num_layers = int(num_layers)\n",
    "    batch_size = int(batch_size)\n",
    "    \n",
    "    # create sequences\n",
    "    X, y = create_seq(feature_subset=all_feats, seq_len=3, df=df)\n",
    "    \n",
    "    # create dataloaders\n",
    "    train_loader, val_loader = create_loaders(X, y, test_size=0.1, batch_size=batch_size)\n",
    "\n",
    "    # create model\n",
    "    model = RNN(input_dim=66, hidden_dim=hidden_dim, num_layers=num_layers, dropout=dropout).to(device)\n",
    "        \n",
    "    # create optimizer\n",
    "    optimizer = torch.optim.AdamW(model.parameters(), lr=0.001)\n",
    "    \n",
    "    # train model\n",
    "    train_rmse, train_r2, val_rmse, val_r2, num_epochs, patience = train_val(model, optimizer, train_loader, val_loader)\n",
    "    \n",
    "    # return the negative of the validation metric (since Bayesian optimization minimizes)\n",
    "    return -val_rmse"
   ]
  },
  {
   "cell_type": "code",
   "execution_count": 75,
   "metadata": {
    "ExecuteTime": {
     "end_time": "2023-11-27T22:09:36.890019Z",
     "start_time": "2023-11-27T22:09:36.870993Z"
    }
   },
   "outputs": [],
   "source": [
    "# define bounds of each hyperparameter\n",
    "pbounds = {\n",
    "    'hidden_dim': (4, 1025),\n",
    "    'num_layers': (2, 17),\n",
    "    'dropout': (0, 0.9),\n",
    "    'batch_size': (1, 129)\n",
    "}\n",
    "\n",
    "# create the Bayesian optimizer\n",
    "optimizer = BayesianOptimization(\n",
    "    f=objective_function,\n",
    "    pbounds=pbounds,\n",
    "    random_state=random_state,\n",
    "    allow_duplicate_points=True\n",
    ")"
   ]
  },
  {
   "cell_type": "code",
   "execution_count": 76,
   "metadata": {
    "ExecuteTime": {
     "end_time": "2023-11-27T22:23:11.588767Z",
     "start_time": "2023-11-27T22:09:38.552817Z"
    },
    "scrolled": true
   },
   "outputs": [
    {
     "name": "stdout",
     "output_type": "stream",
     "text": [
      "|   iter    |  target   | batch_... |  dropout  | hidden... | num_la... |\n",
      "-------------------------------------------------------------------------\n",
      "Early stopping on Epoch 32.\n",
      "| \u001b[0m1        \u001b[0m | \u001b[0m-20.11   \u001b[0m | \u001b[0m2.328    \u001b[0m | \u001b[0m0.4517   \u001b[0m | \u001b[0m510.2    \u001b[0m | \u001b[0m4.007    \u001b[0m |\n",
      "Early stopping on Epoch 34.\n",
      "| \u001b[0m2        \u001b[0m | \u001b[0m-21.17   \u001b[0m | \u001b[0m19.19    \u001b[0m | \u001b[0m0.1967   \u001b[0m | \u001b[0m431.3    \u001b[0m | \u001b[0m5.722    \u001b[0m |\n",
      "Early stopping on Epoch 27.\n",
      "| \u001b[95m3        \u001b[0m | \u001b[95m-13.28   \u001b[0m | \u001b[95m11.76    \u001b[0m | \u001b[95m0.3109   \u001b[0m | \u001b[95m174.3    \u001b[0m | \u001b[95m15.18    \u001b[0m |\n",
      "Early stopping on Epoch 23.\n",
      "| \u001b[0m4        \u001b[0m | \u001b[0m-67.22   \u001b[0m | \u001b[0m122.7    \u001b[0m | \u001b[0m0.03487  \u001b[0m | \u001b[0m717.8    \u001b[0m | \u001b[0m10.59    \u001b[0m |\n",
      "Early stopping on Epoch 44.\n",
      "| \u001b[95m5        \u001b[0m | \u001b[95m-13.2    \u001b[0m | \u001b[95m115.9    \u001b[0m | \u001b[95m0.6002   \u001b[0m | \u001b[95m563.3    \u001b[0m | \u001b[95m12.54    \u001b[0m |\n",
      "Early stopping on Epoch 22.\n",
      "| \u001b[0m6        \u001b[0m | \u001b[0m-22.06   \u001b[0m | \u001b[0m50.47    \u001b[0m | \u001b[0m0.625    \u001b[0m | \u001b[0m846.2    \u001b[0m | \u001b[0m8.985    \u001b[0m |\n",
      "Early stopping on Epoch 27.\n",
      "| \u001b[0m7        \u001b[0m | \u001b[0m-21.3    \u001b[0m | \u001b[0m121.4    \u001b[0m | \u001b[0m0.7234   \u001b[0m | \u001b[0m1.008e+03\u001b[0m | \u001b[0m4.545    \u001b[0m |\n",
      "Early stopping on Epoch 27.\n",
      "| \u001b[0m8        \u001b[0m | \u001b[0m-13.38   \u001b[0m | \u001b[0m67.7     \u001b[0m | \u001b[0m0.851    \u001b[0m | \u001b[0m667.2    \u001b[0m | \u001b[0m14.91    \u001b[0m |\n",
      "Early stopping on Epoch 89.\n",
      "| \u001b[95m9        \u001b[0m | \u001b[95m-12.86   \u001b[0m | \u001b[95m125.3    \u001b[0m | \u001b[95m0.167    \u001b[0m | \u001b[95m252.2    \u001b[0m | \u001b[95m15.1     \u001b[0m |\n",
      "Early stopping on Epoch 65.\n",
      "| \u001b[0m10       \u001b[0m | \u001b[0m-12.95   \u001b[0m | \u001b[0m117.0    \u001b[0m | \u001b[0m0.6825   \u001b[0m | \u001b[0m358.2    \u001b[0m | \u001b[0m8.953    \u001b[0m |\n",
      "Early stopping on Epoch 59.\n",
      "| \u001b[0m11       \u001b[0m | \u001b[0m-20.97   \u001b[0m | \u001b[0m117.1    \u001b[0m | \u001b[0m0.2129   \u001b[0m | \u001b[0m358.0    \u001b[0m | \u001b[0m7.048    \u001b[0m |\n",
      "Early stopping on Epoch 58.\n",
      "| \u001b[0m12       \u001b[0m | \u001b[0m-13.09   \u001b[0m | \u001b[0m120.9    \u001b[0m | \u001b[0m0.8615   \u001b[0m | \u001b[0m359.7    \u001b[0m | \u001b[0m13.25    \u001b[0m |\n",
      "Early stopping on Epoch 65.\n",
      "| \u001b[0m13       \u001b[0m | \u001b[0m-12.99   \u001b[0m | \u001b[0m110.8    \u001b[0m | \u001b[0m0.1656   \u001b[0m | \u001b[0m361.0    \u001b[0m | \u001b[0m13.49    \u001b[0m |\n",
      "Early stopping on Epoch 66.\n",
      "| \u001b[0m14       \u001b[0m | \u001b[0m-12.98   \u001b[0m | \u001b[0m115.7    \u001b[0m | \u001b[0m0.5517   \u001b[0m | \u001b[0m350.3    \u001b[0m | \u001b[0m12.47    \u001b[0m |\n",
      "Early stopping on Epoch 54.\n",
      "| \u001b[0m15       \u001b[0m | \u001b[0m-13.14   \u001b[0m | \u001b[0m106.2    \u001b[0m | \u001b[0m0.9      \u001b[0m | \u001b[0m351.5    \u001b[0m | \u001b[0m17.0     \u001b[0m |\n",
      "Early stopping on Epoch 79.\n",
      "| \u001b[0m16       \u001b[0m | \u001b[0m-12.92   \u001b[0m | \u001b[0m118.2    \u001b[0m | \u001b[0m0.8915   \u001b[0m | \u001b[0m245.5    \u001b[0m | \u001b[0m9.498    \u001b[0m |\n",
      "Early stopping on Epoch 94.\n",
      "| \u001b[95m17       \u001b[0m | \u001b[95m-12.81   \u001b[0m | \u001b[95m125.3    \u001b[0m | \u001b[95m0.7222   \u001b[0m | \u001b[95m237.9    \u001b[0m | \u001b[95m14.72    \u001b[0m |\n",
      "Early stopping on Epoch 92.\n",
      "| \u001b[0m18       \u001b[0m | \u001b[0m-20.68   \u001b[0m | \u001b[0m113.3    \u001b[0m | \u001b[0m0.3019   \u001b[0m | \u001b[0m250.1    \u001b[0m | \u001b[0m16.95    \u001b[0m |\n",
      "Early stopping on Epoch 90.\n",
      "| \u001b[0m19       \u001b[0m | \u001b[0m-12.87   \u001b[0m | \u001b[0m126.7    \u001b[0m | \u001b[0m0.6825   \u001b[0m | \u001b[0m248.7    \u001b[0m | \u001b[0m6.415    \u001b[0m |\n",
      "Early stopping on Epoch 94.\n",
      "| \u001b[0m20       \u001b[0m | \u001b[0m-12.84   \u001b[0m | \u001b[0m121.0    \u001b[0m | \u001b[0m0.4455   \u001b[0m | \u001b[0m237.2    \u001b[0m | \u001b[0m3.423    \u001b[0m |\n",
      "Early stopping on Epoch 89.\n",
      "| \u001b[0m21       \u001b[0m | \u001b[0m-12.86   \u001b[0m | \u001b[0m116.8    \u001b[0m | \u001b[0m0.8633   \u001b[0m | \u001b[0m228.9    \u001b[0m | \u001b[0m13.71    \u001b[0m |\n",
      "Early stopping on Epoch 100.\n",
      "| \u001b[0m22       \u001b[0m | \u001b[0m-12.81   \u001b[0m | \u001b[0m128.0    \u001b[0m | \u001b[0m0.4467   \u001b[0m | \u001b[0m227.6    \u001b[0m | \u001b[0m10.81    \u001b[0m |\n",
      "Early stopping on Epoch 16.\n",
      "| \u001b[0m23       \u001b[0m | \u001b[0m-60.32   \u001b[0m | \u001b[0m21.57    \u001b[0m | \u001b[0m0.009869 \u001b[0m | \u001b[0m589.1    \u001b[0m | \u001b[0m13.81    \u001b[0m |\n",
      "Early stopping on Epoch 94.\n",
      "| \u001b[0m24       \u001b[0m | \u001b[0m-12.84   \u001b[0m | \u001b[0m118.5    \u001b[0m | \u001b[0m0.8732   \u001b[0m | \u001b[0m211.8    \u001b[0m | \u001b[0m10.66    \u001b[0m |\n",
      "Early stopping on Epoch 98.\n",
      "| \u001b[0m25       \u001b[0m | \u001b[0m-12.82   \u001b[0m | \u001b[0m108.2    \u001b[0m | \u001b[0m0.0      \u001b[0m | \u001b[0m221.1    \u001b[0m | \u001b[0m2.0      \u001b[0m |\n",
      "Early stopping on Epoch 90.\n",
      "| \u001b[0m26       \u001b[0m | \u001b[0m-12.88   \u001b[0m | \u001b[0m101.5    \u001b[0m | \u001b[0m0.2237   \u001b[0m | \u001b[0m214.4    \u001b[0m | \u001b[0m15.05    \u001b[0m |\n",
      "Early stopping on Epoch 106.\n",
      "| \u001b[0m27       \u001b[0m | \u001b[0m-12.81   \u001b[0m | \u001b[0m105.5    \u001b[0m | \u001b[0m0.9      \u001b[0m | \u001b[0m204.0    \u001b[0m | \u001b[0m2.247    \u001b[0m |\n",
      "Early stopping on Epoch 88.\n",
      "| \u001b[0m28       \u001b[0m | \u001b[0m-12.87   \u001b[0m | \u001b[0m88.88    \u001b[0m | \u001b[0m0.8496   \u001b[0m | \u001b[0m211.4    \u001b[0m | \u001b[0m4.64     \u001b[0m |\n",
      "Early stopping on Epoch 89.\n",
      "| \u001b[0m29       \u001b[0m | \u001b[0m-12.86   \u001b[0m | \u001b[0m90.83    \u001b[0m | \u001b[0m0.8374   \u001b[0m | \u001b[0m200.2    \u001b[0m | \u001b[0m16.78    \u001b[0m |\n",
      "Early stopping on Epoch 113.\n",
      "| \u001b[95m30       \u001b[0m | \u001b[95m-12.79   \u001b[0m | \u001b[95m110.7    \u001b[0m | \u001b[95m0.6762   \u001b[0m | \u001b[95m195.0    \u001b[0m | \u001b[95m16.51    \u001b[0m |\n",
      "Early stopping on Epoch 101.\n",
      "| \u001b[0m31       \u001b[0m | \u001b[0m-12.82   \u001b[0m | \u001b[0m99.04    \u001b[0m | \u001b[0m0.535    \u001b[0m | \u001b[0m189.2    \u001b[0m | \u001b[0m7.378    \u001b[0m |\n",
      "Early stopping on Epoch 114.\n",
      "| \u001b[95m32       \u001b[0m | \u001b[95m-12.79   \u001b[0m | \u001b[95m117.7    \u001b[0m | \u001b[95m0.0      \u001b[0m | \u001b[95m191.7    \u001b[0m | \u001b[95m2.0      \u001b[0m |\n",
      "Early stopping on Epoch 107.\n",
      "| \u001b[0m33       \u001b[0m | \u001b[0m-12.81   \u001b[0m | \u001b[0m112.3    \u001b[0m | \u001b[0m0.9      \u001b[0m | \u001b[0m178.4    \u001b[0m | \u001b[0m11.31    \u001b[0m |\n",
      "Early stopping on Epoch 116.\n",
      "| \u001b[95m34       \u001b[0m | \u001b[95m-12.79   \u001b[0m | \u001b[95m128.4    \u001b[0m | \u001b[95m0.2501   \u001b[0m | \u001b[95m199.0    \u001b[0m | \u001b[95m15.7     \u001b[0m |\n",
      "Early stopping on Epoch 26.\n",
      "| \u001b[0m35       \u001b[0m | \u001b[0m-82.88   \u001b[0m | \u001b[0m116.4    \u001b[0m | \u001b[0m0.646    \u001b[0m | \u001b[0m869.0    \u001b[0m | \u001b[0m8.801    \u001b[0m |\n",
      "Early stopping on Epoch 80.\n",
      "| \u001b[0m36       \u001b[0m | \u001b[0m-12.92   \u001b[0m | \u001b[0m70.74    \u001b[0m | \u001b[0m0.6602   \u001b[0m | \u001b[0m188.9    \u001b[0m | \u001b[0m7.85     \u001b[0m |\n",
      "Early stopping on Epoch 98.\n",
      "| \u001b[0m37       \u001b[0m | \u001b[0m-12.83   \u001b[0m | \u001b[0m84.69    \u001b[0m | \u001b[0m0.4357   \u001b[0m | \u001b[0m170.0    \u001b[0m | \u001b[0m13.18    \u001b[0m |\n",
      "Early stopping on Epoch 71.\n",
      "| \u001b[0m38       \u001b[0m | \u001b[0m-12.94   \u001b[0m | \u001b[0m57.53    \u001b[0m | \u001b[0m0.7643   \u001b[0m | \u001b[0m168.8    \u001b[0m | \u001b[0m16.68    \u001b[0m |\n",
      "Early stopping on Epoch 51.\n",
      "| \u001b[0m39       \u001b[0m | \u001b[0m-13.16   \u001b[0m | \u001b[0m37.13    \u001b[0m | \u001b[0m0.4007   \u001b[0m | \u001b[0m182.7    \u001b[0m | \u001b[0m11.15    \u001b[0m |\n",
      "Early stopping on Epoch 51.\n",
      "| \u001b[0m40       \u001b[0m | \u001b[0m-13.1    \u001b[0m | \u001b[0m31.53    \u001b[0m | \u001b[0m0.1643   \u001b[0m | \u001b[0m159.1    \u001b[0m | \u001b[0m12.79    \u001b[0m |\n",
      "Early stopping on Epoch 81.\n",
      "| \u001b[0m41       \u001b[0m | \u001b[0m-12.89   \u001b[0m | \u001b[0m56.86    \u001b[0m | \u001b[0m0.3572   \u001b[0m | \u001b[0m148.4    \u001b[0m | \u001b[0m3.784    \u001b[0m |\n",
      "Early stopping on Epoch 106.\n",
      "| \u001b[0m42       \u001b[0m | \u001b[0m-12.8    \u001b[0m | \u001b[0m78.33    \u001b[0m | \u001b[0m0.8023   \u001b[0m | \u001b[0m147.9    \u001b[0m | \u001b[0m11.0     \u001b[0m |\n",
      "Early stopping on Epoch 120.\n",
      "| \u001b[0m43       \u001b[0m | \u001b[0m-12.79   \u001b[0m | \u001b[0m103.7    \u001b[0m | \u001b[0m0.2599   \u001b[0m | \u001b[0m155.6    \u001b[0m | \u001b[0m4.696    \u001b[0m |\n",
      "Early stopping on Epoch 56.\n",
      "| \u001b[0m44       \u001b[0m | \u001b[0m-13.07   \u001b[0m | \u001b[0m56.61    \u001b[0m | \u001b[0m0.8694   \u001b[0m | \u001b[0m206.5    \u001b[0m | \u001b[0m14.95    \u001b[0m |\n",
      "Early stopping on Epoch 68.\n",
      "| \u001b[0m45       \u001b[0m | \u001b[0m-12.97   \u001b[0m | \u001b[0m69.81    \u001b[0m | \u001b[0m0.3601   \u001b[0m | \u001b[0m226.2    \u001b[0m | \u001b[0m13.47    \u001b[0m |\n",
      "Early stopping on Epoch 139.\n",
      "| \u001b[95m46       \u001b[0m | \u001b[95m-12.75   \u001b[0m | \u001b[95m99.13    \u001b[0m | \u001b[95m0.6594   \u001b[0m | \u001b[95m133.1    \u001b[0m | \u001b[95m8.885    \u001b[0m |\n",
      "Early stopping on Epoch 113.\n",
      "| \u001b[0m47       \u001b[0m | \u001b[0m-12.8    \u001b[0m | \u001b[0m72.6     \u001b[0m | \u001b[0m0.2376   \u001b[0m | \u001b[0m126.1    \u001b[0m | \u001b[0m6.603    \u001b[0m |\n",
      "Early stopping on Epoch 75.\n",
      "| \u001b[0m48       \u001b[0m | \u001b[0m-12.94   \u001b[0m | \u001b[0m51.19    \u001b[0m | \u001b[0m0.9      \u001b[0m | \u001b[0m131.0    \u001b[0m | \u001b[0m17.0     \u001b[0m |\n",
      "Early stopping on Epoch 59.\n",
      "| \u001b[0m49       \u001b[0m | \u001b[0m-13.04   \u001b[0m | \u001b[0m34.5     \u001b[0m | \u001b[0m0.0      \u001b[0m | \u001b[0m137.4    \u001b[0m | \u001b[0m2.0      \u001b[0m |\n",
      "Early stopping on Epoch 51.\n",
      "| \u001b[95m50       \u001b[0m | \u001b[95m-12.16   \u001b[0m | \u001b[95m12.0     \u001b[0m | \u001b[95m0.5886   \u001b[0m | \u001b[95m150.8    \u001b[0m | \u001b[95m5.247    \u001b[0m |\n",
      "Early stopping on Epoch 41.\n",
      "| \u001b[0m51       \u001b[0m | \u001b[0m-13.21   \u001b[0m | \u001b[0m18.12    \u001b[0m | \u001b[0m0.638    \u001b[0m | \u001b[0m133.5    \u001b[0m | \u001b[0m16.29    \u001b[0m |\n",
      "Early stopping on Epoch 87.\n",
      "| \u001b[0m52       \u001b[0m | \u001b[0m-12.96   \u001b[0m | \u001b[0m69.43    \u001b[0m | \u001b[0m0.0      \u001b[0m | \u001b[0m166.3    \u001b[0m | \u001b[0m2.0      \u001b[0m |\n",
      "Early stopping on Epoch 82.\n",
      "| \u001b[0m53       \u001b[0m | \u001b[0m-12.87   \u001b[0m | \u001b[0m43.78    \u001b[0m | \u001b[0m0.4946   \u001b[0m | \u001b[0m112.8    \u001b[0m | \u001b[0m2.554    \u001b[0m |\n",
      "Early stopping on Epoch 118.\n",
      "| \u001b[0m54       \u001b[0m | \u001b[0m-12.79   \u001b[0m | \u001b[0m60.12    \u001b[0m | \u001b[0m0.4718   \u001b[0m | \u001b[0m107.1    \u001b[0m | \u001b[0m15.16    \u001b[0m |\n"
     ]
    },
    {
     "name": "stdout",
     "output_type": "stream",
     "text": [
      "Early stopping on Epoch 127.\n",
      "| \u001b[0m55       \u001b[0m | \u001b[0m-12.77   \u001b[0m | \u001b[0m87.0     \u001b[0m | \u001b[0m0.9      \u001b[0m | \u001b[0m112.3    \u001b[0m | \u001b[0m17.0     \u001b[0m |\n",
      "Early stopping on Epoch 151.\n",
      "| \u001b[0m56       \u001b[0m | \u001b[0m-12.74   \u001b[0m | \u001b[0m76.28    \u001b[0m | \u001b[0m0.9      \u001b[0m | \u001b[0m100.8    \u001b[0m | \u001b[0m2.0      \u001b[0m |\n",
      "Early stopping on Epoch 167.\n",
      "| \u001b[0m57       \u001b[0m | \u001b[0m-12.73   \u001b[0m | \u001b[0m103.7    \u001b[0m | \u001b[0m0.1333   \u001b[0m | \u001b[0m111.9    \u001b[0m | \u001b[0m3.599    \u001b[0m |\n",
      "Early stopping on Epoch 199.\n",
      "| \u001b[0m58       \u001b[0m | \u001b[0m-12.71   \u001b[0m | \u001b[0m94.11    \u001b[0m | \u001b[0m0.07921  \u001b[0m | \u001b[0m91.99    \u001b[0m | \u001b[0m10.58    \u001b[0m |\n",
      "Early stopping on Epoch 161.\n",
      "| \u001b[0m59       \u001b[0m | \u001b[0m-12.73   \u001b[0m | \u001b[0m72.55    \u001b[0m | \u001b[0m0.0      \u001b[0m | \u001b[0m86.05    \u001b[0m | \u001b[0m17.0     \u001b[0m |\n",
      "Early stopping on Epoch 118.\n",
      "| \u001b[0m60       \u001b[0m | \u001b[0m-14.33   \u001b[0m | \u001b[0m53.53    \u001b[0m | \u001b[0m0.7182   \u001b[0m | \u001b[0m85.1     \u001b[0m | \u001b[0m2.6      \u001b[0m |\n",
      "Early stopping on Epoch 58.\n",
      "| \u001b[0m61       \u001b[0m | \u001b[0m-13.06   \u001b[0m | \u001b[0m25.37    \u001b[0m | \u001b[0m0.4154   \u001b[0m | \u001b[0m113.4    \u001b[0m | \u001b[0m15.21    \u001b[0m |\n",
      "Early stopping on Epoch 147.\n",
      "| \u001b[0m62       \u001b[0m | \u001b[0m-12.74   \u001b[0m | \u001b[0m120.5    \u001b[0m | \u001b[0m0.8718   \u001b[0m | \u001b[0m140.4    \u001b[0m | \u001b[0m5.255    \u001b[0m |\n",
      "Early stopping on Epoch 177.\n",
      "| \u001b[0m63       \u001b[0m | \u001b[0m-12.71   \u001b[0m | \u001b[0m116.9    \u001b[0m | \u001b[0m0.0      \u001b[0m | \u001b[0m122.2    \u001b[0m | \u001b[0m17.0     \u001b[0m |\n",
      "Early stopping on Epoch 194.\n",
      "| \u001b[0m64       \u001b[0m | \u001b[0m-12.71   \u001b[0m | \u001b[0m114.3    \u001b[0m | \u001b[0m0.9      \u001b[0m | \u001b[0m99.46    \u001b[0m | \u001b[0m17.0     \u001b[0m |\n",
      "Early stopping on Epoch 187.\n",
      "| \u001b[0m65       \u001b[0m | \u001b[0m-12.71   \u001b[0m | \u001b[0m126.5    \u001b[0m | \u001b[0m0.9      \u001b[0m | \u001b[0m111.5    \u001b[0m | \u001b[0m2.0      \u001b[0m |\n",
      "Early stopping on Epoch 91.\n",
      "| \u001b[0m66       \u001b[0m | \u001b[0m-12.87   \u001b[0m | \u001b[0m40.04    \u001b[0m | \u001b[0m0.0      \u001b[0m | \u001b[0m97.15    \u001b[0m | \u001b[0m17.0     \u001b[0m |\n",
      "Early stopping on Epoch 138.\n",
      "| \u001b[0m67       \u001b[0m | \u001b[0m-12.76   \u001b[0m | \u001b[0m128.0    \u001b[0m | \u001b[0m0.4143   \u001b[0m | \u001b[0m161.7    \u001b[0m | \u001b[0m3.463    \u001b[0m |\n",
      "Early stopping on Epoch 204.\n",
      "| \u001b[0m68       \u001b[0m | \u001b[0m-12.7    \u001b[0m | \u001b[0m83.73    \u001b[0m | \u001b[0m0.4222   \u001b[0m | \u001b[0m75.47    \u001b[0m | \u001b[0m3.858    \u001b[0m |\n",
      "Early stopping on Epoch 31.\n",
      "| \u001b[0m69       \u001b[0m | \u001b[0m-13.46   \u001b[0m | \u001b[0m110.0    \u001b[0m | \u001b[0m0.811    \u001b[0m | \u001b[0m836.0    \u001b[0m | \u001b[0m11.18    \u001b[0m |\n",
      "Early stopping on Epoch 36.\n",
      "| \u001b[0m70       \u001b[0m | \u001b[0m-13.3    \u001b[0m | \u001b[0m84.79    \u001b[0m | \u001b[0m0.6051   \u001b[0m | \u001b[0m559.7    \u001b[0m | \u001b[0m9.225    \u001b[0m |\n",
      "Early stopping on Epoch 23.\n",
      "| \u001b[0m71       \u001b[0m | \u001b[0m-34.08   \u001b[0m | \u001b[0m126.2    \u001b[0m | \u001b[0m0.0219   \u001b[0m | \u001b[0m909.3    \u001b[0m | \u001b[0m10.37    \u001b[0m |\n",
      "Early stopping on Epoch 24.\n",
      "| \u001b[0m72       \u001b[0m | \u001b[0m-13.24   \u001b[0m | \u001b[0m73.55    \u001b[0m | \u001b[0m0.4718   \u001b[0m | \u001b[0m927.0    \u001b[0m | \u001b[0m16.88    \u001b[0m |\n",
      "Early stopping on Epoch 37.\n",
      "| \u001b[0m73       \u001b[0m | \u001b[0m-12.7    \u001b[0m | \u001b[0m98.87    \u001b[0m | \u001b[0m0.527    \u001b[0m | \u001b[0m599.4    \u001b[0m | \u001b[0m4.048    \u001b[0m |\n",
      "Early stopping on Epoch 20.\n",
      "| \u001b[0m74       \u001b[0m | \u001b[0m-57.47   \u001b[0m | \u001b[0m45.15    \u001b[0m | \u001b[0m0.06997  \u001b[0m | \u001b[0m554.1    \u001b[0m | \u001b[0m13.86    \u001b[0m |\n",
      "Early stopping on Epoch 51.\n",
      "| \u001b[0m75       \u001b[0m | \u001b[0m-13.13   \u001b[0m | \u001b[0m96.19    \u001b[0m | \u001b[0m0.2319   \u001b[0m | \u001b[0m577.7    \u001b[0m | \u001b[0m14.73    \u001b[0m |\n",
      "Early stopping on Epoch 42.\n",
      "| \u001b[0m76       \u001b[0m | \u001b[0m-13.23   \u001b[0m | \u001b[0m118.9    \u001b[0m | \u001b[0m0.0      \u001b[0m | \u001b[0m586.0    \u001b[0m | \u001b[0m2.0      \u001b[0m |\n",
      "Early stopping on Epoch 29.\n",
      "| \u001b[0m77       \u001b[0m | \u001b[0m-13.62   \u001b[0m | \u001b[0m106.5    \u001b[0m | \u001b[0m0.9      \u001b[0m | \u001b[0m813.5    \u001b[0m | \u001b[0m12.82    \u001b[0m |\n",
      "Early stopping on Epoch 259.\n",
      "| \u001b[0m78       \u001b[0m | \u001b[0m-12.68   \u001b[0m | \u001b[0m114.0    \u001b[0m | \u001b[0m0.9      \u001b[0m | \u001b[0m79.58    \u001b[0m | \u001b[0m2.0      \u001b[0m |\n",
      "Early stopping on Epoch 284.\n",
      "| \u001b[0m79       \u001b[0m | \u001b[0m-12.68   \u001b[0m | \u001b[0m99.13    \u001b[0m | \u001b[0m0.524    \u001b[0m | \u001b[0m61.61    \u001b[0m | \u001b[0m16.52    \u001b[0m |\n",
      "Early stopping on Epoch 235.\n",
      "| \u001b[0m80       \u001b[0m | \u001b[0m-12.69   \u001b[0m | \u001b[0m74.48    \u001b[0m | \u001b[0m0.1012   \u001b[0m | \u001b[0m56.75    \u001b[0m | \u001b[0m15.28    \u001b[0m |\n",
      "Early stopping on Epoch 368.\n",
      "| \u001b[0m81       \u001b[0m | \u001b[0m-12.67   \u001b[0m | \u001b[0m92.21    \u001b[0m | \u001b[0m0.8461   \u001b[0m | \u001b[0m45.37    \u001b[0m | \u001b[0m3.505    \u001b[0m |\n",
      "Early stopping on Epoch 368.\n",
      "| \u001b[0m82       \u001b[0m | \u001b[0m-12.67   \u001b[0m | \u001b[0m122.5    \u001b[0m | \u001b[0m0.1211   \u001b[0m | \u001b[0m57.1     \u001b[0m | \u001b[0m7.024    \u001b[0m |\n",
      "Early stopping on Epoch 59.\n",
      "| \u001b[0m83       \u001b[0m | \u001b[0m-13.04   \u001b[0m | \u001b[0m91.36    \u001b[0m | \u001b[0m0.3505   \u001b[0m | \u001b[0m344.3    \u001b[0m | \u001b[0m5.055    \u001b[0m |\n",
      "| \u001b[0m84       \u001b[0m | \u001b[0m-12.65   \u001b[0m | \u001b[0m112.5    \u001b[0m | \u001b[0m0.6732   \u001b[0m | \u001b[0m39.4     \u001b[0m | \u001b[0m9.247    \u001b[0m |\n",
      "Early stopping on Epoch 427.\n",
      "| \u001b[0m85       \u001b[0m | \u001b[0m-12.67   \u001b[0m | \u001b[0m76.41    \u001b[0m | \u001b[0m0.2975   \u001b[0m | \u001b[0m33.13    \u001b[0m | \u001b[0m15.94    \u001b[0m |\n",
      "Early stopping on Epoch 220.\n",
      "| \u001b[0m86       \u001b[0m | \u001b[0m-12.7    \u001b[0m | \u001b[0m60.27    \u001b[0m | \u001b[0m0.6556   \u001b[0m | \u001b[0m53.61    \u001b[0m | \u001b[0m3.076    \u001b[0m |\n",
      "Early stopping on Epoch 56.\n",
      "| \u001b[0m87       \u001b[0m | \u001b[0m-13.07   \u001b[0m | \u001b[0m62.2     \u001b[0m | \u001b[0m0.3831   \u001b[0m | \u001b[0m257.9    \u001b[0m | \u001b[0m6.899    \u001b[0m |\n",
      "| \u001b[0m88       \u001b[0m | \u001b[0m-15.55   \u001b[0m | \u001b[0m93.14    \u001b[0m | \u001b[0m0.8756   \u001b[0m | \u001b[0m21.03    \u001b[0m | \u001b[0m7.813    \u001b[0m |\n",
      "Early stopping on Epoch 275.\n",
      "| \u001b[0m89       \u001b[0m | \u001b[0m-12.69   \u001b[0m | \u001b[0m54.15    \u001b[0m | \u001b[0m0.0      \u001b[0m | \u001b[0m37.61    \u001b[0m | \u001b[0m17.0     \u001b[0m |\n",
      "Early stopping on Epoch 136.\n",
      "| \u001b[0m90       \u001b[0m | \u001b[0m-12.73   \u001b[0m | \u001b[0m40.49    \u001b[0m | \u001b[0m0.1636   \u001b[0m | \u001b[0m60.07    \u001b[0m | \u001b[0m15.69    \u001b[0m |\n",
      "Early stopping on Epoch 271.\n",
      "| \u001b[0m91       \u001b[0m | \u001b[0m-12.68   \u001b[0m | \u001b[0m128.5    \u001b[0m | \u001b[0m0.7992   \u001b[0m | \u001b[0m76.62    \u001b[0m | \u001b[0m16.56    \u001b[0m |\n",
      "Early stopping on Epoch 23.\n",
      "| \u001b[0m92       \u001b[0m | \u001b[0m-21.43   \u001b[0m | \u001b[0m73.81    \u001b[0m | \u001b[0m0.1726   \u001b[0m | \u001b[0m972.2    \u001b[0m | \u001b[0m3.41     \u001b[0m |\n",
      "Early stopping on Epoch 38.\n",
      "| \u001b[0m93       \u001b[0m | \u001b[0m-13.25   \u001b[0m | \u001b[0m95.96    \u001b[0m | \u001b[0m0.2504   \u001b[0m | \u001b[0m576.9    \u001b[0m | \u001b[0m14.33    \u001b[0m |\n",
      "Early stopping on Epoch 160.\n",
      "| \u001b[0m94       \u001b[0m | \u001b[0m-12.75   \u001b[0m | \u001b[0m31.56    \u001b[0m | \u001b[0m0.6792   \u001b[0m | \u001b[0m39.76    \u001b[0m | \u001b[0m5.577    \u001b[0m |\n",
      "Early stopping on Epoch 409.\n",
      "| \u001b[0m95       \u001b[0m | \u001b[0m-12.67   \u001b[0m | \u001b[0m57.6     \u001b[0m | \u001b[0m0.4679   \u001b[0m | \u001b[0m23.03    \u001b[0m | \u001b[0m2.132    \u001b[0m |\n",
      "Early stopping on Epoch 340.\n",
      "| \u001b[0m96       \u001b[0m | \u001b[0m-12.69   \u001b[0m | \u001b[0m36.13    \u001b[0m | \u001b[0m0.01696  \u001b[0m | \u001b[0m18.07    \u001b[0m | \u001b[0m15.36    \u001b[0m |\n",
      "| \u001b[0m97       \u001b[0m | \u001b[0m-34.34   \u001b[0m | \u001b[0m58.11    \u001b[0m | \u001b[0m0.0      \u001b[0m | \u001b[0m6.992    \u001b[0m | \u001b[0m17.0     \u001b[0m |\n",
      "Early stopping on Epoch 120.\n",
      "| \u001b[0m98       \u001b[0m | \u001b[0m-12.85   \u001b[0m | \u001b[0m14.44    \u001b[0m | \u001b[0m0.4367   \u001b[0m | \u001b[0m23.33    \u001b[0m | \u001b[0m12.56    \u001b[0m |\n",
      "Early stopping on Epoch 51.\n",
      "| \u001b[0m99       \u001b[0m | \u001b[0m-13.1    \u001b[0m | \u001b[0m48.97    \u001b[0m | \u001b[0m0.3866   \u001b[0m | \u001b[0m236.5    \u001b[0m | \u001b[0m11.72    \u001b[0m |\n",
      "Early stopping on Epoch 71.\n",
      "| \u001b[0m100      \u001b[0m | \u001b[0m-12.98   \u001b[0m | \u001b[0m16.46    \u001b[0m | \u001b[0m0.4771   \u001b[0m | \u001b[0m54.62    \u001b[0m | \u001b[0m15.04    \u001b[0m |\n",
      "Early stopping on Epoch 71.\n",
      "| \u001b[0m101      \u001b[0m | \u001b[0m-12.97   \u001b[0m | \u001b[0m23.38    \u001b[0m | \u001b[0m0.3067   \u001b[0m | \u001b[0m78.7     \u001b[0m | \u001b[0m8.15     \u001b[0m |\n",
      "Early stopping on Epoch 35.\n",
      "| \u001b[0m102      \u001b[0m | \u001b[0m-13.67   \u001b[0m | \u001b[0m116.2    \u001b[0m | \u001b[0m0.9      \u001b[0m | \u001b[0m602.8    \u001b[0m | \u001b[0m17.0     \u001b[0m |\n",
      "Early stopping on Epoch 59.\n",
      "| \u001b[95m103      \u001b[0m | \u001b[95m-11.65   \u001b[0m | \u001b[95m4.796    \u001b[0m | \u001b[95m0.9      \u001b[0m | \u001b[95m40.68    \u001b[0m | \u001b[95m2.0      \u001b[0m |\n",
      "Early stopping on Epoch 327.\n",
      "| \u001b[0m104      \u001b[0m | \u001b[0m-12.68   \u001b[0m | \u001b[0m69.43    \u001b[0m | \u001b[0m0.0      \u001b[0m | \u001b[0m38.21    \u001b[0m | \u001b[0m2.0      \u001b[0m |\n",
      "Early stopping on Epoch 34.\n",
      "| \u001b[0m105      \u001b[0m | \u001b[0m-13.71   \u001b[0m | \u001b[0m1.773    \u001b[0m | \u001b[0m0.3167   \u001b[0m | \u001b[0m70.42    \u001b[0m | \u001b[0m2.589    \u001b[0m |\n",
      "Early stopping on Epoch 31.\n",
      "| \u001b[0m106      \u001b[0m | \u001b[0m-13.3    \u001b[0m | \u001b[0m8.349    \u001b[0m | \u001b[0m0.7393   \u001b[0m | \u001b[0m94.82    \u001b[0m | \u001b[0m7.538    \u001b[0m |\n",
      "Early stopping on Epoch 37.\n",
      "| \u001b[0m107      \u001b[0m | \u001b[0m-12.0    \u001b[0m | \u001b[0m4.521    \u001b[0m | \u001b[0m0.7939   \u001b[0m | \u001b[0m119.4    \u001b[0m | \u001b[0m2.365    \u001b[0m |\n",
      "Early stopping on Epoch 116.\n",
      "| \u001b[95m108      \u001b[0m | \u001b[95m-11.13   \u001b[0m | \u001b[95m27.65    \u001b[0m | \u001b[95m0.9      \u001b[0m | \u001b[95m98.41    \u001b[0m | \u001b[95m2.0      \u001b[0m |\n",
      "Early stopping on Epoch 44.\n",
      "| \u001b[0m109      \u001b[0m | \u001b[0m-13.17   \u001b[0m | \u001b[0m35.91    \u001b[0m | \u001b[0m0.6456   \u001b[0m | \u001b[0m214.9    \u001b[0m | \u001b[0m9.192    \u001b[0m |\n"
     ]
    },
    {
     "name": "stdout",
     "output_type": "stream",
     "text": [
      "Early stopping on Epoch 31.\n",
      "| \u001b[0m110      \u001b[0m | \u001b[0m-13.26   \u001b[0m | \u001b[0m17.88    \u001b[0m | \u001b[0m0.0634   \u001b[0m | \u001b[0m197.3    \u001b[0m | \u001b[0m8.175    \u001b[0m |\n",
      "=========================================================================\n"
     ]
    }
   ],
   "source": [
    "# iterate through feature space\n",
    "optimizer.maximize(init_points=10, n_iter=100)"
   ]
  },
  {
   "cell_type": "code",
   "execution_count": 77,
   "metadata": {
    "ExecuteTime": {
     "end_time": "2023-11-27T22:23:11.604782Z",
     "start_time": "2023-11-27T22:23:11.590769Z"
    }
   },
   "outputs": [
    {
     "data": {
      "text/plain": [
       "{'batch_size': 27.646390417997868,\n",
       " 'dropout': 0.9,\n",
       " 'hidden_dim': 98.40961269063185,\n",
       " 'num_layers': 2.0}"
      ]
     },
     "execution_count": 77,
     "metadata": {},
     "output_type": "execute_result"
    }
   ],
   "source": [
    "# look at params that gave lowest validation RMSE\n",
    "best_hyperparams = optimizer.max['params']\n",
    "best_hyperparams"
   ]
  },
  {
   "cell_type": "markdown",
   "metadata": {},
   "source": [
    "- Best val_rmse = __11.13__ with a sequence length of 3."
   ]
  },
  {
   "cell_type": "markdown",
   "metadata": {
    "heading_collapsed": true
   },
   "source": [
    "## seq_len = 4\n",
    "- Use 4 seasons to predict a QB's grade in the 5th."
   ]
  },
  {
   "cell_type": "code",
   "execution_count": 84,
   "metadata": {
    "ExecuteTime": {
     "end_time": "2023-11-27T22:33:35.994405Z",
     "start_time": "2023-11-27T22:33:35.975387Z"
    },
    "hidden": true
   },
   "outputs": [],
   "source": [
    "def objective_function(hidden_dim, num_layers, dropout, batch_size):\n",
    "    # cast continuous values to int\n",
    "    hidden_dim = int(hidden_dim)\n",
    "    num_layers = int(num_layers)\n",
    "    batch_size = int(batch_size)\n",
    "    \n",
    "    # create sequences\n",
    "    X, y = create_seq(feature_subset=all_feats, seq_len=4, df=df)\n",
    "    \n",
    "    # create dataloaders\n",
    "    train_loader, val_loader = create_loaders(X, y, test_size=0.1, batch_size=batch_size)\n",
    "\n",
    "    # create model\n",
    "    model = RNN(input_dim=66, hidden_dim=hidden_dim, num_layers=num_layers, dropout=dropout).to(device)\n",
    "        \n",
    "    # create optimizer\n",
    "    optimizer = torch.optim.AdamW(model.parameters(), lr=0.001)\n",
    "    \n",
    "    # train model\n",
    "    train_rmse, train_r2, val_rmse, val_r2, num_epochs, patience = train_val(model, optimizer, train_loader, val_loader)\n",
    "    \n",
    "    # return the negative of the validation metric (since Bayesian optimization minimizes)\n",
    "    return -val_rmse"
   ]
  },
  {
   "cell_type": "code",
   "execution_count": 85,
   "metadata": {
    "ExecuteTime": {
     "end_time": "2023-11-27T22:33:36.246285Z",
     "start_time": "2023-11-27T22:33:36.228267Z"
    },
    "hidden": true
   },
   "outputs": [],
   "source": [
    "# define bounds of each hyperparameter\n",
    "pbounds = {\n",
    "    'hidden_dim': (4, 1025),\n",
    "    'num_layers': (2, 17),\n",
    "    'dropout': (0, 0.9),\n",
    "    'batch_size': (1, 129)\n",
    "}\n",
    "\n",
    "# create the Bayesian optimizer\n",
    "optimizer = BayesianOptimization(\n",
    "    f=objective_function,\n",
    "    pbounds=pbounds,\n",
    "    random_state=random_state,\n",
    "    allow_duplicate_points=True\n",
    ")"
   ]
  },
  {
   "cell_type": "code",
   "execution_count": 86,
   "metadata": {
    "ExecuteTime": {
     "end_time": "2023-11-27T23:29:11.394355Z",
     "start_time": "2023-11-27T22:33:36.560019Z"
    },
    "hidden": true,
    "scrolled": true
   },
   "outputs": [
    {
     "name": "stdout",
     "output_type": "stream",
     "text": [
      "|   iter    |  target   | batch_... |  dropout  | hidden... | num_la... |\n",
      "-------------------------------------------------------------------------\n",
      "Early stopping on Epoch 23.\n",
      "| \u001b[0m1        \u001b[0m | \u001b[0m-21.99   \u001b[0m | \u001b[0m2.328    \u001b[0m | \u001b[0m0.4517   \u001b[0m | \u001b[0m510.2    \u001b[0m | \u001b[0m4.007    \u001b[0m |\n",
      "Early stopping on Epoch 34.\n",
      "| \u001b[95m2        \u001b[0m | \u001b[95m-17.54   \u001b[0m | \u001b[95m19.19    \u001b[0m | \u001b[95m0.1967   \u001b[0m | \u001b[95m431.3    \u001b[0m | \u001b[95m5.722    \u001b[0m |\n",
      "Early stopping on Epoch 33.\n",
      "| \u001b[0m3        \u001b[0m | \u001b[0m-17.59   \u001b[0m | \u001b[0m11.76    \u001b[0m | \u001b[0m0.3109   \u001b[0m | \u001b[0m174.3    \u001b[0m | \u001b[0m15.18    \u001b[0m |\n",
      "Early stopping on Epoch 25.\n",
      "| \u001b[0m4        \u001b[0m | \u001b[0m-61.11   \u001b[0m | \u001b[0m122.7    \u001b[0m | \u001b[0m0.03487  \u001b[0m | \u001b[0m717.8    \u001b[0m | \u001b[0m10.59    \u001b[0m |\n",
      "Early stopping on Epoch 58.\n",
      "| \u001b[0m5        \u001b[0m | \u001b[0m-17.56   \u001b[0m | \u001b[0m115.9    \u001b[0m | \u001b[0m0.6002   \u001b[0m | \u001b[0m563.3    \u001b[0m | \u001b[0m12.54    \u001b[0m |\n",
      "Early stopping on Epoch 26.\n",
      "| \u001b[0m6        \u001b[0m | \u001b[0m-49.18   \u001b[0m | \u001b[0m50.47    \u001b[0m | \u001b[0m0.625    \u001b[0m | \u001b[0m846.2    \u001b[0m | \u001b[0m8.985    \u001b[0m |\n",
      "Early stopping on Epoch 35.\n",
      "| \u001b[0m7        \u001b[0m | \u001b[0m-17.58   \u001b[0m | \u001b[0m121.4    \u001b[0m | \u001b[0m0.7234   \u001b[0m | \u001b[0m1.008e+03\u001b[0m | \u001b[0m4.545    \u001b[0m |\n",
      "Early stopping on Epoch 32.\n",
      "| \u001b[0m8        \u001b[0m | \u001b[0m-17.63   \u001b[0m | \u001b[0m67.7     \u001b[0m | \u001b[0m0.851    \u001b[0m | \u001b[0m667.2    \u001b[0m | \u001b[0m14.91    \u001b[0m |\n",
      "Early stopping on Epoch 129.\n",
      "| \u001b[95m9        \u001b[0m | \u001b[95m-17.51   \u001b[0m | \u001b[95m125.3    \u001b[0m | \u001b[95m0.167    \u001b[0m | \u001b[95m252.2    \u001b[0m | \u001b[95m15.1     \u001b[0m |\n",
      "Early stopping on Epoch 96.\n",
      "| \u001b[0m10       \u001b[0m | \u001b[0m-17.52   \u001b[0m | \u001b[0m117.0    \u001b[0m | \u001b[0m0.6825   \u001b[0m | \u001b[0m358.2    \u001b[0m | \u001b[0m8.953    \u001b[0m |\n",
      "Early stopping on Epoch 37.\n",
      "| \u001b[0m11       \u001b[0m | \u001b[0m-17.58   \u001b[0m | \u001b[0m123.1    \u001b[0m | \u001b[0m0.549    \u001b[0m | \u001b[0m1.008e+03\u001b[0m | \u001b[0m4.959    \u001b[0m |\n",
      "Early stopping on Epoch 21.\n",
      "| \u001b[0m12       \u001b[0m | \u001b[0m-17.99   \u001b[0m | \u001b[0m20.24    \u001b[0m | \u001b[0m0.9      \u001b[0m | \u001b[0m616.2    \u001b[0m | \u001b[0m17.0     \u001b[0m |\n",
      "Early stopping on Epoch 37.\n",
      "| \u001b[0m13       \u001b[0m | \u001b[0m-17.58   \u001b[0m | \u001b[0m25.19    \u001b[0m | \u001b[0m0.2342   \u001b[0m | \u001b[0m298.0    \u001b[0m | \u001b[0m10.97    \u001b[0m |\n",
      "Early stopping on Epoch 60.\n",
      "| \u001b[0m14       \u001b[0m | \u001b[0m-17.61   \u001b[0m | \u001b[0m129.0    \u001b[0m | \u001b[0m0.9      \u001b[0m | \u001b[0m460.9    \u001b[0m | \u001b[0m17.0     \u001b[0m |\n",
      "Early stopping on Epoch 240.\n",
      "| \u001b[95m15       \u001b[0m | \u001b[95m-17.49   \u001b[0m | \u001b[95m121.9    \u001b[0m | \u001b[95m0.9      \u001b[0m | \u001b[95m127.8    \u001b[0m | \u001b[95m2.0      \u001b[0m |\n",
      "Early stopping on Epoch 157.\n",
      "| \u001b[0m16       \u001b[0m | \u001b[0m-17.5    \u001b[0m | \u001b[0m26.77    \u001b[0m | \u001b[0m0.8227   \u001b[0m | \u001b[0m50.6     \u001b[0m | \u001b[0m2.0      \u001b[0m |\n",
      "| \u001b[0m17       \u001b[0m | \u001b[0m-57.08   \u001b[0m | \u001b[0m129.0    \u001b[0m | \u001b[0m0.0      \u001b[0m | \u001b[0m4.0      \u001b[0m | \u001b[0m17.0     \u001b[0m |\n",
      "Early stopping on Epoch 41.\n",
      "| \u001b[95m18       \u001b[0m | \u001b[95m-17.1    \u001b[0m | \u001b[95m1.031    \u001b[0m | \u001b[95m0.7705   \u001b[0m | \u001b[95m1.024e+03\u001b[0m | \u001b[95m13.51    \u001b[0m |\n",
      "Early stopping on Epoch 133.\n",
      "| \u001b[0m19       \u001b[0m | \u001b[0m-17.5    \u001b[0m | \u001b[0m82.16    \u001b[0m | \u001b[0m0.9      \u001b[0m | \u001b[0m192.6    \u001b[0m | \u001b[0m2.0      \u001b[0m |\n",
      "Early stopping on Epoch 27.\n",
      "| \u001b[0m20       \u001b[0m | \u001b[0m-18.38   \u001b[0m | \u001b[0m1.0      \u001b[0m | \u001b[0m0.9      \u001b[0m | \u001b[0m691.2    \u001b[0m | \u001b[0m17.0     \u001b[0m |\n",
      "Early stopping on Epoch 56.\n",
      "| \u001b[0m21       \u001b[0m | \u001b[0m-17.52   \u001b[0m | \u001b[0m1.0      \u001b[0m | \u001b[0m0.9      \u001b[0m | \u001b[0m104.3    \u001b[0m | \u001b[0m17.0     \u001b[0m |\n",
      "Early stopping on Epoch 42.\n",
      "| \u001b[0m22       \u001b[0m | \u001b[0m-17.54   \u001b[0m | \u001b[0m2.542    \u001b[0m | \u001b[0m0.8898   \u001b[0m | \u001b[0m368.2    \u001b[0m | \u001b[0m16.27    \u001b[0m |\n",
      "Early stopping on Epoch 85.\n",
      "| \u001b[95m23       \u001b[0m | \u001b[95m-15.82   \u001b[0m | \u001b[95m1.0      \u001b[0m | \u001b[95m0.0      \u001b[0m | \u001b[95m956.0    \u001b[0m | \u001b[95m2.0      \u001b[0m |\n",
      "Early stopping on Epoch 47.\n",
      "| \u001b[0m24       \u001b[0m | \u001b[0m-17.57   \u001b[0m | \u001b[0m76.16    \u001b[0m | \u001b[0m0.0      \u001b[0m | \u001b[0m500.4    \u001b[0m | \u001b[0m2.0      \u001b[0m |\n",
      "Early stopping on Epoch 155.\n",
      "| \u001b[95m25       \u001b[0m | \u001b[95m-14.52   \u001b[0m | \u001b[95m1.688    \u001b[0m | \u001b[95m0.1269   \u001b[0m | \u001b[95m4.061    \u001b[0m | \u001b[95m7.646    \u001b[0m |\n",
      "Early stopping on Epoch 17.\n",
      "| \u001b[0m26       \u001b[0m | \u001b[0m-67.44   \u001b[0m | \u001b[0m129.0    \u001b[0m | \u001b[0m0.0      \u001b[0m | \u001b[0m941.7    \u001b[0m | \u001b[0m17.0     \u001b[0m |\n",
      "Early stopping on Epoch 16.\n",
      "| \u001b[0m27       \u001b[0m | \u001b[0m-63.87   \u001b[0m | \u001b[0m66.82    \u001b[0m | \u001b[0m0.0      \u001b[0m | \u001b[0m1.025e+03\u001b[0m | \u001b[0m17.0     \u001b[0m |\n",
      "Early stopping on Epoch 134.\n",
      "| \u001b[0m28       \u001b[0m | \u001b[0m-17.5    \u001b[0m | \u001b[0m59.04    \u001b[0m | \u001b[0m0.4345   \u001b[0m | \u001b[0m142.9    \u001b[0m | \u001b[0m9.683    \u001b[0m |\n",
      "Early stopping on Epoch 53.\n",
      "| \u001b[0m29       \u001b[0m | \u001b[0m-17.56   \u001b[0m | \u001b[0m56.96    \u001b[0m | \u001b[0m0.4813   \u001b[0m | \u001b[0m349.3    \u001b[0m | \u001b[0m10.27    \u001b[0m |\n",
      "Early stopping on Epoch 58.\n",
      "| \u001b[0m30       \u001b[0m | \u001b[0m-17.57   \u001b[0m | \u001b[0m79.21    \u001b[0m | \u001b[0m0.5824   \u001b[0m | \u001b[0m412.7    \u001b[0m | \u001b[0m10.62    \u001b[0m |\n",
      "Early stopping on Epoch 87.\n",
      "| \u001b[0m31       \u001b[0m | \u001b[0m-17.53   \u001b[0m | \u001b[0m88.18    \u001b[0m | \u001b[0m0.9      \u001b[0m | \u001b[0m297.5    \u001b[0m | \u001b[0m3.98     \u001b[0m |\n",
      "Early stopping on Epoch 73.\n",
      "| \u001b[0m32       \u001b[0m | \u001b[0m-17.53   \u001b[0m | \u001b[0m54.79    \u001b[0m | \u001b[0m0.0      \u001b[0m | \u001b[0m243.4    \u001b[0m | \u001b[0m17.0     \u001b[0m |\n",
      "Early stopping on Epoch 39.\n",
      "| \u001b[0m33       \u001b[0m | \u001b[0m-17.61   \u001b[0m | \u001b[0m80.24    \u001b[0m | \u001b[0m0.8021   \u001b[0m | \u001b[0m609.3    \u001b[0m | \u001b[0m5.707    \u001b[0m |\n",
      "Early stopping on Epoch 23.\n",
      "| \u001b[0m34       \u001b[0m | \u001b[0m-54.31   \u001b[0m | \u001b[0m54.78    \u001b[0m | \u001b[0m0.2042   \u001b[0m | \u001b[0m556.0    \u001b[0m | \u001b[0m14.07    \u001b[0m |\n",
      "Early stopping on Epoch 40.\n",
      "| \u001b[0m35       \u001b[0m | \u001b[0m-17.68   \u001b[0m | \u001b[0m66.44    \u001b[0m | \u001b[0m0.9      \u001b[0m | \u001b[0m458.7    \u001b[0m | \u001b[0m17.0     \u001b[0m |\n",
      "Early stopping on Epoch 65.\n",
      "| \u001b[0m36       \u001b[0m | \u001b[0m-17.55   \u001b[0m | \u001b[0m128.6    \u001b[0m | \u001b[0m0.7569   \u001b[0m | \u001b[0m513.4    \u001b[0m | \u001b[0m8.726    \u001b[0m |\n",
      "Early stopping on Epoch 52.\n",
      "| \u001b[0m37       \u001b[0m | \u001b[0m-17.61   \u001b[0m | \u001b[0m129.0    \u001b[0m | \u001b[0m0.0      \u001b[0m | \u001b[0m612.8    \u001b[0m | \u001b[0m2.0      \u001b[0m |\n",
      "Early stopping on Epoch 75.\n",
      "| \u001b[95m38       \u001b[0m | \u001b[95m-13.97   \u001b[0m | \u001b[95m2.585    \u001b[0m | \u001b[95m0.2995   \u001b[0m | \u001b[95m233.1    \u001b[0m | \u001b[95m4.477    \u001b[0m |\n",
      "Early stopping on Epoch 174.\n",
      "| \u001b[0m39       \u001b[0m | \u001b[0m-17.49   \u001b[0m | \u001b[0m129.0    \u001b[0m | \u001b[0m0.0      \u001b[0m | \u001b[0m184.1    \u001b[0m | \u001b[0m17.0     \u001b[0m |\n",
      "Early stopping on Epoch 197.\n",
      "| \u001b[0m40       \u001b[0m | \u001b[0m-17.49   \u001b[0m | \u001b[0m64.33    \u001b[0m | \u001b[0m0.7915   \u001b[0m | \u001b[0m92.02    \u001b[0m | \u001b[0m16.57    \u001b[0m |\n",
      "Early stopping on Epoch 29.\n",
      "| \u001b[0m41       \u001b[0m | \u001b[0m-17.56   \u001b[0m | \u001b[0m27.25    \u001b[0m | \u001b[0m0.3222   \u001b[0m | \u001b[0m652.2    \u001b[0m | \u001b[0m2.04     \u001b[0m |\n",
      "Early stopping on Epoch 23.\n",
      "| \u001b[0m42       \u001b[0m | \u001b[0m-17.64   \u001b[0m | \u001b[0m1.0      \u001b[0m | \u001b[0m0.0      \u001b[0m | \u001b[0m751.4    \u001b[0m | \u001b[0m2.0      \u001b[0m |\n",
      "Early stopping on Epoch 81.\n",
      "| \u001b[0m43       \u001b[0m | \u001b[0m-17.51   \u001b[0m | \u001b[0m129.0    \u001b[0m | \u001b[0m0.0      \u001b[0m | \u001b[0m408.9    \u001b[0m | \u001b[0m2.0      \u001b[0m |\n",
      "Early stopping on Epoch 89.\n",
      "| \u001b[0m44       \u001b[0m | \u001b[0m-17.52   \u001b[0m | \u001b[0m128.7    \u001b[0m | \u001b[0m0.886    \u001b[0m | \u001b[0m307.6    \u001b[0m | \u001b[0m14.85    \u001b[0m |\n",
      "Early stopping on Epoch 41.\n",
      "| \u001b[0m45       \u001b[0m | \u001b[0m-16.87   \u001b[0m | \u001b[0m1.0      \u001b[0m | \u001b[0m0.9      \u001b[0m | \u001b[0m909.0    \u001b[0m | \u001b[0m2.0      \u001b[0m |\n",
      "| \u001b[0m46       \u001b[0m | \u001b[0m-46.56   \u001b[0m | \u001b[0m46.5     \u001b[0m | \u001b[0m0.1006   \u001b[0m | \u001b[0m4.227    \u001b[0m | \u001b[0m16.75    \u001b[0m |\n",
      "Early stopping on Epoch 32.\n",
      "| \u001b[0m47       \u001b[0m | \u001b[0m-17.61   \u001b[0m | \u001b[0m39.79    \u001b[0m | \u001b[0m0.773    \u001b[0m | \u001b[0m721.9    \u001b[0m | \u001b[0m15.69    \u001b[0m |\n",
      "Early stopping on Epoch 64.\n",
      "| \u001b[0m48       \u001b[0m | \u001b[0m-17.91   \u001b[0m | \u001b[0m1.0      \u001b[0m | \u001b[0m0.9      \u001b[0m | \u001b[0m466.9    \u001b[0m | \u001b[0m17.0     \u001b[0m |\n",
      "Early stopping on Epoch 61.\n",
      "| \u001b[0m49       \u001b[0m | \u001b[0m-17.55   \u001b[0m | \u001b[0m36.0     \u001b[0m | \u001b[0m0.0      \u001b[0m | \u001b[0m206.0    \u001b[0m | \u001b[0m2.0      \u001b[0m |\n",
      "Early stopping on Epoch 29.\n",
      "| \u001b[0m50       \u001b[0m | \u001b[0m-17.57   \u001b[0m | \u001b[0m2.007    \u001b[0m | \u001b[0m0.3021   \u001b[0m | \u001b[0m44.11    \u001b[0m | \u001b[0m13.25    \u001b[0m |\n",
      "Early stopping on Epoch 34.\n",
      "| \u001b[0m51       \u001b[0m | \u001b[0m-17.67   \u001b[0m | \u001b[0m1.0      \u001b[0m | \u001b[0m0.9      \u001b[0m | \u001b[0m268.9    \u001b[0m | \u001b[0m17.0     \u001b[0m |\n",
      "Early stopping on Epoch 72.\n",
      "| \u001b[95m52       \u001b[0m | \u001b[95m-13.46   \u001b[0m | \u001b[95m2.432    \u001b[0m | \u001b[95m0.6091   \u001b[0m | \u001b[95m328.7    \u001b[0m | \u001b[95m2.895    \u001b[0m |\n",
      "Early stopping on Epoch 100.\n",
      "| \u001b[0m53       \u001b[0m | \u001b[0m-17.52   \u001b[0m | \u001b[0m33.49    \u001b[0m | \u001b[0m0.0      \u001b[0m | \u001b[0m104.1    \u001b[0m | \u001b[0m2.0      \u001b[0m |\n",
      "Early stopping on Epoch 47.\n",
      "| \u001b[0m54       \u001b[0m | \u001b[0m-18.44   \u001b[0m | \u001b[0m1.0      \u001b[0m | \u001b[0m0.9      \u001b[0m | \u001b[0m794.6    \u001b[0m | \u001b[0m17.0     \u001b[0m |\n"
     ]
    },
    {
     "name": "stdout",
     "output_type": "stream",
     "text": [
      "Early stopping on Epoch 361.\n",
      "| \u001b[0m55       \u001b[0m | \u001b[0m-17.48   \u001b[0m | \u001b[0m128.2    \u001b[0m | \u001b[0m0.3241   \u001b[0m | \u001b[0m87.51    \u001b[0m | \u001b[0m14.84    \u001b[0m |\n",
      "Early stopping on Epoch 58.\n",
      "| \u001b[0m56       \u001b[0m | \u001b[0m-17.55   \u001b[0m | \u001b[0m99.0     \u001b[0m | \u001b[0m0.9      \u001b[0m | \u001b[0m470.4    \u001b[0m | \u001b[0m2.0      \u001b[0m |\n",
      "Early stopping on Epoch 40.\n",
      "| \u001b[0m57       \u001b[0m | \u001b[0m-17.56   \u001b[0m | \u001b[0m40.04    \u001b[0m | \u001b[0m0.0      \u001b[0m | \u001b[0m389.1    \u001b[0m | \u001b[0m2.0      \u001b[0m |\n",
      "Early stopping on Epoch 118.\n",
      "| \u001b[0m58       \u001b[0m | \u001b[0m-17.52   \u001b[0m | \u001b[0m92.03    \u001b[0m | \u001b[0m0.6746   \u001b[0m | \u001b[0m233.6    \u001b[0m | \u001b[0m2.713    \u001b[0m |\n",
      "Early stopping on Epoch 37.\n",
      "| \u001b[0m59       \u001b[0m | \u001b[0m-17.79   \u001b[0m | \u001b[0m97.71    \u001b[0m | \u001b[0m0.9      \u001b[0m | \u001b[0m636.3    \u001b[0m | \u001b[0m17.0     \u001b[0m |\n",
      "Early stopping on Epoch 30.\n",
      "| \u001b[0m60       \u001b[0m | \u001b[0m-15.72   \u001b[0m | \u001b[0m2.805    \u001b[0m | \u001b[0m0.3892   \u001b[0m | \u001b[0m138.5    \u001b[0m | \u001b[0m2.072    \u001b[0m |\n",
      "Early stopping on Epoch 29.\n",
      "| \u001b[0m61       \u001b[0m | \u001b[0m-17.68   \u001b[0m | \u001b[0m55.56    \u001b[0m | \u001b[0m0.9      \u001b[0m | \u001b[0m635.1    \u001b[0m | \u001b[0m17.0     \u001b[0m |\n",
      "Early stopping on Epoch 34.\n",
      "| \u001b[0m62       \u001b[0m | \u001b[0m-17.73   \u001b[0m | \u001b[0m1.0      \u001b[0m | \u001b[0m0.9      \u001b[0m | \u001b[0m641.9    \u001b[0m | \u001b[0m17.0     \u001b[0m |\n",
      "Early stopping on Epoch 238.\n",
      "| \u001b[0m63       \u001b[0m | \u001b[0m-17.49   \u001b[0m | \u001b[0m93.27    \u001b[0m | \u001b[0m0.9      \u001b[0m | \u001b[0m103.5    \u001b[0m | \u001b[0m2.0      \u001b[0m |\n",
      "Early stopping on Epoch 38.\n",
      "| \u001b[0m64       \u001b[0m | \u001b[0m-17.54   \u001b[0m | \u001b[0m34.49    \u001b[0m | \u001b[0m0.6408   \u001b[0m | \u001b[0m467.3    \u001b[0m | \u001b[0m2.68     \u001b[0m |\n",
      "Early stopping on Epoch 310.\n",
      "| \u001b[0m65       \u001b[0m | \u001b[0m-18.99   \u001b[0m | \u001b[0m1.1      \u001b[0m | \u001b[0m0.65     \u001b[0m | \u001b[0m989.7    \u001b[0m | \u001b[0m15.3     \u001b[0m |\n",
      "Early stopping on Epoch 147.\n",
      "| \u001b[0m66       \u001b[0m | \u001b[0m-17.49   \u001b[0m | \u001b[0m128.9    \u001b[0m | \u001b[0m0.47     \u001b[0m | \u001b[0m212.8    \u001b[0m | \u001b[0m2.318    \u001b[0m |\n",
      "Early stopping on Epoch 17.\n",
      "| \u001b[0m67       \u001b[0m | \u001b[0m-55.3    \u001b[0m | \u001b[0m36.57    \u001b[0m | \u001b[0m0.0      \u001b[0m | \u001b[0m766.4    \u001b[0m | \u001b[0m17.0     \u001b[0m |\n",
      "Early stopping on Epoch 26.\n",
      "| \u001b[0m68       \u001b[0m | \u001b[0m-49.5    \u001b[0m | \u001b[0m36.81    \u001b[0m | \u001b[0m0.102    \u001b[0m | \u001b[0m695.8    \u001b[0m | \u001b[0m4.617    \u001b[0m |\n",
      "Early stopping on Epoch 28.\n",
      "| \u001b[0m69       \u001b[0m | \u001b[0m-17.5    \u001b[0m | \u001b[0m36.39    \u001b[0m | \u001b[0m0.4538   \u001b[0m | \u001b[0m931.4    \u001b[0m | \u001b[0m6.191    \u001b[0m |\n",
      "Early stopping on Epoch 165.\n",
      "| \u001b[0m70       \u001b[0m | \u001b[0m-17.49   \u001b[0m | \u001b[0m97.01    \u001b[0m | \u001b[0m0.0      \u001b[0m | \u001b[0m155.0    \u001b[0m | \u001b[0m17.0     \u001b[0m |\n",
      "Early stopping on Epoch 34.\n",
      "| \u001b[0m71       \u001b[0m | \u001b[0m-27.98   \u001b[0m | \u001b[0m129.0    \u001b[0m | \u001b[0m0.0      \u001b[0m | \u001b[0m823.2    \u001b[0m | \u001b[0m2.0      \u001b[0m |\n",
      "Early stopping on Epoch 24.\n",
      "| \u001b[0m72       \u001b[0m | \u001b[0m-75.84   \u001b[0m | \u001b[0m91.74    \u001b[0m | \u001b[0m0.0      \u001b[0m | \u001b[0m331.8    \u001b[0m | \u001b[0m17.0     \u001b[0m |\n",
      "Early stopping on Epoch 32.\n",
      "| \u001b[0m73       \u001b[0m | \u001b[0m-65.59   \u001b[0m | \u001b[0m26.45    \u001b[0m | \u001b[0m0.2      \u001b[0m | \u001b[0m345.5    \u001b[0m | \u001b[0m10.58    \u001b[0m |\n",
      "Early stopping on Epoch 22.\n",
      "| \u001b[0m74       \u001b[0m | \u001b[0m-17.84   \u001b[0m | \u001b[0m7.992    \u001b[0m | \u001b[0m0.6485   \u001b[0m | \u001b[0m312.2    \u001b[0m | \u001b[0m4.701    \u001b[0m |\n",
      "Early stopping on Epoch 35.\n",
      "| \u001b[0m75       \u001b[0m | \u001b[0m-17.6    \u001b[0m | \u001b[0m15.54    \u001b[0m | \u001b[0m0.5241   \u001b[0m | \u001b[0m218.8    \u001b[0m | \u001b[0m5.236    \u001b[0m |\n",
      "Early stopping on Epoch 38.\n",
      "| \u001b[0m76       \u001b[0m | \u001b[0m-17.6    \u001b[0m | \u001b[0m21.01    \u001b[0m | \u001b[0m0.7227   \u001b[0m | \u001b[0m241.5    \u001b[0m | \u001b[0m9.682    \u001b[0m |\n",
      "Early stopping on Epoch 47.\n",
      "| \u001b[0m77       \u001b[0m | \u001b[0m-17.48   \u001b[0m | \u001b[0m10.05    \u001b[0m | \u001b[0m0.4371   \u001b[0m | \u001b[0m933.4    \u001b[0m | \u001b[0m3.163    \u001b[0m |\n",
      "Early stopping on Epoch 58.\n",
      "| \u001b[0m78       \u001b[0m | \u001b[0m-17.55   \u001b[0m | \u001b[0m19.99    \u001b[0m | \u001b[0m0.7257   \u001b[0m | \u001b[0m123.7    \u001b[0m | \u001b[0m12.2     \u001b[0m |\n",
      "Early stopping on Epoch 154.\n",
      "| \u001b[0m79       \u001b[0m | \u001b[0m-17.5    \u001b[0m | \u001b[0m105.6    \u001b[0m | \u001b[0m0.2364   \u001b[0m | \u001b[0m206.0    \u001b[0m | \u001b[0m13.32    \u001b[0m |\n",
      "Early stopping on Epoch 64.\n",
      "| \u001b[0m80       \u001b[0m | \u001b[0m-17.55   \u001b[0m | \u001b[0m26.45    \u001b[0m | \u001b[0m0.2472   \u001b[0m | \u001b[0m150.8    \u001b[0m | \u001b[0m5.413    \u001b[0m |\n",
      "Early stopping on Epoch 91.\n",
      "| \u001b[0m81       \u001b[0m | \u001b[0m-17.52   \u001b[0m | \u001b[0m66.51    \u001b[0m | \u001b[0m0.2976   \u001b[0m | \u001b[0m217.6    \u001b[0m | \u001b[0m7.548    \u001b[0m |\n",
      "Early stopping on Epoch 159.\n",
      "| \u001b[0m82       \u001b[0m | \u001b[0m-17.5    \u001b[0m | \u001b[0m65.59    \u001b[0m | \u001b[0m0.6845   \u001b[0m | \u001b[0m116.0    \u001b[0m | \u001b[0m3.569    \u001b[0m |\n",
      "Early stopping on Epoch 94.\n",
      "| \u001b[0m83       \u001b[0m | \u001b[0m-17.52   \u001b[0m | \u001b[0m100.0    \u001b[0m | \u001b[0m0.8352   \u001b[0m | \u001b[0m272.0    \u001b[0m | \u001b[0m5.798    \u001b[0m |\n",
      "Early stopping on Epoch 198.\n",
      "| \u001b[0m84       \u001b[0m | \u001b[0m-17.49   \u001b[0m | \u001b[0m92.0     \u001b[0m | \u001b[0m0.2368   \u001b[0m | \u001b[0m129.8    \u001b[0m | \u001b[0m12.05    \u001b[0m |\n",
      "Early stopping on Epoch 44.\n",
      "| \u001b[0m85       \u001b[0m | \u001b[0m-18.12   \u001b[0m | \u001b[0m50.99    \u001b[0m | \u001b[0m0.4729   \u001b[0m | \u001b[0m429.8    \u001b[0m | \u001b[0m6.688    \u001b[0m |\n",
      "Early stopping on Epoch 81.\n",
      "| \u001b[0m86       \u001b[0m | \u001b[0m-17.52   \u001b[0m | \u001b[0m69.08    \u001b[0m | \u001b[0m0.8022   \u001b[0m | \u001b[0m273.1    \u001b[0m | \u001b[0m9.669    \u001b[0m |\n",
      "Early stopping on Epoch 19.\n",
      "| \u001b[0m87       \u001b[0m | \u001b[0m-17.55   \u001b[0m | \u001b[0m6.51     \u001b[0m | \u001b[0m0.8782   \u001b[0m | \u001b[0m397.6    \u001b[0m | \u001b[0m12.7     \u001b[0m |\n",
      "Early stopping on Epoch 74.\n",
      "| \u001b[0m88       \u001b[0m | \u001b[0m-17.54   \u001b[0m | \u001b[0m103.9    \u001b[0m | \u001b[0m0.5332   \u001b[0m | \u001b[0m437.2    \u001b[0m | \u001b[0m9.646    \u001b[0m |\n",
      "Early stopping on Epoch 80.\n",
      "| \u001b[0m89       \u001b[0m | \u001b[0m-17.54   \u001b[0m | \u001b[0m108.5    \u001b[0m | \u001b[0m0.9      \u001b[0m | \u001b[0m386.6    \u001b[0m | \u001b[0m4.925    \u001b[0m |\n",
      "Early stopping on Epoch 60.\n",
      "| \u001b[0m90       \u001b[0m | \u001b[0m-17.55   \u001b[0m | \u001b[0m68.41    \u001b[0m | \u001b[0m0.9      \u001b[0m | \u001b[0m378.2    \u001b[0m | \u001b[0m3.724    \u001b[0m |\n",
      "Early stopping on Epoch 87.\n",
      "| \u001b[0m91       \u001b[0m | \u001b[0m-17.53   \u001b[0m | \u001b[0m53.7     \u001b[0m | \u001b[0m0.8948   \u001b[0m | \u001b[0m178.6    \u001b[0m | \u001b[0m12.83    \u001b[0m |\n",
      "Early stopping on Epoch 90.\n",
      "| \u001b[0m92       \u001b[0m | \u001b[0m-17.53   \u001b[0m | \u001b[0m22.65    \u001b[0m | \u001b[0m0.8988   \u001b[0m | \u001b[0m77.36    \u001b[0m | \u001b[0m16.4     \u001b[0m |\n",
      "Early stopping on Epoch 52.\n",
      "| \u001b[0m93       \u001b[0m | \u001b[0m-17.56   \u001b[0m | \u001b[0m37.09    \u001b[0m | \u001b[0m0.45     \u001b[0m | \u001b[0m271.1    \u001b[0m | \u001b[0m2.885    \u001b[0m |\n",
      "Early stopping on Epoch 44.\n",
      "| \u001b[0m94       \u001b[0m | \u001b[0m-17.66   \u001b[0m | \u001b[0m108.1    \u001b[0m | \u001b[0m0.9      \u001b[0m | \u001b[0m596.2    \u001b[0m | \u001b[0m17.0     \u001b[0m |\n",
      "Early stopping on Epoch 18.\n",
      "| \u001b[0m95       \u001b[0m | \u001b[0m-66.19   \u001b[0m | \u001b[0m30.21    \u001b[0m | \u001b[0m0.0      \u001b[0m | \u001b[0m964.4    \u001b[0m | \u001b[0m2.0      \u001b[0m |\n",
      "Early stopping on Epoch 21.\n",
      "| \u001b[0m96       \u001b[0m | \u001b[0m-17.77   \u001b[0m | \u001b[0m26.98    \u001b[0m | \u001b[0m0.9      \u001b[0m | \u001b[0m909.2    \u001b[0m | \u001b[0m17.0     \u001b[0m |\n",
      "Early stopping on Epoch 30.\n",
      "| \u001b[0m97       \u001b[0m | \u001b[0m-41.2    \u001b[0m | \u001b[0m103.2    \u001b[0m | \u001b[0m0.03501  \u001b[0m | \u001b[0m499.9    \u001b[0m | \u001b[0m15.3     \u001b[0m |\n",
      "Early stopping on Epoch 41.\n",
      "| \u001b[0m98       \u001b[0m | \u001b[0m-17.58   \u001b[0m | \u001b[0m55.22    \u001b[0m | \u001b[0m0.7929   \u001b[0m | \u001b[0m485.6    \u001b[0m | \u001b[0m5.4      \u001b[0m |\n",
      "Early stopping on Epoch 260.\n",
      "| \u001b[0m99       \u001b[0m | \u001b[0m-14.42   \u001b[0m | \u001b[0m48.28    \u001b[0m | \u001b[0m0.0      \u001b[0m | \u001b[0m72.81    \u001b[0m | \u001b[0m2.0      \u001b[0m |\n",
      "Early stopping on Epoch 116.\n",
      "| \u001b[0m100      \u001b[0m | \u001b[0m-17.52   \u001b[0m | \u001b[0m129.0    \u001b[0m | \u001b[0m0.0      \u001b[0m | \u001b[0m281.8    \u001b[0m | \u001b[0m2.0      \u001b[0m |\n",
      "Early stopping on Epoch 292.\n",
      "| \u001b[0m101      \u001b[0m | \u001b[0m-17.48   \u001b[0m | \u001b[0m78.2     \u001b[0m | \u001b[0m0.491    \u001b[0m | \u001b[0m71.32    \u001b[0m | \u001b[0m2.925    \u001b[0m |\n",
      "Early stopping on Epoch 198.\n",
      "| \u001b[0m102      \u001b[0m | \u001b[0m-17.49   \u001b[0m | \u001b[0m126.0    \u001b[0m | \u001b[0m0.4044   \u001b[0m | \u001b[0m159.1    \u001b[0m | \u001b[0m4.434    \u001b[0m |\n",
      "Early stopping on Epoch 31.\n",
      "| \u001b[0m103      \u001b[0m | \u001b[0m-16.09   \u001b[0m | \u001b[0m1.0      \u001b[0m | \u001b[0m0.0      \u001b[0m | \u001b[0m73.46    \u001b[0m | \u001b[0m2.0      \u001b[0m |\n",
      "Early stopping on Epoch 28.\n",
      "| \u001b[0m104      \u001b[0m | \u001b[0m-17.55   \u001b[0m | \u001b[0m54.17    \u001b[0m | \u001b[0m0.02721  \u001b[0m | \u001b[0m910.5    \u001b[0m | \u001b[0m2.224    \u001b[0m |\n",
      "Early stopping on Epoch 62.\n",
      "| \u001b[0m105      \u001b[0m | \u001b[0m-17.54   \u001b[0m | \u001b[0m128.1    \u001b[0m | \u001b[0m0.189    \u001b[0m | \u001b[0m541.9    \u001b[0m | \u001b[0m3.951    \u001b[0m |\n",
      "Early stopping on Epoch 53.\n",
      "| \u001b[0m106      \u001b[0m | \u001b[0m-17.56   \u001b[0m | \u001b[0m128.0    \u001b[0m | \u001b[0m0.2035   \u001b[0m | \u001b[0m647.8    \u001b[0m | \u001b[0m2.936    \u001b[0m |\n",
      "Early stopping on Epoch 266.\n",
      "| \u001b[0m107      \u001b[0m | \u001b[0m-17.49   \u001b[0m | \u001b[0m57.96    \u001b[0m | \u001b[0m0.9      \u001b[0m | \u001b[0m55.21    \u001b[0m | \u001b[0m17.0     \u001b[0m |\n",
      "Early stopping on Epoch 36.\n",
      "| \u001b[0m108      \u001b[0m | \u001b[0m-24.59   \u001b[0m | \u001b[0m93.62    \u001b[0m | \u001b[0m0.2316   \u001b[0m | \u001b[0m662.1    \u001b[0m | \u001b[0m2.89     \u001b[0m |\n",
      "Early stopping on Epoch 28.\n",
      "| \u001b[0m109      \u001b[0m | \u001b[0m-18.02   \u001b[0m | \u001b[0m1.0      \u001b[0m | \u001b[0m0.9      \u001b[0m | \u001b[0m724.9    \u001b[0m | \u001b[0m17.0     \u001b[0m |\n"
     ]
    },
    {
     "name": "stdout",
     "output_type": "stream",
     "text": [
      "Early stopping on Epoch 85.\n",
      "| \u001b[0m110      \u001b[0m | \u001b[0m-17.52   \u001b[0m | \u001b[0m127.3    \u001b[0m | \u001b[0m0.4212   \u001b[0m | \u001b[0m379.3    \u001b[0m | \u001b[0m15.49    \u001b[0m |\n",
      "=========================================================================\n"
     ]
    }
   ],
   "source": [
    "# iterate through feature space\n",
    "optimizer.maximize(init_points=10, n_iter=100)"
   ]
  },
  {
   "cell_type": "code",
   "execution_count": 87,
   "metadata": {
    "ExecuteTime": {
     "end_time": "2023-11-27T23:29:11.410370Z",
     "start_time": "2023-11-27T23:29:11.396357Z"
    },
    "hidden": true
   },
   "outputs": [
    {
     "data": {
      "text/plain": [
       "{'batch_size': 2.431643963415951,\n",
       " 'dropout': 0.6090968014817699,\n",
       " 'hidden_dim': 328.7250817317628,\n",
       " 'num_layers': 2.895291334711312}"
      ]
     },
     "execution_count": 87,
     "metadata": {},
     "output_type": "execute_result"
    }
   ],
   "source": [
    "# look at params that gave lowest validation RMSE\n",
    "best_hyperparams = optimizer.max['params']\n",
    "best_hyperparams"
   ]
  },
  {
   "cell_type": "markdown",
   "metadata": {
    "hidden": true
   },
   "source": [
    "- Best val_rmse = __13.46__ with a sequence length of 4."
   ]
  },
  {
   "cell_type": "markdown",
   "metadata": {
    "heading_collapsed": true
   },
   "source": [
    "## seq_len = 5\n",
    "- Use 5 seasons to predict a QB's grade in the 6th."
   ]
  },
  {
   "cell_type": "code",
   "execution_count": 88,
   "metadata": {
    "ExecuteTime": {
     "end_time": "2023-11-27T23:29:11.426386Z",
     "start_time": "2023-11-27T23:29:11.412373Z"
    },
    "hidden": true
   },
   "outputs": [],
   "source": [
    "def objective_function(hidden_dim, num_layers, dropout, batch_size):\n",
    "    # cast continuous values to int\n",
    "    hidden_dim = int(hidden_dim)\n",
    "    num_layers = int(num_layers)\n",
    "    batch_size = int(batch_size)\n",
    "    \n",
    "    # create sequences\n",
    "    X, y = create_seq(feature_subset=all_feats, seq_len=5, df=df)\n",
    "    \n",
    "    # create dataloaders\n",
    "    train_loader, val_loader = create_loaders(X, y, test_size=0.1, batch_size=batch_size)\n",
    "\n",
    "    # create model\n",
    "    model = RNN(input_dim=66, hidden_dim=hidden_dim, num_layers=num_layers, dropout=dropout).to(device)\n",
    "        \n",
    "    # create optimizer\n",
    "    optimizer = torch.optim.AdamW(model.parameters(), lr=0.001)\n",
    "    \n",
    "    # train model\n",
    "    train_rmse, train_r2, val_rmse, val_r2, num_epochs, patience = train_val(model, optimizer, train_loader, val_loader)\n",
    "    \n",
    "    # return the negative of the validation metric (since Bayesian optimization minimizes)\n",
    "    return -val_rmse"
   ]
  },
  {
   "cell_type": "code",
   "execution_count": 89,
   "metadata": {
    "ExecuteTime": {
     "end_time": "2023-11-27T23:29:11.442399Z",
     "start_time": "2023-11-27T23:29:11.428387Z"
    },
    "hidden": true
   },
   "outputs": [],
   "source": [
    "# define bounds of each hyperparameter\n",
    "pbounds = {\n",
    "    'hidden_dim': (4, 1025),\n",
    "    'num_layers': (2, 17),\n",
    "    'dropout': (0, 0.9),\n",
    "    'batch_size': (1, 129)\n",
    "}\n",
    "\n",
    "# create the Bayesian optimizer\n",
    "optimizer = BayesianOptimization(\n",
    "    f=objective_function,\n",
    "    pbounds=pbounds,\n",
    "    random_state=random_state,\n",
    "    allow_duplicate_points=True\n",
    ")"
   ]
  },
  {
   "cell_type": "code",
   "execution_count": 90,
   "metadata": {
    "ExecuteTime": {
     "end_time": "2023-11-27T23:36:09.031284Z",
     "start_time": "2023-11-27T23:29:11.444401Z"
    },
    "hidden": true,
    "scrolled": true
   },
   "outputs": [
    {
     "name": "stdout",
     "output_type": "stream",
     "text": [
      "|   iter    |  target   | batch_... |  dropout  | hidden... | num_la... |\n",
      "-------------------------------------------------------------------------\n",
      "Early stopping on Epoch 16.\n",
      "| \u001b[0m1        \u001b[0m | \u001b[0m-66.28   \u001b[0m | \u001b[0m2.328    \u001b[0m | \u001b[0m0.4517   \u001b[0m | \u001b[0m510.2    \u001b[0m | \u001b[0m4.007    \u001b[0m |\n",
      "Early stopping on Epoch 37.\n",
      "| \u001b[0m2        \u001b[0m | \u001b[0m-69.12   \u001b[0m | \u001b[0m19.19    \u001b[0m | \u001b[0m0.1967   \u001b[0m | \u001b[0m431.3    \u001b[0m | \u001b[0m5.722    \u001b[0m |\n",
      "Early stopping on Epoch 62.\n",
      "| \u001b[95m3        \u001b[0m | \u001b[95m-14.98   \u001b[0m | \u001b[95m11.76    \u001b[0m | \u001b[95m0.3109   \u001b[0m | \u001b[95m174.3    \u001b[0m | \u001b[95m15.18    \u001b[0m |\n",
      "Early stopping on Epoch 108.\n",
      "| \u001b[0m4        \u001b[0m | \u001b[0m-14.99   \u001b[0m | \u001b[0m122.7    \u001b[0m | \u001b[0m0.03487  \u001b[0m | \u001b[0m717.8    \u001b[0m | \u001b[0m10.59    \u001b[0m |\n",
      "Early stopping on Epoch 106.\n",
      "| \u001b[0m5        \u001b[0m | \u001b[0m-14.98   \u001b[0m | \u001b[0m115.9    \u001b[0m | \u001b[0m0.6002   \u001b[0m | \u001b[0m563.3    \u001b[0m | \u001b[0m12.54    \u001b[0m |\n",
      "Early stopping on Epoch 37.\n",
      "| \u001b[0m6        \u001b[0m | \u001b[0m-16.49   \u001b[0m | \u001b[0m50.47    \u001b[0m | \u001b[0m0.625    \u001b[0m | \u001b[0m846.2    \u001b[0m | \u001b[0m8.985    \u001b[0m |\n",
      "Early stopping on Epoch 56.\n",
      "| \u001b[0m7        \u001b[0m | \u001b[0m-16.12   \u001b[0m | \u001b[0m121.4    \u001b[0m | \u001b[0m0.7234   \u001b[0m | \u001b[0m1.008e+03\u001b[0m | \u001b[0m4.545    \u001b[0m |\n",
      "Early stopping on Epoch 61.\n",
      "| \u001b[95m8        \u001b[0m | \u001b[95m-14.88   \u001b[0m | \u001b[95m67.7     \u001b[0m | \u001b[95m0.851    \u001b[0m | \u001b[95m667.2    \u001b[0m | \u001b[95m14.91    \u001b[0m |\n",
      "Early stopping on Epoch 97.\n",
      "| \u001b[0m9        \u001b[0m | \u001b[0m-72.49   \u001b[0m | \u001b[0m125.3    \u001b[0m | \u001b[0m0.167    \u001b[0m | \u001b[0m252.2    \u001b[0m | \u001b[0m15.1     \u001b[0m |\n",
      "Early stopping on Epoch 110.\n",
      "| \u001b[0m10       \u001b[0m | \u001b[0m-16.27   \u001b[0m | \u001b[0m117.0    \u001b[0m | \u001b[0m0.6825   \u001b[0m | \u001b[0m358.2    \u001b[0m | \u001b[0m8.953    \u001b[0m |\n",
      "Early stopping on Epoch 50.\n",
      "| \u001b[0m11       \u001b[0m | \u001b[0m-28.63   \u001b[0m | \u001b[0m123.1    \u001b[0m | \u001b[0m0.549    \u001b[0m | \u001b[0m1.008e+03\u001b[0m | \u001b[0m4.959    \u001b[0m |\n",
      "Early stopping on Epoch 47.\n",
      "| \u001b[0m12       \u001b[0m | \u001b[0m-35.81   \u001b[0m | \u001b[0m117.3    \u001b[0m | \u001b[0m0.5874   \u001b[0m | \u001b[0m1.012e+03\u001b[0m | \u001b[0m4.083    \u001b[0m |\n",
      "Early stopping on Epoch 74.\n",
      "| \u001b[0m13       \u001b[0m | \u001b[0m-14.97   \u001b[0m | \u001b[0m119.5    \u001b[0m | \u001b[0m0.5894   \u001b[0m | \u001b[0m1.004e+03\u001b[0m | \u001b[0m7.939    \u001b[0m |\n",
      "Early stopping on Epoch 45.\n",
      "| \u001b[0m14       \u001b[0m | \u001b[0m-18.71   \u001b[0m | \u001b[0m120.1    \u001b[0m | \u001b[0m0.5043   \u001b[0m | \u001b[0m998.6    \u001b[0m | \u001b[0m3.59     \u001b[0m |\n",
      "Early stopping on Epoch 53.\n",
      "| \u001b[0m15       \u001b[0m | \u001b[0m-14.98   \u001b[0m | \u001b[0m113.5    \u001b[0m | \u001b[0m0.06848  \u001b[0m | \u001b[0m1.001e+03\u001b[0m | \u001b[0m6.331    \u001b[0m |\n",
      "Early stopping on Epoch 76.\n",
      "| \u001b[0m16       \u001b[0m | \u001b[0m-14.98   \u001b[0m | \u001b[0m74.98    \u001b[0m | \u001b[0m0.2791   \u001b[0m | \u001b[0m667.6    \u001b[0m | \u001b[0m16.85    \u001b[0m |\n",
      "Early stopping on Epoch 79.\n",
      "| \u001b[0m17       \u001b[0m | \u001b[0m-14.96   \u001b[0m | \u001b[0m72.2     \u001b[0m | \u001b[0m0.3039   \u001b[0m | \u001b[0m659.9    \u001b[0m | \u001b[0m13.12    \u001b[0m |\n",
      "Early stopping on Epoch 21.\n",
      "| \u001b[0m18       \u001b[0m | \u001b[0m-89.77   \u001b[0m | \u001b[0m80.29    \u001b[0m | \u001b[0m0.197    \u001b[0m | \u001b[0m664.1    \u001b[0m | \u001b[0m11.3     \u001b[0m |\n",
      "Early stopping on Epoch 63.\n",
      "| \u001b[0m19       \u001b[0m | \u001b[0m-14.98   \u001b[0m | \u001b[0m70.88    \u001b[0m | \u001b[0m0.284    \u001b[0m | \u001b[0m672.9    \u001b[0m | \u001b[0m16.15    \u001b[0m |\n",
      "Early stopping on Epoch 24.\n",
      "| \u001b[0m20       \u001b[0m | \u001b[0m-69.9    \u001b[0m | \u001b[0m68.79    \u001b[0m | \u001b[0m0.0006935\u001b[0m | \u001b[0m656.7    \u001b[0m | \u001b[0m15.64    \u001b[0m |\n",
      "Early stopping on Epoch 31.\n",
      "| \u001b[0m21       \u001b[0m | \u001b[0m-61.59   \u001b[0m | \u001b[0m115.1    \u001b[0m | \u001b[0m0.6332   \u001b[0m | \u001b[0m1.005e+03\u001b[0m | \u001b[0m6.573    \u001b[0m |\n",
      "Early stopping on Epoch 79.\n",
      "| \u001b[0m22       \u001b[0m | \u001b[0m-14.98   \u001b[0m | \u001b[0m69.53    \u001b[0m | \u001b[0m0.6677   \u001b[0m | \u001b[0m670.6    \u001b[0m | \u001b[0m16.35    \u001b[0m |\n",
      "Early stopping on Epoch 66.\n",
      "| \u001b[0m23       \u001b[0m | \u001b[0m-15.01   \u001b[0m | \u001b[0m72.75    \u001b[0m | \u001b[0m0.8266   \u001b[0m | \u001b[0m664.6    \u001b[0m | \u001b[0m14.75    \u001b[0m |\n",
      "Early stopping on Epoch 69.\n",
      "| \u001b[0m24       \u001b[0m | \u001b[0m-14.98   \u001b[0m | \u001b[0m69.32    \u001b[0m | \u001b[0m0.2588   \u001b[0m | \u001b[0m668.7    \u001b[0m | \u001b[0m11.92    \u001b[0m |\n",
      "Early stopping on Epoch 72.\n",
      "| \u001b[0m25       \u001b[0m | \u001b[0m-14.95   \u001b[0m | \u001b[0m73.66    \u001b[0m | \u001b[0m0.3114   \u001b[0m | \u001b[0m668.7    \u001b[0m | \u001b[0m13.26    \u001b[0m |\n",
      "Early stopping on Epoch 54.\n",
      "| \u001b[0m26       \u001b[0m | \u001b[0m-14.98   \u001b[0m | \u001b[0m112.0    \u001b[0m | \u001b[0m0.8534   \u001b[0m | \u001b[0m999.0    \u001b[0m | \u001b[0m2.632    \u001b[0m |\n",
      "Early stopping on Epoch 51.\n",
      "| \u001b[0m27       \u001b[0m | \u001b[0m-20.63   \u001b[0m | \u001b[0m112.3    \u001b[0m | \u001b[0m0.5296   \u001b[0m | \u001b[0m993.0    \u001b[0m | \u001b[0m4.697    \u001b[0m |\n",
      "Early stopping on Epoch 26.\n",
      "| \u001b[0m28       \u001b[0m | \u001b[0m-59.84   \u001b[0m | \u001b[0m122.3    \u001b[0m | \u001b[0m0.1051   \u001b[0m | \u001b[0m1.001e+03\u001b[0m | \u001b[0m8.775    \u001b[0m |\n",
      "Early stopping on Epoch 38.\n",
      "| \u001b[0m29       \u001b[0m | \u001b[0m-68.9    \u001b[0m | \u001b[0m114.8    \u001b[0m | \u001b[0m0.07114  \u001b[0m | \u001b[0m997.8    \u001b[0m | \u001b[0m5.337    \u001b[0m |\n",
      "Early stopping on Epoch 19.\n",
      "| \u001b[0m30       \u001b[0m | \u001b[0m-68.18   \u001b[0m | \u001b[0m72.85    \u001b[0m | \u001b[0m0.1824   \u001b[0m | \u001b[0m673.4    \u001b[0m | \u001b[0m14.7     \u001b[0m |\n",
      "Early stopping on Epoch 64.\n",
      "| \u001b[0m31       \u001b[0m | \u001b[0m-34.25   \u001b[0m | \u001b[0m112.5    \u001b[0m | \u001b[0m0.651    \u001b[0m | \u001b[0m1e+03    \u001b[0m | \u001b[0m6.958    \u001b[0m |\n",
      "Early stopping on Epoch 25.\n",
      "| \u001b[0m32       \u001b[0m | \u001b[0m-71.47   \u001b[0m | \u001b[0m80.56    \u001b[0m | \u001b[0m0.4664   \u001b[0m | \u001b[0m945.8    \u001b[0m | \u001b[0m14.15    \u001b[0m |\n",
      "Early stopping on Epoch 74.\n",
      "| \u001b[0m33       \u001b[0m | \u001b[0m-14.98   \u001b[0m | \u001b[0m71.31    \u001b[0m | \u001b[0m0.5367   \u001b[0m | \u001b[0m669.1    \u001b[0m | \u001b[0m12.92    \u001b[0m |\n",
      "Early stopping on Epoch 79.\n",
      "| \u001b[0m34       \u001b[0m | \u001b[0m-15.0    \u001b[0m | \u001b[0m69.3     \u001b[0m | \u001b[0m0.1443   \u001b[0m | \u001b[0m673.4    \u001b[0m | \u001b[0m15.96    \u001b[0m |\n",
      "Early stopping on Epoch 20.\n",
      "| \u001b[0m35       \u001b[0m | \u001b[0m-65.64   \u001b[0m | \u001b[0m70.88    \u001b[0m | \u001b[0m0.1305   \u001b[0m | \u001b[0m667.4    \u001b[0m | \u001b[0m15.03    \u001b[0m |\n",
      "Early stopping on Epoch 83.\n",
      "| \u001b[0m36       \u001b[0m | \u001b[0m-14.97   \u001b[0m | \u001b[0m71.78    \u001b[0m | \u001b[0m0.6081   \u001b[0m | \u001b[0m659.5    \u001b[0m | \u001b[0m11.66    \u001b[0m |\n",
      "Early stopping on Epoch 38.\n",
      "| \u001b[0m37       \u001b[0m | \u001b[0m-77.52   \u001b[0m | \u001b[0m115.0    \u001b[0m | \u001b[0m0.2157   \u001b[0m | \u001b[0m562.8    \u001b[0m | \u001b[0m10.78    \u001b[0m |\n",
      "Early stopping on Epoch 76.\n",
      "| \u001b[0m38       \u001b[0m | \u001b[0m-14.97   \u001b[0m | \u001b[0m121.3    \u001b[0m | \u001b[0m0.7565   \u001b[0m | \u001b[0m998.0    \u001b[0m | \u001b[0m4.538    \u001b[0m |\n",
      "Early stopping on Epoch 62.\n",
      "| \u001b[0m39       \u001b[0m | \u001b[0m-14.99   \u001b[0m | \u001b[0m72.38    \u001b[0m | \u001b[0m0.7977   \u001b[0m | \u001b[0m668.9    \u001b[0m | \u001b[0m14.02    \u001b[0m |\n",
      "Early stopping on Epoch 63.\n",
      "| \u001b[0m40       \u001b[0m | \u001b[0m-14.98   \u001b[0m | \u001b[0m70.18    \u001b[0m | \u001b[0m0.3289   \u001b[0m | \u001b[0m668.9    \u001b[0m | \u001b[0m10.49    \u001b[0m |\n",
      "Early stopping on Epoch 68.\n",
      "| \u001b[0m41       \u001b[0m | \u001b[0m-14.92   \u001b[0m | \u001b[0m71.55    \u001b[0m | \u001b[0m0.8186   \u001b[0m | \u001b[0m661.4    \u001b[0m | \u001b[0m12.3     \u001b[0m |\n",
      "Early stopping on Epoch 24.\n",
      "| \u001b[0m42       \u001b[0m | \u001b[0m-74.2    \u001b[0m | \u001b[0m74.71    \u001b[0m | \u001b[0m0.2434   \u001b[0m | \u001b[0m664.3    \u001b[0m | \u001b[0m13.58    \u001b[0m |\n",
      "Early stopping on Epoch 46.\n",
      "| \u001b[0m43       \u001b[0m | \u001b[0m-15.49   \u001b[0m | \u001b[0m71.26    \u001b[0m | \u001b[0m0.6809   \u001b[0m | \u001b[0m671.3    \u001b[0m | \u001b[0m10.41    \u001b[0m |\n",
      "Early stopping on Epoch 77.\n",
      "| \u001b[0m44       \u001b[0m | \u001b[0m-15.01   \u001b[0m | \u001b[0m73.57    \u001b[0m | \u001b[0m0.5744   \u001b[0m | \u001b[0m658.9    \u001b[0m | \u001b[0m11.57    \u001b[0m |\n",
      "Early stopping on Epoch 22.\n",
      "| \u001b[0m45       \u001b[0m | \u001b[0m-71.64   \u001b[0m | \u001b[0m66.41    \u001b[0m | \u001b[0m0.1925   \u001b[0m | \u001b[0m666.3    \u001b[0m | \u001b[0m16.84    \u001b[0m |\n",
      "Early stopping on Epoch 77.\n",
      "| \u001b[0m46       \u001b[0m | \u001b[0m-15.02   \u001b[0m | \u001b[0m76.54    \u001b[0m | \u001b[0m0.6197   \u001b[0m | \u001b[0m668.3    \u001b[0m | \u001b[0m16.18    \u001b[0m |\n",
      "Early stopping on Epoch 52.\n",
      "| \u001b[0m47       \u001b[0m | \u001b[0m-14.97   \u001b[0m | \u001b[0m113.6    \u001b[0m | \u001b[0m0.319    \u001b[0m | \u001b[0m1e+03    \u001b[0m | \u001b[0m3.672    \u001b[0m |\n",
      "Early stopping on Epoch 65.\n",
      "| \u001b[0m48       \u001b[0m | \u001b[0m-14.98   \u001b[0m | \u001b[0m68.38    \u001b[0m | \u001b[0m0.2842   \u001b[0m | \u001b[0m669.0    \u001b[0m | \u001b[0m13.42    \u001b[0m |\n",
      "Early stopping on Epoch 64.\n",
      "| \u001b[95m49       \u001b[0m | \u001b[95m-14.83   \u001b[0m | \u001b[95m69.52    \u001b[0m | \u001b[95m0.868    \u001b[0m | \u001b[95m670.8    \u001b[0m | \u001b[95m9.719    \u001b[0m |\n",
      "Early stopping on Epoch 72.\n",
      "| \u001b[0m50       \u001b[0m | \u001b[0m-15.02   \u001b[0m | \u001b[0m13.55    \u001b[0m | \u001b[0m0.3893   \u001b[0m | \u001b[0m173.6    \u001b[0m | \u001b[0m16.3     \u001b[0m |\n",
      "Early stopping on Epoch 44.\n",
      "| \u001b[0m51       \u001b[0m | \u001b[0m-77.59   \u001b[0m | \u001b[0m116.6    \u001b[0m | \u001b[0m0.3123   \u001b[0m | \u001b[0m564.6    \u001b[0m | \u001b[0m13.53    \u001b[0m |\n",
      "Early stopping on Epoch 78.\n",
      "| \u001b[0m52       \u001b[0m | \u001b[0m-14.91   \u001b[0m | \u001b[0m116.0    \u001b[0m | \u001b[0m0.9      \u001b[0m | \u001b[0m562.0    \u001b[0m | \u001b[0m13.22    \u001b[0m |\n",
      "Early stopping on Epoch 61.\n",
      "| \u001b[0m53       \u001b[0m | \u001b[0m-14.97   \u001b[0m | \u001b[0m113.6    \u001b[0m | \u001b[0m0.8798   \u001b[0m | \u001b[0m999.2    \u001b[0m | \u001b[0m2.338    \u001b[0m |\n",
      "Early stopping on Epoch 39.\n",
      "| \u001b[0m54       \u001b[0m | \u001b[0m-19.57   \u001b[0m | \u001b[0m73.22    \u001b[0m | \u001b[0m0.6795   \u001b[0m | \u001b[0m660.5    \u001b[0m | \u001b[0m11.74    \u001b[0m |\n"
     ]
    },
    {
     "name": "stdout",
     "output_type": "stream",
     "text": [
      "Early stopping on Epoch 25.\n",
      "| \u001b[0m55       \u001b[0m | \u001b[0m-37.28   \u001b[0m | \u001b[0m120.0    \u001b[0m | \u001b[0m0.5997   \u001b[0m | \u001b[0m1.006e+03\u001b[0m | \u001b[0m5.629    \u001b[0m |\n",
      "Early stopping on Epoch 61.\n",
      "| \u001b[0m56       \u001b[0m | \u001b[0m-14.97   \u001b[0m | \u001b[0m73.1     \u001b[0m | \u001b[0m0.7794   \u001b[0m | \u001b[0m668.2    \u001b[0m | \u001b[0m11.37    \u001b[0m |\n",
      "Early stopping on Epoch 71.\n",
      "| \u001b[0m57       \u001b[0m | \u001b[0m-14.9    \u001b[0m | \u001b[0m70.06    \u001b[0m | \u001b[0m0.8736   \u001b[0m | \u001b[0m669.3    \u001b[0m | \u001b[0m7.606    \u001b[0m |\n",
      "Early stopping on Epoch 66.\n",
      "| \u001b[0m58       \u001b[0m | \u001b[0m-14.99   \u001b[0m | \u001b[0m67.18    \u001b[0m | \u001b[0m0.7824   \u001b[0m | \u001b[0m667.1    \u001b[0m | \u001b[0m11.23    \u001b[0m |\n",
      "Early stopping on Epoch 84.\n",
      "| \u001b[0m59       \u001b[0m | \u001b[0m-15.17   \u001b[0m | \u001b[0m71.45    \u001b[0m | \u001b[0m0.5836   \u001b[0m | \u001b[0m670.7    \u001b[0m | \u001b[0m7.918    \u001b[0m |\n",
      "Early stopping on Epoch 39.\n",
      "| \u001b[0m60       \u001b[0m | \u001b[0m-57.81   \u001b[0m | \u001b[0m66.2     \u001b[0m | \u001b[0m0.2433   \u001b[0m | \u001b[0m668.4    \u001b[0m | \u001b[0m9.256    \u001b[0m |\n",
      "Early stopping on Epoch 51.\n",
      "| \u001b[0m61       \u001b[0m | \u001b[0m-15.14   \u001b[0m | \u001b[0m72.7     \u001b[0m | \u001b[0m0.07599  \u001b[0m | \u001b[0m672.3    \u001b[0m | \u001b[0m7.703    \u001b[0m |\n",
      "Early stopping on Epoch 62.\n",
      "| \u001b[0m62       \u001b[0m | \u001b[0m-14.87   \u001b[0m | \u001b[0m75.07    \u001b[0m | \u001b[0m0.8951   \u001b[0m | \u001b[0m659.3    \u001b[0m | \u001b[0m12.82    \u001b[0m |\n",
      "Early stopping on Epoch 69.\n",
      "| \u001b[0m63       \u001b[0m | \u001b[0m-14.97   \u001b[0m | \u001b[0m72.76    \u001b[0m | \u001b[0m0.5178   \u001b[0m | \u001b[0m661.5    \u001b[0m | \u001b[0m14.82    \u001b[0m |\n",
      "Early stopping on Epoch 55.\n",
      "| \u001b[0m64       \u001b[0m | \u001b[0m-14.98   \u001b[0m | \u001b[0m72.18    \u001b[0m | \u001b[0m0.8317   \u001b[0m | \u001b[0m668.9    \u001b[0m | \u001b[0m6.559    \u001b[0m |\n",
      "Early stopping on Epoch 53.\n",
      "| \u001b[0m65       \u001b[0m | \u001b[0m-26.2    \u001b[0m | \u001b[0m112.0    \u001b[0m | \u001b[0m0.6487   \u001b[0m | \u001b[0m1.002e+03\u001b[0m | \u001b[0m2.135    \u001b[0m |\n",
      "Early stopping on Epoch 27.\n",
      "| \u001b[0m66       \u001b[0m | \u001b[0m-70.43   \u001b[0m | \u001b[0m72.96    \u001b[0m | \u001b[0m0.2614   \u001b[0m | \u001b[0m667.4    \u001b[0m | \u001b[0m9.85     \u001b[0m |\n",
      "Early stopping on Epoch 61.\n",
      "| \u001b[0m67       \u001b[0m | \u001b[0m-14.97   \u001b[0m | \u001b[0m68.26    \u001b[0m | \u001b[0m0.4962   \u001b[0m | \u001b[0m666.4    \u001b[0m | \u001b[0m11.89    \u001b[0m |\n",
      "Early stopping on Epoch 16.\n",
      "| \u001b[0m68       \u001b[0m | \u001b[0m-70.73   \u001b[0m | \u001b[0m67.75    \u001b[0m | \u001b[0m0.06833  \u001b[0m | \u001b[0m668.1    \u001b[0m | \u001b[0m12.55    \u001b[0m |\n",
      "Early stopping on Epoch 65.\n",
      "| \u001b[0m69       \u001b[0m | \u001b[0m-14.98   \u001b[0m | \u001b[0m70.76    \u001b[0m | \u001b[0m0.551    \u001b[0m | \u001b[0m667.3    \u001b[0m | \u001b[0m11.45    \u001b[0m |\n",
      "Early stopping on Epoch 24.\n",
      "| \u001b[0m70       \u001b[0m | \u001b[0m-58.99   \u001b[0m | \u001b[0m74.68    \u001b[0m | \u001b[0m0.1114   \u001b[0m | \u001b[0m658.4    \u001b[0m | \u001b[0m13.75    \u001b[0m |\n",
      "Early stopping on Epoch 56.\n",
      "| \u001b[0m71       \u001b[0m | \u001b[0m-14.98   \u001b[0m | \u001b[0m126.2    \u001b[0m | \u001b[0m0.0219   \u001b[0m | \u001b[0m909.3    \u001b[0m | \u001b[0m10.37    \u001b[0m |\n",
      "Early stopping on Epoch 52.\n",
      "| \u001b[0m72       \u001b[0m | \u001b[0m-42.46   \u001b[0m | \u001b[0m113.1    \u001b[0m | \u001b[0m0.8      \u001b[0m | \u001b[0m997.7    \u001b[0m | \u001b[0m2.501    \u001b[0m |\n",
      "Early stopping on Epoch 63.\n",
      "| \u001b[0m73       \u001b[0m | \u001b[0m-15.51   \u001b[0m | \u001b[0m51.26    \u001b[0m | \u001b[0m0.7754   \u001b[0m | \u001b[0m845.1    \u001b[0m | \u001b[0m9.481    \u001b[0m |\n",
      "Early stopping on Epoch 16.\n",
      "| \u001b[0m74       \u001b[0m | \u001b[0m-70.14   \u001b[0m | \u001b[0m45.15    \u001b[0m | \u001b[0m0.06997  \u001b[0m | \u001b[0m554.1    \u001b[0m | \u001b[0m13.86    \u001b[0m |\n",
      "Early stopping on Epoch 75.\n",
      "| \u001b[0m75       \u001b[0m | \u001b[0m-14.96   \u001b[0m | \u001b[0m72.46    \u001b[0m | \u001b[0m0.641    \u001b[0m | \u001b[0m668.4    \u001b[0m | \u001b[0m12.13    \u001b[0m |\n",
      "Early stopping on Epoch 89.\n",
      "| \u001b[0m76       \u001b[0m | \u001b[0m-14.97   \u001b[0m | \u001b[0m73.07    \u001b[0m | \u001b[0m0.5871   \u001b[0m | \u001b[0m669.2    \u001b[0m | \u001b[0m15.33    \u001b[0m |\n",
      "Early stopping on Epoch 67.\n",
      "| \u001b[0m77       \u001b[0m | \u001b[0m-14.97   \u001b[0m | \u001b[0m69.61    \u001b[0m | \u001b[0m0.1763   \u001b[0m | \u001b[0m669.1    \u001b[0m | \u001b[0m13.42    \u001b[0m |\n",
      "Early stopping on Epoch 62.\n",
      "| \u001b[0m78       \u001b[0m | \u001b[0m-15.0    \u001b[0m | \u001b[0m73.7     \u001b[0m | \u001b[0m0.6431   \u001b[0m | \u001b[0m670.6    \u001b[0m | \u001b[0m11.44    \u001b[0m |\n",
      "Early stopping on Epoch 102.\n",
      "| \u001b[0m79       \u001b[0m | \u001b[0m-14.98   \u001b[0m | \u001b[0m72.22    \u001b[0m | \u001b[0m0.021    \u001b[0m | \u001b[0m660.9    \u001b[0m | \u001b[0m10.81    \u001b[0m |\n",
      "Early stopping on Epoch 50.\n",
      "| \u001b[0m80       \u001b[0m | \u001b[0m-20.0    \u001b[0m | \u001b[0m50.18    \u001b[0m | \u001b[0m0.3443   \u001b[0m | \u001b[0m845.4    \u001b[0m | \u001b[0m10.21    \u001b[0m |\n",
      "Early stopping on Epoch 70.\n",
      "| \u001b[0m81       \u001b[0m | \u001b[0m-56.42   \u001b[0m | \u001b[0m72.36    \u001b[0m | \u001b[0m0.6135   \u001b[0m | \u001b[0m671.9    \u001b[0m | \u001b[0m9.096    \u001b[0m |\n",
      "Early stopping on Epoch 50.\n",
      "| \u001b[0m82       \u001b[0m | \u001b[0m-14.92   \u001b[0m | \u001b[0m74.25    \u001b[0m | \u001b[0m0.8358   \u001b[0m | \u001b[0m670.1    \u001b[0m | \u001b[0m15.84    \u001b[0m |\n",
      "Early stopping on Epoch 71.\n",
      "| \u001b[0m83       \u001b[0m | \u001b[0m-14.99   \u001b[0m | \u001b[0m13.54    \u001b[0m | \u001b[0m0.3649   \u001b[0m | \u001b[0m175.1    \u001b[0m | \u001b[0m15.78    \u001b[0m |\n",
      "Early stopping on Epoch 64.\n",
      "| \u001b[0m84       \u001b[0m | \u001b[0m-15.01   \u001b[0m | \u001b[0m69.27    \u001b[0m | \u001b[0m0.7718   \u001b[0m | \u001b[0m670.9    \u001b[0m | \u001b[0m14.36    \u001b[0m |\n",
      "Early stopping on Epoch 75.\n",
      "| \u001b[0m85       \u001b[0m | \u001b[0m-14.9    \u001b[0m | \u001b[0m72.94    \u001b[0m | \u001b[0m0.8835   \u001b[0m | \u001b[0m668.1    \u001b[0m | \u001b[0m16.87    \u001b[0m |\n",
      "Early stopping on Epoch 63.\n",
      "| \u001b[0m86       \u001b[0m | \u001b[0m-15.0    \u001b[0m | \u001b[0m69.9     \u001b[0m | \u001b[0m0.7454   \u001b[0m | \u001b[0m671.8    \u001b[0m | \u001b[0m8.695    \u001b[0m |\n",
      "Early stopping on Epoch 78.\n",
      "| \u001b[0m87       \u001b[0m | \u001b[0m-14.99   \u001b[0m | \u001b[0m72.55    \u001b[0m | \u001b[0m0.8278   \u001b[0m | \u001b[0m669.6    \u001b[0m | \u001b[0m7.547    \u001b[0m |\n",
      "Early stopping on Epoch 66.\n",
      "| \u001b[0m88       \u001b[0m | \u001b[0m-14.95   \u001b[0m | \u001b[0m72.91    \u001b[0m | \u001b[0m0.7815   \u001b[0m | \u001b[0m661.8    \u001b[0m | \u001b[0m13.15    \u001b[0m |\n",
      "Early stopping on Epoch 90.\n",
      "| \u001b[0m89       \u001b[0m | \u001b[0m-14.96   \u001b[0m | \u001b[0m72.21    \u001b[0m | \u001b[0m0.6136   \u001b[0m | \u001b[0m671.7    \u001b[0m | \u001b[0m5.571    \u001b[0m |\n",
      "Early stopping on Epoch 72.\n",
      "| \u001b[0m90       \u001b[0m | \u001b[0m-15.01   \u001b[0m | \u001b[0m71.17    \u001b[0m | \u001b[0m0.4037   \u001b[0m | \u001b[0m670.3    \u001b[0m | \u001b[0m9.622    \u001b[0m |\n",
      "Early stopping on Epoch 33.\n",
      "| \u001b[0m91       \u001b[0m | \u001b[0m-19.81   \u001b[0m | \u001b[0m71.41    \u001b[0m | \u001b[0m0.3523   \u001b[0m | \u001b[0m663.5    \u001b[0m | \u001b[0m14.95    \u001b[0m |\n",
      "Early stopping on Epoch 33.\n",
      "| \u001b[0m92       \u001b[0m | \u001b[0m-67.88   \u001b[0m | \u001b[0m69.41    \u001b[0m | \u001b[0m0.2902   \u001b[0m | \u001b[0m672.4    \u001b[0m | \u001b[0m10.77    \u001b[0m |\n",
      "Early stopping on Epoch 152.\n",
      "| \u001b[0m93       \u001b[0m | \u001b[0m-14.93   \u001b[0m | \u001b[0m118.3    \u001b[0m | \u001b[0m0.8891   \u001b[0m | \u001b[0m357.3    \u001b[0m | \u001b[0m8.138    \u001b[0m |\n",
      "Early stopping on Epoch 75.\n",
      "| \u001b[0m94       \u001b[0m | \u001b[0m-14.99   \u001b[0m | \u001b[0m74.57    \u001b[0m | \u001b[0m0.3143   \u001b[0m | \u001b[0m660.5    \u001b[0m | \u001b[0m12.34    \u001b[0m |\n",
      "Early stopping on Epoch 80.\n",
      "| \u001b[0m95       \u001b[0m | \u001b[0m-14.88   \u001b[0m | \u001b[0m13.29    \u001b[0m | \u001b[0m0.9      \u001b[0m | \u001b[0m173.9    \u001b[0m | \u001b[0m14.63    \u001b[0m |\n",
      "Early stopping on Epoch 18.\n",
      "| \u001b[0m96       \u001b[0m | \u001b[0m-67.9    \u001b[0m | \u001b[0m71.83    \u001b[0m | \u001b[0m0.1331   \u001b[0m | \u001b[0m670.6    \u001b[0m | \u001b[0m14.66    \u001b[0m |\n",
      "Early stopping on Epoch 68.\n",
      "| \u001b[0m97       \u001b[0m | \u001b[0m-14.98   \u001b[0m | \u001b[0m11.56    \u001b[0m | \u001b[0m0.2614   \u001b[0m | \u001b[0m175.3    \u001b[0m | \u001b[0m13.92    \u001b[0m |\n",
      "Early stopping on Epoch 36.\n",
      "| \u001b[0m98       \u001b[0m | \u001b[0m-22.65   \u001b[0m | \u001b[0m73.27    \u001b[0m | \u001b[0m0.4927   \u001b[0m | \u001b[0m670.9    \u001b[0m | \u001b[0m7.121    \u001b[0m |\n",
      "Early stopping on Epoch 25.\n",
      "| \u001b[0m99       \u001b[0m | \u001b[0m-68.17   \u001b[0m | \u001b[0m68.59    \u001b[0m | \u001b[0m0.09151  \u001b[0m | \u001b[0m665.6    \u001b[0m | \u001b[0m10.66    \u001b[0m |\n",
      "Early stopping on Epoch 59.\n",
      "| \u001b[0m100      \u001b[0m | \u001b[0m-16.52   \u001b[0m | \u001b[0m71.26    \u001b[0m | \u001b[0m0.7422   \u001b[0m | \u001b[0m662.8    \u001b[0m | \u001b[0m13.46    \u001b[0m |\n",
      "Early stopping on Epoch 62.\n",
      "| \u001b[0m101      \u001b[0m | \u001b[0m-14.99   \u001b[0m | \u001b[0m12.32    \u001b[0m | \u001b[0m0.0      \u001b[0m | \u001b[0m173.9    \u001b[0m | \u001b[0m13.68    \u001b[0m |\n",
      "Early stopping on Epoch 106.\n",
      "| \u001b[0m102      \u001b[0m | \u001b[0m-14.96   \u001b[0m | \u001b[0m71.91    \u001b[0m | \u001b[0m0.4838   \u001b[0m | \u001b[0m670.2    \u001b[0m | \u001b[0m11.9     \u001b[0m |\n",
      "Early stopping on Epoch 94.\n",
      "| \u001b[0m103      \u001b[0m | \u001b[0m-14.97   \u001b[0m | \u001b[0m120.7    \u001b[0m | \u001b[0m0.8231   \u001b[0m | \u001b[0m1.004e+03\u001b[0m | \u001b[0m6.96     \u001b[0m |\n",
      "Early stopping on Epoch 55.\n",
      "| \u001b[0m104      \u001b[0m | \u001b[0m-14.94   \u001b[0m | \u001b[0m72.26    \u001b[0m | \u001b[0m0.8102   \u001b[0m | \u001b[0m669.2    \u001b[0m | \u001b[0m10.56    \u001b[0m |\n",
      "Early stopping on Epoch 38.\n",
      "| \u001b[0m105      \u001b[0m | \u001b[0m-19.61   \u001b[0m | \u001b[0m71.14    \u001b[0m | \u001b[0m0.6996   \u001b[0m | \u001b[0m670.3    \u001b[0m | \u001b[0m6.357    \u001b[0m |\n",
      "Early stopping on Epoch 30.\n",
      "| \u001b[0m106      \u001b[0m | \u001b[0m-33.01   \u001b[0m | \u001b[0m119.7    \u001b[0m | \u001b[0m0.04051  \u001b[0m | \u001b[0m998.9    \u001b[0m | \u001b[0m5.765    \u001b[0m |\n",
      "Early stopping on Epoch 61.\n",
      "| \u001b[0m107      \u001b[0m | \u001b[0m-14.98   \u001b[0m | \u001b[0m71.22    \u001b[0m | \u001b[0m0.4711   \u001b[0m | \u001b[0m668.7    \u001b[0m | \u001b[0m11.63    \u001b[0m |\n",
      "Early stopping on Epoch 28.\n",
      "| \u001b[0m108      \u001b[0m | \u001b[0m-57.36   \u001b[0m | \u001b[0m120.9    \u001b[0m | \u001b[0m0.173    \u001b[0m | \u001b[0m718.9    \u001b[0m | \u001b[0m10.15    \u001b[0m |\n",
      "Early stopping on Epoch 20.\n",
      "| \u001b[0m109      \u001b[0m | \u001b[0m-59.92   \u001b[0m | \u001b[0m71.78    \u001b[0m | \u001b[0m0.05971  \u001b[0m | \u001b[0m668.9    \u001b[0m | \u001b[0m8.197    \u001b[0m |\n"
     ]
    },
    {
     "name": "stdout",
     "output_type": "stream",
     "text": [
      "Early stopping on Epoch 85.\n",
      "| \u001b[0m110      \u001b[0m | \u001b[0m-15.01   \u001b[0m | \u001b[0m74.67    \u001b[0m | \u001b[0m0.7724   \u001b[0m | \u001b[0m668.7    \u001b[0m | \u001b[0m16.55    \u001b[0m |\n",
      "=========================================================================\n"
     ]
    }
   ],
   "source": [
    "# iterate through feature space\n",
    "optimizer.maximize(init_points=10, n_iter=100)"
   ]
  },
  {
   "cell_type": "code",
   "execution_count": 91,
   "metadata": {
    "ExecuteTime": {
     "end_time": "2023-11-27T23:36:09.047299Z",
     "start_time": "2023-11-27T23:36:09.032285Z"
    },
    "hidden": true
   },
   "outputs": [
    {
     "data": {
      "text/plain": [
       "{'batch_size': 69.52339713727007,\n",
       " 'dropout': 0.8680468665981138,\n",
       " 'hidden_dim': 670.8489740824233,\n",
       " 'num_layers': 9.719175317016374}"
      ]
     },
     "execution_count": 91,
     "metadata": {},
     "output_type": "execute_result"
    }
   ],
   "source": [
    "# look at params that gave lowest validation RMSE\n",
    "best_hyperparams = optimizer.max['params']\n",
    "best_hyperparams"
   ]
  },
  {
   "cell_type": "markdown",
   "metadata": {
    "hidden": true
   },
   "source": [
    "- Best val_rmse = __14.83__ with a sequence length of 5."
   ]
  },
  {
   "cell_type": "markdown",
   "metadata": {},
   "source": [
    "## Optimization results"
   ]
  },
  {
   "cell_type": "markdown",
   "metadata": {},
   "source": [
    "- As sequence length was increased above 3, validation performance continued to decrease.\n",
    "- seq_len of both 2 and 3 performed pretty well, and will both be used to predict in the next section."
   ]
  },
  {
   "cell_type": "markdown",
   "metadata": {},
   "source": [
    "# 2023 predictions\n",
    "- This model will be trained on the entire train/val data, and then will predict 2023 offensive grade from the 2022 holdout set.\n",
    "- Since we are using a sequence length of 2 seasons to predict the third, we will use 2021 & 2022 seasons (to predict 2022 target) as the test set.\n",
    "- This means that players with under 3 seasons played can't be predicted on. I will use the best model (Random Forest) from [this notebook](./models_1.ipynb) to make these predictions."
   ]
  },
  {
   "cell_type": "markdown",
   "metadata": {},
   "source": [
    "## seq_len = 2"
   ]
  },
  {
   "cell_type": "code",
   "execution_count": 97,
   "metadata": {
    "ExecuteTime": {
     "end_time": "2023-11-28T01:40:04.861932Z",
     "start_time": "2023-11-28T01:40:04.812887Z"
    }
   },
   "outputs": [],
   "source": [
    "# get the names of the 48 players that have 2023 targets\n",
    "player_names_2023 = players_2022.player.values\n",
    "\n",
    "# master_df includes 2022 rows. create a subset for these players, get players with at least 2 seasons\n",
    "players_subset = master_df[master_df['player'].isin(player_names_2023)]\n",
    "players_subset = players_subset.groupby('player').filter(lambda x: len(x) >= 2)\n",
    "\n",
    "# get last two rows for each player\n",
    "seq_test = players_subset.groupby('player').apply(lambda x: x.tail(2)).reset_index(drop=True)"
   ]
  },
  {
   "cell_type": "code",
   "execution_count": 98,
   "metadata": {
    "ExecuteTime": {
     "end_time": "2023-11-28T01:40:08.135974Z",
     "start_time": "2023-11-28T01:40:05.316410Z"
    }
   },
   "outputs": [],
   "source": [
    "# train sequences\n",
    "X_train, y_train = create_seq(feature_subset=all_feats, seq_len=2, df=df)\n",
    "\n",
    "# test sequences\n",
    "X_test, y_test = create_seq(feature_subset=all_feats, seq_len=2, df=seq_test)"
   ]
  },
  {
   "cell_type": "code",
   "execution_count": 99,
   "metadata": {
    "ExecuteTime": {
     "end_time": "2023-11-28T01:40:08.709878Z",
     "start_time": "2023-11-28T01:40:08.692863Z"
    }
   },
   "outputs": [
    {
     "data": {
      "text/plain": [
       "((752, 2, 66), (752,), (42, 2, 66), (42,))"
      ]
     },
     "execution_count": 99,
     "metadata": {},
     "output_type": "execute_result"
    }
   ],
   "source": [
    "# 752 total examples to train on, 42 QBs to predict on\n",
    "X_train.shape, y_train.shape, X_test.shape, y_test.shape"
   ]
  },
  {
   "cell_type": "code",
   "execution_count": 100,
   "metadata": {
    "ExecuteTime": {
     "end_time": "2023-11-28T01:40:10.729348Z",
     "start_time": "2023-11-28T01:40:10.711331Z"
    }
   },
   "outputs": [],
   "source": [
    "# create dataloaders\n",
    "train_loader = create_loaders(X_train, y_train, test_size=0, batch_size=32)\n",
    "test_loader = create_loaders(X_test, y_test, test_size=0, batch_size=len(X_test))"
   ]
  },
  {
   "cell_type": "code",
   "execution_count": 169,
   "metadata": {
    "ExecuteTime": {
     "end_time": "2023-11-28T01:48:32.736071Z",
     "start_time": "2023-11-28T01:48:32.729064Z"
    }
   },
   "outputs": [],
   "source": [
    "# best sequence model\n",
    "best_seq = RNN(input_dim=len(all_feats), hidden_dim=98, num_layers=2, dropout=0.9).to(device)\n",
    "\n",
    "# create optimizer\n",
    "optimizer = torch.optim.AdamW(best_seq.parameters(), lr=0.001)"
   ]
  },
  {
   "cell_type": "code",
   "execution_count": 170,
   "metadata": {
    "ExecuteTime": {
     "end_time": "2023-11-28T01:48:37.369063Z",
     "start_time": "2023-11-28T01:48:32.873199Z"
    }
   },
   "outputs": [],
   "source": [
    "# loss function\n",
    "criterion = nn.MSELoss()\n",
    "\n",
    "# 100 epochs\n",
    "num_epochs = 100\n",
    "\n",
    "# training mode\n",
    "best_seq.train()\n",
    "\n",
    "# training loop\n",
    "for epoch in range(num_epochs):  \n",
    "    # train batches\n",
    "    for x, y in train_loader:\n",
    "        # put x and y on gpu\n",
    "        x = x.to(device)\n",
    "        y = y.to(device)\n",
    "        # zero the parameter gradients\n",
    "        optimizer.zero_grad()\n",
    "        # forward pass\n",
    "        train_preds = best_seq(x)\n",
    "        # calc loss\n",
    "        train_loss = criterion(train_preds, y)\n",
    "        # backward pass\n",
    "        train_loss.backward()\n",
    "        # optimize\n",
    "        optimizer.step()"
   ]
  },
  {
   "cell_type": "code",
   "execution_count": 171,
   "metadata": {
    "ExecuteTime": {
     "end_time": "2023-11-28T01:48:37.385078Z",
     "start_time": "2023-11-28T01:48:37.371066Z"
    }
   },
   "outputs": [
    {
     "name": "stdout",
     "output_type": "stream",
     "text": [
      "RMSE: 12.895\n",
      "R^2: 0.317\n"
     ]
    }
   ],
   "source": [
    "# test set\n",
    "best_seq.eval()\n",
    "\n",
    "with torch.inference_mode():\n",
    "    for x, y in test_loader:\n",
    "        # put x and y on gpu\n",
    "        x = x.to(device)\n",
    "        y = y.to(device)\n",
    "\n",
    "        # forward pass\n",
    "        test_preds = best_seq(x)\n",
    "        # calc loss\n",
    "        test_loss = criterion(test_preds, y)\n",
    "\n",
    "        # performance metrics\n",
    "        rmse = np.sqrt(((test_preds - y) ** 2).sum().item() / y.shape[0])\n",
    "        r2 = r2_score(y.numpy(force=True), test_preds.numpy(force=True))\n",
    "\n",
    "print(f'RMSE: {rmse:.3f}')\n",
    "print(f'R^2: {r2:.3f}')"
   ]
  },
  {
   "cell_type": "markdown",
   "metadata": {},
   "source": [
    "- On the 42/48 QBs who have 3+ seasons played, our model predicts their 2023 offensive grade with an RMSE of 12.895."
   ]
  },
  {
   "cell_type": "code",
   "execution_count": 172,
   "metadata": {
    "ExecuteTime": {
     "end_time": "2023-11-28T01:49:47.599269Z",
     "start_time": "2023-11-28T01:49:47.580251Z"
    }
   },
   "outputs": [
    {
     "data": {
      "text/plain": [
       "(6, 70)"
      ]
     },
     "execution_count": 172,
     "metadata": {},
     "output_type": "execute_result"
    }
   ],
   "source": [
    "# get 2022 players who can't be predicted on with sequence model (players with less than 2 seasons)\n",
    "players_subset = master_df[master_df['player'].isin(player_names_2023)]\n",
    "players_subset = players_subset.groupby('player').filter(lambda x: len(x) < 2)\n",
    "\n",
    "# get last row for each player\n",
    "non_seq_test = players_subset.groupby('player').apply(lambda x: x.tail(1)).reset_index(drop=True)\n",
    "non_seq_test.shape"
   ]
  },
  {
   "cell_type": "markdown",
   "metadata": {},
   "source": [
    "- 6 QBs in 2023 with less than 3 seasons played."
   ]
  },
  {
   "cell_type": "code",
   "execution_count": 173,
   "metadata": {
    "ExecuteTime": {
     "end_time": "2023-11-28T01:50:11.353517Z",
     "start_time": "2023-11-28T01:50:09.810113Z"
    }
   },
   "outputs": [
    {
     "name": "stdout",
     "output_type": "stream",
     "text": [
      "RMSE: 11.658\n",
      "R^2: 0.245\n"
     ]
    }
   ],
   "source": [
    "# best random forest\n",
    "best_rf = RandomForestRegressor(random_state=random_state, min_samples_split=112)\n",
    "\n",
    "# features and target\n",
    "X_train = df[all_feats]\n",
    "y_train = df.target\n",
    "X_test = non_seq_test[all_feats]\n",
    "y_test = non_seq_test.target\n",
    "\n",
    "# create pieline\n",
    "pipeline = Pipeline([\n",
    "        ('scaler', StandardScaler()),\n",
    "        ('rf', best_rf)\n",
    "    ])\n",
    "\n",
    "# train on entire dataset\n",
    "pipeline.fit(X_train, y_train)\n",
    "\n",
    "# predict\n",
    "preds = pipeline.predict(X_test)\n",
    "\n",
    "rmse = mean_squared_error(y_test, preds, squared=False)\n",
    "r2 = r2_score(y_test, preds)\n",
    "\n",
    "print(f'RMSE: {rmse:.3f}')\n",
    "print(f'R^2: {r2:.3f}')"
   ]
  },
  {
   "cell_type": "code",
   "execution_count": 194,
   "metadata": {
    "ExecuteTime": {
     "end_time": "2023-11-28T01:57:16.248421Z",
     "start_time": "2023-11-28T01:57:16.234409Z"
    }
   },
   "outputs": [
    {
     "name": "stdout",
     "output_type": "stream",
     "text": [
      "RMSE: 12.747\n",
      "R^2: 0.338\n"
     ]
    }
   ],
   "source": [
    "# combine preds from the two models\n",
    "y_pred = np.concatenate([test_preds.squeeze(-1).cpu().numpy(), preds])\n",
    "\n",
    "# get true values\n",
    "y_true = np.concatenate([y.squeeze(-1).cpu().numpy(), y_test])\n",
    "\n",
    "# look at overall performance\n",
    "rmse = mean_squared_error(y_true, y_pred, squared=False)\n",
    "r2 = r2_score(y_true, y_pred)\n",
    "print(f'RMSE: {rmse:.3f}')\n",
    "print(f'R^2: {r2:.3f}')"
   ]
  },
  {
   "cell_type": "markdown",
   "metadata": {},
   "source": [
    "- Using an RNN with a sequence length of 2 (paired with best Random Forest), we achieve a RMSE of __12.75__.\n",
    "- This is worse performance than just the Random Forest from [models_1](./models_1.ipynb)."
   ]
  },
  {
   "cell_type": "markdown",
   "metadata": {},
   "source": [
    "## seq_len = 3"
   ]
  },
  {
   "cell_type": "code",
   "execution_count": 281,
   "metadata": {
    "ExecuteTime": {
     "end_time": "2023-11-28T02:32:59.812180Z",
     "start_time": "2023-11-28T02:32:59.770141Z"
    }
   },
   "outputs": [],
   "source": [
    "# get players with at least 3 seasons\n",
    "players_subset = master_df[master_df['player'].isin(player_names_2023)]\n",
    "players_subset = players_subset.groupby('player').filter(lambda x: len(x) >= 3)\n",
    "\n",
    "# get last two rows for each player\n",
    "seq_test = players_subset.groupby('player').apply(lambda x: x.tail(3)).reset_index(drop=True)"
   ]
  },
  {
   "cell_type": "code",
   "execution_count": 282,
   "metadata": {
    "ExecuteTime": {
     "end_time": "2023-11-28T02:33:05.364127Z",
     "start_time": "2023-11-28T02:33:02.907137Z"
    }
   },
   "outputs": [],
   "source": [
    "# train sequences\n",
    "X_train, y_train = create_seq(feature_subset=all_feats, seq_len=3, df=df)\n",
    "\n",
    "# test sequences\n",
    "X_test, y_test = create_seq(feature_subset=all_feats, seq_len=3, df=seq_test)"
   ]
  },
  {
   "cell_type": "code",
   "execution_count": 283,
   "metadata": {
    "ExecuteTime": {
     "end_time": "2023-11-28T02:33:05.380215Z",
     "start_time": "2023-11-28T02:33:05.366204Z"
    }
   },
   "outputs": [
    {
     "data": {
      "text/plain": [
       "((579, 3, 66), (579,), (36, 3, 66), (36,))"
      ]
     },
     "execution_count": 283,
     "metadata": {},
     "output_type": "execute_result"
    }
   ],
   "source": [
    "# 579 total examples to train on, 36 QBs to predict on\n",
    "X_train.shape, y_train.shape, X_test.shape, y_test.shape"
   ]
  },
  {
   "cell_type": "code",
   "execution_count": 284,
   "metadata": {
    "ExecuteTime": {
     "end_time": "2023-11-28T02:33:05.396230Z",
     "start_time": "2023-11-28T02:33:05.382218Z"
    }
   },
   "outputs": [],
   "source": [
    "# create dataloaders\n",
    "train_loader = create_loaders(X_train, y_train, test_size=0, batch_size=28)\n",
    "test_loader = create_loaders(X_test, y_test, test_size=0, batch_size=len(X_test))"
   ]
  },
  {
   "cell_type": "code",
   "execution_count": 285,
   "metadata": {
    "ExecuteTime": {
     "end_time": "2023-11-28T02:33:05.428259Z",
     "start_time": "2023-11-28T02:33:05.399233Z"
    }
   },
   "outputs": [],
   "source": [
    "# best sequence model\n",
    "best_seq = RNN(input_dim=len(all_feats), hidden_dim=98, num_layers=2, dropout=0.9).to(device)\n",
    "\n",
    "# create optimizer\n",
    "optimizer = torch.optim.AdamW(best_seq.parameters(), lr=0.001)"
   ]
  },
  {
   "cell_type": "code",
   "execution_count": 286,
   "metadata": {
    "ExecuteTime": {
     "end_time": "2023-11-28T02:33:09.898640Z",
     "start_time": "2023-11-28T02:33:06.042140Z"
    }
   },
   "outputs": [],
   "source": [
    "# loss function\n",
    "criterion = nn.MSELoss()\n",
    "\n",
    "# 100 epochs\n",
    "num_epochs = 100\n",
    "\n",
    "# training mode\n",
    "best_seq.train()\n",
    "\n",
    "# training loop\n",
    "for epoch in range(num_epochs):  \n",
    "    # train batches\n",
    "    for x, y in train_loader:\n",
    "        # put x and y on gpu\n",
    "        x = x.to(device)\n",
    "        y = y.to(device)\n",
    "        # zero the parameter gradients\n",
    "        optimizer.zero_grad()\n",
    "        # forward pass\n",
    "        train_preds = best_seq(x)\n",
    "        # calc loss\n",
    "        train_loss = criterion(train_preds, y)\n",
    "        # backward pass\n",
    "        train_loss.backward()\n",
    "        # optimize\n",
    "        optimizer.step()"
   ]
  },
  {
   "cell_type": "code",
   "execution_count": 287,
   "metadata": {
    "ExecuteTime": {
     "end_time": "2023-11-28T02:33:09.914655Z",
     "start_time": "2023-11-28T02:33:09.900643Z"
    }
   },
   "outputs": [
    {
     "name": "stdout",
     "output_type": "stream",
     "text": [
      "RMSE: 13.131\n",
      "R^2: 0.337\n"
     ]
    }
   ],
   "source": [
    "# test set\n",
    "best_seq.eval()\n",
    "\n",
    "with torch.inference_mode():\n",
    "    for x, y in test_loader:\n",
    "        # put x and y on gpu\n",
    "        x = x.to(device)\n",
    "        y = y.to(device)\n",
    "\n",
    "        # forward pass\n",
    "        test_preds = best_seq(x)\n",
    "        # calc loss\n",
    "        test_loss = criterion(test_preds, y)\n",
    "\n",
    "        # performance metrics\n",
    "        rmse = np.sqrt(((test_preds - y) ** 2).sum().item() / y.shape[0])\n",
    "        r2 = r2_score(y.numpy(force=True), test_preds.numpy(force=True))\n",
    "\n",
    "print(f'RMSE: {rmse:.3f}')\n",
    "print(f'R^2: {r2:.3f}')"
   ]
  },
  {
   "cell_type": "markdown",
   "metadata": {},
   "source": [
    "- On the 36/48 QBs who have 4+ seasons played, our model predicts their 2023 offensive grade with an RMSE of 13.13."
   ]
  },
  {
   "cell_type": "code",
   "execution_count": 288,
   "metadata": {
    "ExecuteTime": {
     "end_time": "2023-11-28T02:33:32.576181Z",
     "start_time": "2023-11-28T02:33:32.543151Z"
    }
   },
   "outputs": [
    {
     "data": {
      "text/plain": [
       "(12, 70)"
      ]
     },
     "execution_count": 288,
     "metadata": {},
     "output_type": "execute_result"
    }
   ],
   "source": [
    "# get 2022 players who can't be predicted on with sequence model (players with less than 3 seasons)\n",
    "players_subset = master_df[master_df['player'].isin(player_names_2023)]\n",
    "players_subset = players_subset.groupby('player').filter(lambda x: len(x) < 3)\n",
    "\n",
    "# get last row for each player\n",
    "non_seq_test = players_subset.groupby('player').apply(lambda x: x.tail(1)).reset_index(drop=True)\n",
    "non_seq_test.shape"
   ]
  },
  {
   "cell_type": "markdown",
   "metadata": {},
   "source": [
    "- 12 QBs in 2023 with less than 4 seasons played."
   ]
  },
  {
   "cell_type": "code",
   "execution_count": 289,
   "metadata": {
    "ExecuteTime": {
     "end_time": "2023-11-28T02:33:35.435552Z",
     "start_time": "2023-11-28T02:33:33.892148Z"
    }
   },
   "outputs": [
    {
     "name": "stdout",
     "output_type": "stream",
     "text": [
      "RMSE: 10.578\n",
      "R^2: 0.356\n"
     ]
    }
   ],
   "source": [
    "# best random forest\n",
    "best_rf = RandomForestRegressor(random_state=random_state, min_samples_split=112)\n",
    "\n",
    "# features and target\n",
    "X_train = df[all_feats]\n",
    "y_train = df.target\n",
    "X_test = non_seq_test[all_feats]\n",
    "y_test = non_seq_test.target\n",
    "\n",
    "# create pieline\n",
    "pipeline = Pipeline([\n",
    "        ('scaler', StandardScaler()),\n",
    "        ('rf', best_rf)\n",
    "    ])\n",
    "\n",
    "# train on entire dataset\n",
    "pipeline.fit(X_train, y_train)\n",
    "\n",
    "# predict\n",
    "preds = pipeline.predict(X_test)\n",
    "\n",
    "rmse = mean_squared_error(y_test, preds, squared=False)\n",
    "r2 = r2_score(y_test, preds)\n",
    "\n",
    "print(f'RMSE: {rmse:.3f}')\n",
    "print(f'R^2: {r2:.3f}')"
   ]
  },
  {
   "cell_type": "code",
   "execution_count": 290,
   "metadata": {
    "ExecuteTime": {
     "end_time": "2023-11-28T02:33:35.880166Z",
     "start_time": "2023-11-28T02:33:35.862149Z"
    }
   },
   "outputs": [
    {
     "name": "stdout",
     "output_type": "stream",
     "text": [
      "RMSE: 12.541\n",
      "R^2: 0.359\n"
     ]
    }
   ],
   "source": [
    "# combine preds from the two models\n",
    "y_pred = np.concatenate([test_preds.squeeze(-1).cpu().numpy(), preds])\n",
    "\n",
    "# get true values\n",
    "y_true = np.concatenate([y.squeeze(-1).cpu().numpy(), y_test])\n",
    "\n",
    "# look at overall performance\n",
    "rmse = mean_squared_error(y_true, y_pred, squared=False)\n",
    "r2 = r2_score(y_true, y_pred)\n",
    "print(f'RMSE: {rmse:.3f}')\n",
    "print(f'R^2: {r2:.3f}')"
   ]
  },
  {
   "cell_type": "markdown",
   "metadata": {},
   "source": [
    "- Using an RNN with a sequence length of 3 (paired with best Random Forest), we achieve a RMSE of __12.54__. This is slightly better performance to the seq_len=2 model.\n",
    "- Once again, this is worse than the Random Forest found initially in the modeling process."
   ]
  },
  {
   "cell_type": "markdown",
   "metadata": {},
   "source": [
    "## Visualize predictions\n",
    "- Even though these models won't be used as the final predictors, I would still like to see how they predicted differently on specific players."
   ]
  },
  {
   "cell_type": "code",
   "execution_count": 291,
   "metadata": {
    "ExecuteTime": {
     "end_time": "2023-11-28T02:36:52.739556Z",
     "start_time": "2023-11-28T02:36:52.713532Z"
    }
   },
   "outputs": [],
   "source": [
    "# player names\n",
    "player_names = seq_test.player.unique().tolist() + non_seq_test.player.unique().tolist()\n",
    "\n",
    "# teams\n",
    "team_names = []\n",
    "for _, group in seq_test.groupby('player'):\n",
    "    team_names.append(group.iloc[-1].team_name)\n",
    "\n",
    "team_names.extend(non_seq_test.team_name.tolist())"
   ]
  },
  {
   "cell_type": "code",
   "execution_count": 292,
   "metadata": {
    "ExecuteTime": {
     "end_time": "2023-11-28T02:36:53.894242Z",
     "start_time": "2023-11-28T02:36:53.875225Z"
    }
   },
   "outputs": [],
   "source": [
    "preds_df = pd.DataFrame(data={'player': player_names, 'team': team_names, 'y_true': y_true, 'y_pred': y_pred, \n",
    "                              'error': (y_pred - y_true)})"
   ]
  },
  {
   "cell_type": "code",
   "execution_count": 293,
   "metadata": {
    "ExecuteTime": {
     "end_time": "2023-11-28T02:36:54.384236Z",
     "start_time": "2023-11-28T02:36:54.375228Z"
    }
   },
   "outputs": [],
   "source": [
    "# team colors for plotting predictions\n",
    "nfl_team_colors = {\n",
    "    'GB': '#203731',   # Green Bay Packers\n",
    "    'NO': '#D3BC8D',   # New Orleans Saints\n",
    "    'LA': '#003594',   # Los Angeles Rams\n",
    "    'DAL': '#041E42',  # Dallas Cowboys\n",
    "    'NYG': '#0B2265',  # New York Giants\n",
    "    'LV': '#000000',   # Las Vegas Raiders\n",
    "    'SEA': '#002244',  # Seattle Seahawks\n",
    "    'PHI': '#004C54',  # Philadelphia Eagles\n",
    "    'DET': '#0076B6',  # Detroit Lions\n",
    "    'SF': '#AA0000',   # San Francisco 49ers\n",
    "    'CIN': '#FB4F14',  # Cincinnati Bengals\n",
    "    'BUF': '#00338D',  # Buffalo Bills\n",
    "    'CHI': '#0B162A',  # Chicago Bears\n",
    "    'LAC': '#0080C6',  # Los Angeles Chargers\n",
    "    'PIT': '#FFB612',  # Pittsburgh Steelers\n",
    "    'MIN': '#4F2683',  # Minnesota Vikings\n",
    "    'ARZ': '#97233F',  # Arizona Cardinals\n",
    "    'BLT': '#241773',  # Baltimore Ravens\n",
    "    'NE': '#002244',   # New England Patriots\n",
    "    'KC': '#E31837',   # Kansas City Chiefs\n",
    "    'DEN': '#FB4F14',  # Denver Broncos\n",
    "    'TEN': '#0C2340',  # Tennessee Titans\n",
    "    'WAS': '#773141',  # Washington Commanders\n",
    "    'JAX': '#006778',  # Jacksonville Jaguars\n",
    "    'MIA': '#008E97',  # Miami Dolphins\n",
    "    'NYJ': '#125740',  # New York Jets\n",
    "    'TB': '#D50A0A',   # Tampa Bay Buccaneers\n",
    "    'CLV': '#311D00',  # Cleveland Browns\n",
    "    'ATL': '#A71930',  # Atlanta Falcons\n",
    "    'CAR': '#0085CA',  # Carolina Panthers\n",
    "}\n",
    "\n",
    "# map colors to our preds_df\n",
    "preds_df['color'] = preds_df['team'].map(nfl_team_colors)"
   ]
  },
  {
   "cell_type": "code",
   "execution_count": 294,
   "metadata": {
    "ExecuteTime": {
     "end_time": "2023-11-28T02:36:55.164228Z",
     "start_time": "2023-11-28T02:36:55.159225Z"
    }
   },
   "outputs": [
    {
     "name": "stdout",
     "output_type": "stream",
     "text": [
      "58.3% of our model's predictions are within 10 pts of the true value.\n"
     ]
    }
   ],
   "source": [
    "# percent of preds within 10 pts\n",
    "percent = (preds_df.error.abs() < 10).sum() / len(preds_df)\n",
    "\n",
    "print(f'{percent*100:.1f}% of our model\\'s predictions are within 10 pts of the true value.')"
   ]
  },
  {
   "cell_type": "code",
   "execution_count": 332,
   "metadata": {
    "ExecuteTime": {
     "end_time": "2023-11-28T02:55:02.600809Z",
     "start_time": "2023-11-28T02:55:02.127692Z"
    }
   },
   "outputs": [
    {
     "data": {
      "image/png": "[encoded data removed]",
      "text/plain": [
       "<Figure size 1400x800 with 1 Axes>"
      ]
     },
     "metadata": {},
     "output_type": "display_data"
    }
   ],
   "source": [
    "# visualize 2023 predictions\n",
    "plt.figure(figsize=(14, 8))\n",
    "\n",
    "# lists for annotating player names\n",
    "over_drops = ['Mike White', 'Cooper Rush', 'Malik Willis', 'Deshaun Watson', 'Mitch Trubisky', 'Kyler Murray', 'Derek Carr']\n",
    "under_drops = ['Jameis Winston', 'Taylor Heinicke', 'Brian Hoyer', 'Andy Dalton', 'Dak Prescott', 'Joshua Dobbs', \n",
    "               'Lamar Jackson', 'Jordan Love', 'Sam Darnold', 'Tyrod Taylor', 'Joe Burrow', 'Russell Wilson', 'Justin Herbert', \n",
    "               'Jalen Hurts', 'Patrick Mahomes', 'Jared Goff', 'Lamar Jackson', 'Trevor Lawrence', 'Matthew Stafford', \n",
    "               'Kirk Cousins', 'Josh Allen']\n",
    "over_position = ['Russell Wilson', 'Trevor Lawrence', 'Josh Allen']\n",
    "under_position = ['Jalen Hurts', 'Patrick Mahomes', 'Jared Goff']\n",
    "\n",
    "# title, labels\n",
    "plt.title('2023 Predictions with RNN of seq_len=3', fontsize=22)\n",
    "plt.xlabel('True Offensive Grade', fontsize=22)\n",
    "plt.ylabel('Predicted Offensive Grade', fontsize=22)\n",
    "\n",
    "# team colors\n",
    "color_palette = {color: color for color in preds_df['color'].unique()}\n",
    "\n",
    "# plot players as points\n",
    "sns.scatterplot(data=preds_df, x='y_true', y='y_pred', hue='color', palette=color_palette, legend=False)\n",
    "\n",
    "# plot line to show perfect predictions\n",
    "sns.lineplot(x=range(30,96), y=range(30,96), color='black')\n",
    "\n",
    "# annotating each point with the player's name\n",
    "for index, row in preds_df.iterrows():\n",
    "    # over preds (above line)\n",
    "    if (row['y_pred'] > row['y_true']) and (row['player'] not in over_drops):\n",
    "        plt.text(row['y_true']-0.5, row['y_pred']-0.5, row['player'], horizontalalignment='right', color='black', \n",
    "             weight='semibold', fontsize=7)\n",
    "    # under preds (below line)\n",
    "    elif (row['y_pred'] < row['y_true']) and (row['player'] not in under_drops):\n",
    "        plt.text(row['y_true']+0.5, row['y_pred']-0.3, row['player'], horizontalalignment='left', color='black', \n",
    "             weight='semibold', fontsize=7)\n",
    "    elif row['player'] in over_position:\n",
    "        plt.text(row['y_true']-1.8, row['y_pred']+1, row['player'], horizontalalignment='left', color='black', \n",
    "             weight='semibold', fontsize=7)\n",
    "    elif row['player'] in under_position:\n",
    "        plt.text(row['y_true']-2, row['y_pred']-1.5, row['player'], horizontalalignment='left', color='black', \n",
    "             weight='semibold', fontsize=7)\n",
    "             \n",
    "plt.savefig('./images/preds_3');"
   ]
  },
  {
   "cell_type": "code",
   "execution_count": 331,
   "metadata": {
    "ExecuteTime": {
     "end_time": "2023-11-28T02:50:34.379981Z",
     "start_time": "2023-11-28T02:50:34.361965Z"
    }
   },
   "outputs": [
    {
     "data": {
      "text/html": [
       "<div>\n",
       "<style scoped>\n",
       "    .dataframe tbody tr th:only-of-type {\n",
       "        vertical-align: middle;\n",
       "    }\n",
       "\n",
       "    .dataframe tbody tr th {\n",
       "        vertical-align: top;\n",
       "    }\n",
       "\n",
       "    .dataframe thead th {\n",
       "        text-align: right;\n",
       "    }\n",
       "</style>\n",
       "<table border=\"1\" class=\"dataframe\">\n",
       "  <thead>\n",
       "    <tr style=\"text-align: right;\">\n",
       "      <th></th>\n",
       "      <th>player</th>\n",
       "      <th>y_true</th>\n",
       "      <th>y_pred</th>\n",
       "      <th>error</th>\n",
       "    </tr>\n",
       "  </thead>\n",
       "  <tbody>\n",
       "    <tr>\n",
       "      <th>1</th>\n",
       "      <td>Andy Dalton</td>\n",
       "      <td>81.099998</td>\n",
       "      <td>58.643250</td>\n",
       "      <td>-22.456749</td>\n",
       "    </tr>\n",
       "    <tr>\n",
       "      <th>33</th>\n",
       "      <td>Tua Tagovailoa</td>\n",
       "      <td>87.500000</td>\n",
       "      <td>67.854294</td>\n",
       "      <td>-19.645706</td>\n",
       "    </tr>\n",
       "    <tr>\n",
       "      <th>16</th>\n",
       "      <td>Jared Goff</td>\n",
       "      <td>90.599998</td>\n",
       "      <td>72.778526</td>\n",
       "      <td>-17.821472</td>\n",
       "    </tr>\n",
       "    <tr>\n",
       "      <th>19</th>\n",
       "      <td>Josh Allen</td>\n",
       "      <td>89.800003</td>\n",
       "      <td>73.668747</td>\n",
       "      <td>-16.131256</td>\n",
       "    </tr>\n",
       "    <tr>\n",
       "      <th>8</th>\n",
       "      <td>Dak Prescott</td>\n",
       "      <td>87.599998</td>\n",
       "      <td>73.406715</td>\n",
       "      <td>-14.193283</td>\n",
       "    </tr>\n",
       "    <tr>\n",
       "      <th>24</th>\n",
       "      <td>Lamar Jackson</td>\n",
       "      <td>87.500000</td>\n",
       "      <td>73.621735</td>\n",
       "      <td>-13.878265</td>\n",
       "    </tr>\n",
       "    <tr>\n",
       "      <th>28</th>\n",
       "      <td>Patrick Mahomes</td>\n",
       "      <td>87.099998</td>\n",
       "      <td>73.667923</td>\n",
       "      <td>-13.432076</td>\n",
       "    </tr>\n",
       "    <tr>\n",
       "      <th>22</th>\n",
       "      <td>Kirk Cousins</td>\n",
       "      <td>86.099998</td>\n",
       "      <td>73.666733</td>\n",
       "      <td>-12.433266</td>\n",
       "    </tr>\n",
       "    <tr>\n",
       "      <th>37</th>\n",
       "      <td>Brock Purdy</td>\n",
       "      <td>78.100000</td>\n",
       "      <td>65.895333</td>\n",
       "      <td>-12.204667</td>\n",
       "    </tr>\n",
       "    <tr>\n",
       "      <th>39</th>\n",
       "      <td>Jordan Love</td>\n",
       "      <td>71.300000</td>\n",
       "      <td>60.182698</td>\n",
       "      <td>-11.117302</td>\n",
       "    </tr>\n",
       "    <tr>\n",
       "      <th>25</th>\n",
       "      <td>Matthew Stafford</td>\n",
       "      <td>83.699997</td>\n",
       "      <td>73.625320</td>\n",
       "      <td>-10.074677</td>\n",
       "    </tr>\n",
       "    <tr>\n",
       "      <th>35</th>\n",
       "      <td>Tyrod Taylor</td>\n",
       "      <td>66.800003</td>\n",
       "      <td>56.861519</td>\n",
       "      <td>-9.938484</td>\n",
       "    </tr>\n",
       "    <tr>\n",
       "      <th>15</th>\n",
       "      <td>Jameis Winston</td>\n",
       "      <td>67.699997</td>\n",
       "      <td>58.350697</td>\n",
       "      <td>-9.349300</td>\n",
       "    </tr>\n",
       "    <tr>\n",
       "      <th>46</th>\n",
       "      <td>Trevor Lawrence</td>\n",
       "      <td>82.700000</td>\n",
       "      <td>73.485411</td>\n",
       "      <td>-9.214589</td>\n",
       "    </tr>\n",
       "    <tr>\n",
       "      <th>6</th>\n",
       "      <td>C.J. Beathard</td>\n",
       "      <td>66.199997</td>\n",
       "      <td>57.061798</td>\n",
       "      <td>-9.138199</td>\n",
       "    </tr>\n",
       "    <tr>\n",
       "      <th>20</th>\n",
       "      <td>Joshua Dobbs</td>\n",
       "      <td>66.300003</td>\n",
       "      <td>57.401669</td>\n",
       "      <td>-8.898335</td>\n",
       "    </tr>\n",
       "    <tr>\n",
       "      <th>2</th>\n",
       "      <td>Baker Mayfield</td>\n",
       "      <td>73.300003</td>\n",
       "      <td>64.538071</td>\n",
       "      <td>-8.761932</td>\n",
       "    </tr>\n",
       "    <tr>\n",
       "      <th>32</th>\n",
       "      <td>Taylor Heinicke</td>\n",
       "      <td>65.300003</td>\n",
       "      <td>56.977200</td>\n",
       "      <td>-8.322803</td>\n",
       "    </tr>\n",
       "    <tr>\n",
       "      <th>45</th>\n",
       "      <td>Sam Howell</td>\n",
       "      <td>67.500000</td>\n",
       "      <td>59.270814</td>\n",
       "      <td>-8.229186</td>\n",
       "    </tr>\n",
       "    <tr>\n",
       "      <th>14</th>\n",
       "      <td>Jalen Hurts</td>\n",
       "      <td>81.300003</td>\n",
       "      <td>73.665771</td>\n",
       "      <td>-7.634232</td>\n",
       "    </tr>\n",
       "    <tr>\n",
       "      <th>40</th>\n",
       "      <td>Justin Fields</td>\n",
       "      <td>73.600000</td>\n",
       "      <td>66.847549</td>\n",
       "      <td>-6.752451</td>\n",
       "    </tr>\n",
       "    <tr>\n",
       "      <th>18</th>\n",
       "      <td>Joe Burrow</td>\n",
       "      <td>78.000000</td>\n",
       "      <td>73.668076</td>\n",
       "      <td>-4.331924</td>\n",
       "    </tr>\n",
       "    <tr>\n",
       "      <th>21</th>\n",
       "      <td>Justin Herbert</td>\n",
       "      <td>77.800003</td>\n",
       "      <td>73.668015</td>\n",
       "      <td>-4.131989</td>\n",
       "    </tr>\n",
       "    <tr>\n",
       "      <th>13</th>\n",
       "      <td>Geno Smith</td>\n",
       "      <td>75.300003</td>\n",
       "      <td>71.263504</td>\n",
       "      <td>-4.036499</td>\n",
       "    </tr>\n",
       "    <tr>\n",
       "      <th>29</th>\n",
       "      <td>Russell Wilson</td>\n",
       "      <td>77.099998</td>\n",
       "      <td>73.664391</td>\n",
       "      <td>-3.435608</td>\n",
       "    </tr>\n",
       "    <tr>\n",
       "      <th>47</th>\n",
       "      <td>Zach Wilson</td>\n",
       "      <td>59.900000</td>\n",
       "      <td>56.896303</td>\n",
       "      <td>-3.003697</td>\n",
       "    </tr>\n",
       "    <tr>\n",
       "      <th>41</th>\n",
       "      <td>Kenny Pickett</td>\n",
       "      <td>66.800000</td>\n",
       "      <td>63.924378</td>\n",
       "      <td>-2.875622</td>\n",
       "    </tr>\n",
       "    <tr>\n",
       "      <th>31</th>\n",
       "      <td>Sam Darnold</td>\n",
       "      <td>59.799999</td>\n",
       "      <td>56.984539</td>\n",
       "      <td>-2.815460</td>\n",
       "    </tr>\n",
       "    <tr>\n",
       "      <th>5</th>\n",
       "      <td>Brian Hoyer</td>\n",
       "      <td>57.900002</td>\n",
       "      <td>56.834694</td>\n",
       "      <td>-1.065308</td>\n",
       "    </tr>\n",
       "    <tr>\n",
       "      <th>12</th>\n",
       "      <td>Gardner Minshew</td>\n",
       "      <td>56.599998</td>\n",
       "      <td>57.058193</td>\n",
       "      <td>0.458195</td>\n",
       "    </tr>\n",
       "    <tr>\n",
       "      <th>30</th>\n",
       "      <td>Ryan Tannehill</td>\n",
       "      <td>72.000000</td>\n",
       "      <td>73.622543</td>\n",
       "      <td>1.622543</td>\n",
       "    </tr>\n",
       "    <tr>\n",
       "      <th>17</th>\n",
       "      <td>Jimmy Garoppolo</td>\n",
       "      <td>65.599998</td>\n",
       "      <td>67.953964</td>\n",
       "      <td>2.353966</td>\n",
       "    </tr>\n",
       "    <tr>\n",
       "      <th>7</th>\n",
       "      <td>Cooper Rush</td>\n",
       "      <td>53.099998</td>\n",
       "      <td>57.512890</td>\n",
       "      <td>4.412891</td>\n",
       "    </tr>\n",
       "    <tr>\n",
       "      <th>10</th>\n",
       "      <td>Derek Carr</td>\n",
       "      <td>68.099998</td>\n",
       "      <td>73.611755</td>\n",
       "      <td>5.511757</td>\n",
       "    </tr>\n",
       "    <tr>\n",
       "      <th>11</th>\n",
       "      <td>Deshaun Watson</td>\n",
       "      <td>66.900002</td>\n",
       "      <td>73.028854</td>\n",
       "      <td>6.128853</td>\n",
       "    </tr>\n",
       "    <tr>\n",
       "      <th>38</th>\n",
       "      <td>Desmond Ridder</td>\n",
       "      <td>48.900000</td>\n",
       "      <td>55.384958</td>\n",
       "      <td>6.484958</td>\n",
       "    </tr>\n",
       "    <tr>\n",
       "      <th>23</th>\n",
       "      <td>Kyler Murray</td>\n",
       "      <td>65.599998</td>\n",
       "      <td>73.650818</td>\n",
       "      <td>8.050819</td>\n",
       "    </tr>\n",
       "    <tr>\n",
       "      <th>4</th>\n",
       "      <td>Brett Rypien</td>\n",
       "      <td>48.099998</td>\n",
       "      <td>57.139969</td>\n",
       "      <td>9.039970</td>\n",
       "    </tr>\n",
       "    <tr>\n",
       "      <th>42</th>\n",
       "      <td>Mac Jones</td>\n",
       "      <td>59.000000</td>\n",
       "      <td>68.350478</td>\n",
       "      <td>9.350478</td>\n",
       "    </tr>\n",
       "    <tr>\n",
       "      <th>9</th>\n",
       "      <td>Daniel Jones</td>\n",
       "      <td>63.000000</td>\n",
       "      <td>73.605301</td>\n",
       "      <td>10.605301</td>\n",
       "    </tr>\n",
       "    <tr>\n",
       "      <th>43</th>\n",
       "      <td>Malik Willis</td>\n",
       "      <td>45.900000</td>\n",
       "      <td>58.697883</td>\n",
       "      <td>12.797883</td>\n",
       "    </tr>\n",
       "    <tr>\n",
       "      <th>34</th>\n",
       "      <td>Tyler Huntley</td>\n",
       "      <td>45.200001</td>\n",
       "      <td>58.454288</td>\n",
       "      <td>13.254288</td>\n",
       "    </tr>\n",
       "    <tr>\n",
       "      <th>44</th>\n",
       "      <td>Mike White</td>\n",
       "      <td>46.200000</td>\n",
       "      <td>59.491511</td>\n",
       "      <td>13.291511</td>\n",
       "    </tr>\n",
       "    <tr>\n",
       "      <th>3</th>\n",
       "      <td>Blaine Gabbert</td>\n",
       "      <td>40.200001</td>\n",
       "      <td>56.987778</td>\n",
       "      <td>16.787777</td>\n",
       "    </tr>\n",
       "    <tr>\n",
       "      <th>36</th>\n",
       "      <td>Bailey Zappe</td>\n",
       "      <td>41.300000</td>\n",
       "      <td>60.912220</td>\n",
       "      <td>19.612220</td>\n",
       "    </tr>\n",
       "    <tr>\n",
       "      <th>26</th>\n",
       "      <td>Mitch Trubisky</td>\n",
       "      <td>34.799999</td>\n",
       "      <td>58.251736</td>\n",
       "      <td>23.451736</td>\n",
       "    </tr>\n",
       "    <tr>\n",
       "      <th>27</th>\n",
       "      <td>P.J. Walker</td>\n",
       "      <td>30.799999</td>\n",
       "      <td>58.105137</td>\n",
       "      <td>27.305138</td>\n",
       "    </tr>\n",
       "    <tr>\n",
       "      <th>0</th>\n",
       "      <td>Aaron Rodgers</td>\n",
       "      <td>39.400002</td>\n",
       "      <td>73.667221</td>\n",
       "      <td>34.267220</td>\n",
       "    </tr>\n",
       "  </tbody>\n",
       "</table>\n",
       "</div>"
      ],
      "text/plain": [
       "              player     y_true     y_pred      error\n",
       "1        Andy Dalton  81.099998  58.643250 -22.456749\n",
       "33    Tua Tagovailoa  87.500000  67.854294 -19.645706\n",
       "16        Jared Goff  90.599998  72.778526 -17.821472\n",
       "19        Josh Allen  89.800003  73.668747 -16.131256\n",
       "8       Dak Prescott  87.599998  73.406715 -14.193283\n",
       "24     Lamar Jackson  87.500000  73.621735 -13.878265\n",
       "28   Patrick Mahomes  87.099998  73.667923 -13.432076\n",
       "22      Kirk Cousins  86.099998  73.666733 -12.433266\n",
       "37       Brock Purdy  78.100000  65.895333 -12.204667\n",
       "39       Jordan Love  71.300000  60.182698 -11.117302\n",
       "25  Matthew Stafford  83.699997  73.625320 -10.074677\n",
       "35      Tyrod Taylor  66.800003  56.861519  -9.938484\n",
       "15    Jameis Winston  67.699997  58.350697  -9.349300\n",
       "46   Trevor Lawrence  82.700000  73.485411  -9.214589\n",
       "6      C.J. Beathard  66.199997  57.061798  -9.138199\n",
       "20      Joshua Dobbs  66.300003  57.401669  -8.898335\n",
       "2     Baker Mayfield  73.300003  64.538071  -8.761932\n",
       "32   Taylor Heinicke  65.300003  56.977200  -8.322803\n",
       "45        Sam Howell  67.500000  59.270814  -8.229186\n",
       "14       Jalen Hurts  81.300003  73.665771  -7.634232\n",
       "40     Justin Fields  73.600000  66.847549  -6.752451\n",
       "18        Joe Burrow  78.000000  73.668076  -4.331924\n",
       "21    Justin Herbert  77.800003  73.668015  -4.131989\n",
       "13        Geno Smith  75.300003  71.263504  -4.036499\n",
       "29    Russell Wilson  77.099998  73.664391  -3.435608\n",
       "47       Zach Wilson  59.900000  56.896303  -3.003697\n",
       "41     Kenny Pickett  66.800000  63.924378  -2.875622\n",
       "31       Sam Darnold  59.799999  56.984539  -2.815460\n",
       "5        Brian Hoyer  57.900002  56.834694  -1.065308\n",
       "12   Gardner Minshew  56.599998  57.058193   0.458195\n",
       "30    Ryan Tannehill  72.000000  73.622543   1.622543\n",
       "17   Jimmy Garoppolo  65.599998  67.953964   2.353966\n",
       "7        Cooper Rush  53.099998  57.512890   4.412891\n",
       "10        Derek Carr  68.099998  73.611755   5.511757\n",
       "11    Deshaun Watson  66.900002  73.028854   6.128853\n",
       "38    Desmond Ridder  48.900000  55.384958   6.484958\n",
       "23      Kyler Murray  65.599998  73.650818   8.050819\n",
       "4       Brett Rypien  48.099998  57.139969   9.039970\n",
       "42         Mac Jones  59.000000  68.350478   9.350478\n",
       "9       Daniel Jones  63.000000  73.605301  10.605301\n",
       "43      Malik Willis  45.900000  58.697883  12.797883\n",
       "34     Tyler Huntley  45.200001  58.454288  13.254288\n",
       "44        Mike White  46.200000  59.491511  13.291511\n",
       "3     Blaine Gabbert  40.200001  56.987778  16.787777\n",
       "36      Bailey Zappe  41.300000  60.912220  19.612220\n",
       "26    Mitch Trubisky  34.799999  58.251736  23.451736\n",
       "27       P.J. Walker  30.799999  58.105137  27.305138\n",
       "0      Aaron Rodgers  39.400002  73.667221  34.267220"
      ]
     },
     "execution_count": 331,
     "metadata": {},
     "output_type": "execute_result"
    }
   ],
   "source": [
    "# show 2023 predictions for all 48 QBs\n",
    "preds_df.sort_values('error')[['player', 'y_true', 'y_pred', 'error']]"
   ]
  },
  {
   "cell_type": "markdown",
   "metadata": {},
   "source": [
    "- You can see that for high-performing starting QBs, the sequence model had a tendency to predict a grade of 73-74 for all of these players."
   ]
  },
  {
   "cell_type": "markdown",
   "metadata": {},
   "source": [
    "# Conclusion\n",
    "- Unfortunately, the sequence models were not able to achieve a higher performance than the original Random Forest.\n",
    "- Our dataset was already small with less than 1000 training examples. Sequential data reduced this size by another 20%, and this is likely one of the main factors contributing to inadequate performance.\n",
    "- In the future, I will incorporate synthetic data to re-evaluate these models and aim for better performance. Stay tuned!"
   ]
  },
  {
   "cell_type": "code",
   "execution_count": null,
   "metadata": {},
   "outputs": [],
   "source": []
  }
 ],
 "metadata": {
  "kernelspec": {
   "display_name": "torch_kernel",
   "language": "python",
   "name": "torch_env"
  },
  "language_info": {
   "codemirror_mode": {
    "name": "ipython",
    "version": 3
   },
   "file_extension": ".py",
   "mimetype": "text/x-python",
   "name": "python",
   "nbconvert_exporter": "python",
   "pygments_lexer": "ipython3",
   "version": "3.8.17"
  },
  "latex_envs": {
   "LaTeX_envs_menu_present": true,
   "autoclose": false,
   "autocomplete": true,
   "bibliofile": "biblio.bib",
   "cite_by": "apalike",
   "current_citInitial": 1,
   "eqLabelWithNumbers": true,
   "eqNumInitial": 1,
   "hotkeys": {
    "equation": "Ctrl-E",
    "itemize": "Ctrl-I"
   },
   "labels_anchors": false,
   "latex_user_defs": false,
   "report_style_numbering": false,
   "user_envs_cfg": false
  },
  "toc": {
   "base_numbering": 1,
   "nav_menu": {},
   "number_sections": true,
   "sideBar": true,
   "skip_h1_title": false,
   "title_cell": "Table of Contents",
   "title_sidebar": "Contents",
   "toc_cell": false,
   "toc_position": {},
   "toc_section_display": true,
   "toc_window_display": false
  }
 },
 "nbformat": 4,
 "nbformat_minor": 4
}
